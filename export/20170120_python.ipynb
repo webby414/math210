{
 "cells": [
  {
   "cell_type": "markdown",
   "metadata": {},
   "source": [
    "# MATH 210\n",
    "\n",
    "## January 20, 2017\n",
    "\n",
    "Agenda:\n",
    "1. More about functions\n",
    "    * documentation strings\n",
    "2. Excercises"
   ]
  },
  {
   "cell_type": "markdown",
   "metadata": {},
   "source": [
    "## I. More about functions\n",
    "\n",
    "The syntax for function is\n",
    "\n",
    "1. Start with `def` keyword\n",
    "2. Choose a function name\n",
    "3. List of input parameters (within) parentheses ending with a colon:\n",
    "4. Body of the function is all indented 4 spaces\n",
    "5. Use `return` keyword to give the return value.\n",
    "6. Write a documentation string in the first line after the def"
   ]
  },
  {
   "cell_type": "markdown",
   "metadata": {},
   "source": [
    "Write a function called `harmonic_mean` which takes 1 input, a list of positive numbers and a non zero number $p$ and returns the [harmonic mean](https://en.wikipedia.org/wiki/Harmonic_mean) of the numbers in the list.\n",
    "![formula](https://wikimedia.org/api/rest_v1/media/math/render/svg/753130a05a1fab890e5785924b5bdbb5f97c8b6a)"
   ]
  },
  {
   "cell_type": "code",
   "execution_count": 10,
   "metadata": {
    "collapsed": false
   },
   "outputs": [],
   "source": [
    "def harmonic_mean(lon):\n",
    "    \"compute the harmonic mean of a list of positive numbers\"\n",
    "    ## we now need to consider the error where an x <= 0\n",
    "    \n",
    "    if min(lon)<=0:\n",
    "        print(\"ERROR: all number in the list must be greater than 0\")\n",
    "        return None\n",
    "    \n",
    "    else:\n",
    "        n = len(lon)\n",
    "        terms = [1/x for x in lon]\n",
    "        ## we can not put terms before the first if statement in the case that there is a zero\n",
    "        return n/sum(terms)"
   ]
  },
  {
   "cell_type": "code",
   "execution_count": 13,
   "metadata": {
    "collapsed": false
   },
   "outputs": [
    {
     "data": {
      "text/plain": [
       "[4, 1, 9, 10000]"
      ]
     },
     "execution_count": 13,
     "metadata": {},
     "output_type": "execute_result"
    }
   ],
   "source": [
    "[m**2 for m in [2,1,-3,100]]"
   ]
  },
  {
   "cell_type": "code",
   "execution_count": 12,
   "metadata": {
    "collapsed": false
   },
   "outputs": [
    {
     "data": {
      "text/plain": [
       "1.0"
      ]
     },
     "execution_count": 12,
     "metadata": {},
     "output_type": "execute_result"
    }
   ],
   "source": [
    "harmonic_mean([1,1])"
   ]
  },
  {
   "cell_type": "code",
   "execution_count": 11,
   "metadata": {
    "collapsed": false
   },
   "outputs": [
    {
     "name": "stdout",
     "output_type": "stream",
     "text": [
      "ERROR: all number in the list must be greater than 0\n"
     ]
    }
   ],
   "source": [
    "harmonic_mean([1,0,-1])"
   ]
  },
  {
   "cell_type": "markdown",
   "metadata": {},
   "source": [
    "## II. For Loops\n",
    "\n",
    "A `for` loop allows us to execute a block of code multiple times (with some parameters updated each time through the loop). The syntax for writing a for loop is:\n",
    "\n",
    "1. Start with the `for` keyword\n",
    "2. Choose a variable name followed by `in` and then a list (or iterable) to loop over and end the lone with a colon :\n",
    "3. A block of code indented 4 spaces which executes each time through the loop."
   ]
  },
  {
   "cell_type": "code",
   "execution_count": 2,
   "metadata": {
    "collapsed": false
   },
   "outputs": [
    {
     "name": "stdout",
     "output_type": "stream",
     "text": [
      "0 squared is 0\n",
      "1 squared is 1\n",
      "2 squared is 4\n",
      "3 squared is 9\n",
      "4 squared is 16\n",
      "5 squared is 25\n"
     ]
    }
   ],
   "source": [
    "for n in [0,1,2,3,4,5]:\n",
    "    square = n**2\n",
    "    [print(n, 'squared is', square)]"
   ]
  },
  {
   "cell_type": "markdown",
   "metadata": {},
   "source": [
    "Write a function `is_prime` which takes one inout parameter `n` and returns `true` or `false` depending on whether `n` is prime or not."
   ]
  },
  {
   "cell_type": "code",
   "execution_count": 39,
   "metadata": {
    "collapsed": true
   },
   "outputs": [],
   "source": [
    "def is_prime(n):\n",
    "    'Determine whether or not n is a prime number'\n",
    "    # n is prime if n is only divisable by 1 and itself.\n",
    "    # we should test whether n is divisable by d for all d < n\n",
    "    \n",
    "    if n <=1:\n",
    "        return False\n",
    "    \n",
    "    for d in range(2,n):\n",
    "        # check if n is divisable by d\n",
    "        if n % d == 0:\n",
    "            return False\n",
    "    # if we exit the for loop, then n is not divisable by any d\n",
    "    \n",
    "    return True\n",
    "    "
   ]
  },
  {
   "cell_type": "code",
   "execution_count": 25,
   "metadata": {
    "collapsed": false
   },
   "outputs": [
    {
     "data": {
      "text/plain": [
       "True"
      ]
     },
     "execution_count": 25,
     "metadata": {},
     "output_type": "execute_result"
    }
   ],
   "source": [
    "is_prime(2)"
   ]
  },
  {
   "cell_type": "code",
   "execution_count": 26,
   "metadata": {
    "collapsed": false
   },
   "outputs": [
    {
     "data": {
      "text/plain": [
       "True"
      ]
     },
     "execution_count": 26,
     "metadata": {},
     "output_type": "execute_result"
    }
   ],
   "source": [
    "is_prime(3)"
   ]
  },
  {
   "cell_type": "code",
   "execution_count": 40,
   "metadata": {
    "collapsed": false
   },
   "outputs": [
    {
     "name": "stdout",
     "output_type": "stream",
     "text": [
      "10007 is prime\n",
      "10009 is prime\n",
      "10037 is prime\n",
      "10039 is prime\n",
      "10061 is prime\n",
      "10067 is prime\n",
      "10069 is prime\n",
      "10079 is prime\n",
      "10091 is prime\n",
      "10093 is prime\n",
      "10099 is prime\n"
     ]
    }
   ],
   "source": [
    "for n in range(10000,10100):\n",
    "    if is_prime(n):\n",
    "        print(n, 'is prime')"
   ]
  },
  {
   "cell_type": "code",
   "execution_count": null,
   "metadata": {
    "collapsed": true
   },
   "outputs": [],
   "source": []
  }
 ],
 "metadata": {
  "kernelspec": {
   "display_name": "Python 3",
   "language": "python",
   "name": "python3"
  },
  "language_info": {
   "codemirror_mode": {
    "name": "ipython",
    "version": 3
   },
   "file_extension": ".py",
   "mimetype": "text/x-python",
   "name": "python",
   "nbconvert_exporter": "python",
   "pygments_lexer": "ipython3",
   "version": "3.5.2"
  }
 },
 "nbformat": 4,
 "nbformat_minor": 1
}
