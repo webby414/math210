{
 "cells": [
  {
   "cell_type": "markdown",
   "metadata": {},
   "source": [
    "# MATH 210 Introduction to Mathematical Computing\n",
    "\n",
    "## January 6, 2017\n",
    "\n",
    "Today's Agenda:\n",
    "1. Jupyter notebooks\n",
    "2. Markdown\n",
    "3. LaTex\n",
    "4. Excercises"
   ]
  },
  {
   "cell_type": "markdown",
   "metadata": {},
   "source": [
    "Changing between markdown and code Y and N. Green is for eiting and pressing escape will make it into command mode`"
   ]
  },
  {
   "cell_type": "markdown",
   "metadata": {},
   "source": [
    "## I. Jupyter Notebooks\n",
    "\n",
    "Check out the webpage [jupyter.org](http://jupyter.org)\n",
    "\n",
    "Square bracket is the text. Parenteses is the redirect location."
   ]
  },
  {
   "cell_type": "markdown",
   "metadata": {},
   "source": [
    "### Cells\n",
    "\n",
    "There are two kinds of cells: markdown and code cells. Notice hat the kind of cell is indicated in the toolbar\n",
    "\n",
    "Hit shift + enter to execute the contents of a cell.\n",
    "\n",
    "**markdown cells** contains:\n",
    "\n",
    "* markdown code\n",
    "* HTML\n",
    "* LaTex\n",
    "* Plain text\n",
    "* Images\n",
    "* Videos\n",
    "* *Anything* a browser can understand\n",
    "\n",
    "For more information about markdown use Googlee to see [daringfireball](http://daringfireball.net/projects/markdown/)"
   ]
  },
  {
   "cell_type": "markdown",
   "metadata": {},
   "source": [
    "### Modes\n",
    "\n",
    "There are two modes: **edit mode** and **command mode**. Press ESC to enter commande mode and ENTER to get into edit mode for a specific cell.\n",
    "\n",
    "Edit mode allows you to write.\n",
    "\n",
    "Command mode allows you to enter keyboard shortcuts to edit the notebooks itself.\n",
    "\n",
    "* **s** saves the notebook\n",
    "* **x** cuts the active cell\n",
    "* **a** inserts a new cell above the active cell\n"
   ]
  },
  {
   "cell_type": "markdown",
   "metadata": {},
   "source": [
    "## II. Markdown Language\n",
    "\n",
    "Markdown is an easy to read text format which converts to HTML.\n",
    "\n",
    "A few features:\n",
    "\n",
    "* create *italics* with asterisks `*italics*`\n",
    "* create **bold text** with double astericks `**bold text**`\n",
    "* enclose text in backticks \\`...\\` to display plain text with no formatting\n",
    "* creating a link [link](https://www.math.ubc.ca) with brackets `[link](https://www.math.ubc.ca)`\n",
    "* display an image with a leading exclaimation point ! \n",
    "\n",
    "![Phyton logo](https://www.python.org/static/community_logos/python-logo-master-v3-TM.png)\n",
    "(Image courtesy of [phyton.org](https://phython.org))\n",
    "\n",
    "\n",
    "* create headings with `#`\n",
    "* create ordered and unordered lists with numbers and unordered lists with `*` astericks"
   ]
  },
  {
   "cell_type": "markdown",
   "metadata": {},
   "source": [
    "## III. LaText\n",
    "\n",
    "LaText is a typesetting language for mathematics.\n",
    "\n",
    "Enclose LaText code with dollar signs \\$ ... \\$ to display math equations inline. For example, the code `\\int_a^b f(x) dx = F(b) - F(a)` renders as $\\int_a^b f(x) dx = F(b) - F(a)$\n",
    "\n",
    "Enclose LaText code with dollar signs \\$\\$ ... \\$\\$ to display math equations in a sepparate paragrah. For example, the code `\\int_a^b f(x) dx = F(b) - F(a)` renders as $$\\int_a^b f(x) dx = F(b) - F(a)$$"
   ]
  },
  {
   "cell_type": "code",
   "execution_count": null,
   "metadata": {
    "collapsed": true
   },
   "outputs": [],
   "source": []
  }
 ],
 "metadata": {
  "kernelspec": {
   "display_name": "Python 3",
   "language": "python",
   "name": "python3"
  },
  "language_info": {
   "codemirror_mode": {
    "name": "ipython",
    "version": 3
   },
   "file_extension": ".py",
   "mimetype": "text/x-python",
   "name": "python",
   "nbconvert_exporter": "python",
   "pygments_lexer": "ipython3",
   "version": "3.5.2"
  }
 },
 "nbformat": 4,
 "nbformat_minor": 1
}
