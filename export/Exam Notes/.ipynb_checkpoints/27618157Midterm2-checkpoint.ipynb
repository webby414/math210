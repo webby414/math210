{
 "cells": [
  {
   "cell_type": "markdown",
   "metadata": {},
   "source": [
    "# 27618157 Midterm 2\n",
    "DHIRA KHEWSUBTRAKOOL\n",
    "March 23, 2017"
   ]
  },
  {
   "cell_type": "code",
   "execution_count": null,
   "metadata": {
    "collapsed": true
   },
   "outputs": [],
   "source": [
    "import numpy as np\n",
    "import matplotlib.pyplot as plt\n",
    "import scipy.integrate as spi\n",
    "import scipy.linalg as la\n",
    "from numpy.linalg import matrix_power as mpow\n",
    "from scipy.misc import derivative\n",
    "from scipy.misc import factorial\n",
    "%matplotlib inline"
   ]
  },
  {
   "cell_type": "markdown",
   "metadata": {},
   "source": [
    "## Question 1a"
   ]
  },
  {
   "cell_type": "markdown",
   "metadata": {},
   "source": [
    "$$\n",
    "\\int_0^u e^{-q^2x^2} dx = \\frac{\\sqrt{\\pi}}{2q} \\Phi (qu) \\ \\ , \\ \\ q>0\n",
    "$$"
   ]
  },
  {
   "cell_type": "markdown",
   "metadata": {},
   "source": [
    "## Question 1b"
   ]
  },
  {
   "cell_type": "code",
   "execution_count": null,
   "metadata": {
    "collapsed": true
   },
   "outputs": [],
   "source": [
    "def equ_integral(q,u):\n",
    "    '''Solves the definite integral e^{-q^2x^2} from 0 to u\n",
    "    \n",
    "    INPUT PARAMETERS:\n",
    "        q = number (larger than 0)\n",
    "        u = number'''\n",
    "    \n",
    "    # defining the function for the integral\n",
    "    def f(x):\n",
    "        return np.exp(-q**2 * x**2)\n",
    "    \n",
    "    I, error = spi.quad(f,0,u)\n",
    "    \n",
    "    return I"
   ]
  },
  {
   "cell_type": "code",
   "execution_count": null,
   "metadata": {
    "collapsed": false,
    "scrolled": true
   },
   "outputs": [],
   "source": [
    "equ_integral(2,1)"
   ]
  },
  {
   "cell_type": "markdown",
   "metadata": {},
   "source": [
    "## Question 2a"
   ]
  },
  {
   "cell_type": "markdown",
   "metadata": {},
   "source": [
    "$$\n",
    "\\begin{bmatrix} 1 & a & b\\\\ 0 & 1 & c\\\\ 0 & 0 & 1 \\end{bmatrix} \\begin{bmatrix} x \\\\ y \\\\ z \\end{bmatrix} = \\begin{bmatrix} 1 & 0 & 0\\\\ a & 1 & 0\\\\ b & c & 1 \\end{bmatrix} \\begin{bmatrix} a \\\\ b \\\\ c \\end{bmatrix}\n",
    "$$"
   ]
  },
  {
   "cell_type": "markdown",
   "metadata": {},
   "source": [
    "## Question 2b"
   ]
  },
  {
   "cell_type": "code",
   "execution_count": null,
   "metadata": {
    "collapsed": true
   },
   "outputs": [],
   "source": [
    "def solve_abc(a,b,c):\n",
    "    '''solves a matrix system of Ax=b\n",
    "    \n",
    "    INPUT PARAMETERS:\n",
    "        a = number\n",
    "        b = number\n",
    "        c = number'''\n",
    "    \n",
    "    # setting the A matrix\n",
    "    A = np.array([[1,a,b],[0,1,c],[0,0,1]])\n",
    "    # setting the b matrix\n",
    "    b = np.array([[1,0,0],[a,1,0],[b,c,1]]) @ np.array([[a],[b],[c]])\n",
    "    \n",
    "    return la.solve(A,b)\n",
    "    "
   ]
  },
  {
   "cell_type": "markdown",
   "metadata": {},
   "source": [
    "## Question 3"
   ]
  },
  {
   "cell_type": "code",
   "execution_count": null,
   "metadata": {
    "collapsed": true
   },
   "outputs": [],
   "source": [
    "def d_composed(f,g,a=0,h=0.001):\n",
    "    '''Finds the derivative of the function composition of f(g(x))\n",
    "    \n",
    "    INPUT PARAMETERS:\n",
    "        f = function\n",
    "        g = gunction\n",
    "        a = number (point at which the derivative is evaluated)\n",
    "        h = number (step size for derivative approximation)'''\n",
    "    # defining the function composition\n",
    "    def F(x):\n",
    "        # getting the point at which f(x) is to be evaluated from the g function\n",
    "        p = g(x)\n",
    "        return f(p)\n",
    "    \n",
    "    sol = (F(a+h)-F(a-h)) / (2*h)\n",
    "    \n",
    "    return sol"
   ]
  },
  {
   "cell_type": "markdown",
   "metadata": {},
   "source": [
    "## Question 4"
   ]
  },
  {
   "cell_type": "code",
   "execution_count": null,
   "metadata": {
    "collapsed": true
   },
   "outputs": [],
   "source": [
    "def arc_length(f,a,b):\n",
    "    '''Approximates the arclength of a curve f(x)\n",
    "    \n",
    "    INPUT PARAMETERS:\n",
    "        f = function\n",
    "        a = number (lower bound of interval of evaluation)\n",
    "        b = number (upper bound of interval of evaluation)'''\n",
    "    \n",
    "    # defining the derivative function \n",
    "    def f_prime(x):\n",
    "        derv = derivative(f, x)\n",
    "        return derv\n",
    "    # defining the function for the definite integral formula\n",
    "    def func(x):\n",
    "        return np.sqrt(1 + (f_prime(x))**2)\n",
    "    # decomposing the result of the integral\n",
    "    I, error = spi.quad(func,a,b)\n",
    "    \n",
    "    return I"
   ]
  },
  {
   "cell_type": "code",
   "execution_count": null,
   "metadata": {
    "collapsed": false
   },
   "outputs": [],
   "source": [
    "# example with straight line f(x)=x from 0 to 1 to create triangle at 45 degrees\n",
    "\n",
    "def f(x):\n",
    "    return x"
   ]
  },
  {
   "cell_type": "code",
   "execution_count": null,
   "metadata": {
    "collapsed": false,
    "scrolled": false
   },
   "outputs": [],
   "source": [
    "arc_length(f,0,1)"
   ]
  },
  {
   "cell_type": "code",
   "execution_count": null,
   "metadata": {
    "collapsed": false
   },
   "outputs": [],
   "source": [
    "np.sqrt(2)"
   ]
  },
  {
   "cell_type": "markdown",
   "metadata": {},
   "source": [
    "## Question 5"
   ]
  },
  {
   "cell_type": "code",
   "execution_count": null,
   "metadata": {
    "collapsed": false
   },
   "outputs": [],
   "source": [
    "def moments(f,n,a,c=0):\n",
    "    '''Determines multiple definite integrals of (x-c)**k * f(x) \n",
    "    set by the n and c parameter over the interval [-a,a]\n",
    "    \n",
    "    INPUT PARAMETERS:\n",
    "        f = function\n",
    "        n = integer\n",
    "        a = number (bounds)\n",
    "        c = number (variable for the function)'''\n",
    "    \n",
    "    # initializing the resulting list\n",
    "    m_list = []\n",
    "    # for loop recursion for m0, m1,...,mk definite integrals\n",
    "    for k in range(0,n+1):   \n",
    "        # defining the definite integral for each loop\n",
    "        def func(x):\n",
    "            return (x-c)**k * f(x)\n",
    "        # decomposing the definite integral's answers\n",
    "        mk, error = spi.quad(func,-a,a)\n",
    "        # appending result to the accumulator\n",
    "        m_list.append(mk)\n",
    "        # making the solution list into a numpy array.\n",
    "        sol_list = np.array(m_list)\n",
    "    \n",
    "    return sol_list"
   ]
  },
  {
   "cell_type": "markdown",
   "metadata": {},
   "source": [
    "## Question 6"
   ]
  },
  {
   "cell_type": "code",
   "execution_count": null,
   "metadata": {
    "collapsed": false
   },
   "outputs": [],
   "source": [
    "def max_dot(A):\n",
    "    '''Given a matrix A, returns the maximum of dot products ui dot uj \n",
    "    (where i cannot equal j) of the different rows of A.\n",
    "    \n",
    "    INPUT PARAMETERS:\n",
    "        A = 2D NumPy array'''\n",
    "    \n",
    "    # finding out how many rows there are to set the for loops recursions\n",
    "    row, col = A.shape\n",
    "    # initializing an accumulator to collect all dot product combinations\n",
    "    dots = []\n",
    "    # setting a double for loop to operate on every row combination possible\n",
    "    for i in range(0,row):\n",
    "        for j in range(0,row):\n",
    "            # setting a condition not to operate when the combination of row\n",
    "            # dot row is of the same row\n",
    "            if not(i==j):\n",
    "                # method for dot product\n",
    "                v = A[i,:]\n",
    "                w = A[j,:]\n",
    "                dot = np.sum(v * w)\n",
    "                dots.append(dot)\n",
    "    return max(dots)\n",
    "            "
   ]
  },
  {
   "cell_type": "code",
   "execution_count": null,
   "metadata": {
    "collapsed": false,
    "scrolled": true
   },
   "outputs": [],
   "source": [
    "A = np.array([[1,1,1],[2,2,2],[3,3,3]])\n",
    "max_dot(A)\n",
    "# correct answer is 18 since row3 dot row2 is max since row3 \n",
    "# dot row 3 is not allowed"
   ]
  },
  {
   "cell_type": "markdown",
   "metadata": {},
   "source": [
    "## Question 7"
   ]
  },
  {
   "cell_type": "code",
   "execution_count": null,
   "metadata": {
    "collapsed": true,
    "deletable": true,
    "editable": true
   },
   "outputs": [],
   "source": [
    "def det_plot(A,a,b):\n",
    "    '''Given a matrix plot the function f(x)=det(A-xI) on the interval [a,b]\n",
    "    \n",
    "    INPUT PARAMETERS:\n",
    "        A = np.array (square matrix)\n",
    "        a = number (lower bound of interval of plot)\n",
    "        b = number (upper bound of interval of plot)'''\n",
    "    # finding how many rows their are in the given matrix\n",
    "    n, m = A.shape \n",
    "    # setting the list of x coordinates \n",
    "    x = np.linspace(a,b,100)\n",
    "    \n",
    "    # creating a list of y coordinates. Apparently I couldn't define a\n",
    "    # function def f(x):\n",
    "    #             return la.det(A - (t*np.eye(n))). \n",
    "    # This method worked better    \n",
    "    p_list = []\n",
    "    # for loop to process every x coordinate\n",
    "    for t in x:\n",
    "        # resulting y coordinate\n",
    "        element = la.det(A - (t*np.eye(n)))\n",
    "        # adding the y coordinate to the list of y coordinates\n",
    "        p_list.append(element)\n",
    "   \n",
    "    # making list of y-coordinates into a numpy array like the list of \n",
    "    # x-coordinates\n",
    "    \n",
    "    # setting y\n",
    "    y = np.array(p_list)        \n",
    "    \n",
    "    # return the plot of x,y\n",
    "    return plt.plot(x,y)"
   ]
  },
  {
   "cell_type": "code",
   "execution_count": null,
   "metadata": {
    "collapsed": false,
    "deletable": true,
    "editable": true
   },
   "outputs": [],
   "source": [
    "A = np.random.randint(0,10,[3,3])\n",
    "det_plot(A,-10,10)"
   ]
  }
 ],
 "metadata": {
  "kernelspec": {
   "display_name": "Python 3",
   "language": "python",
   "name": "python3"
  },
  "language_info": {
   "codemirror_mode": {
    "name": "ipython",
    "version": 3
   },
   "file_extension": ".py",
   "mimetype": "text/x-python",
   "name": "python",
   "nbconvert_exporter": "python",
   "pygments_lexer": "ipython3",
   "version": "3.5.2"
  }
 },
 "nbformat": 4,
 "nbformat_minor": 2
}
