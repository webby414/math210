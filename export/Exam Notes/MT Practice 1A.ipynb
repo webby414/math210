{
 "cells": [
  {
   "cell_type": "markdown",
   "metadata": {},
   "source": [
    "# MT 1 Practice 1A"
   ]
  },
  {
   "cell_type": "code",
   "execution_count": 2,
   "metadata": {
    "collapsed": true
   },
   "outputs": [],
   "source": [
    "import numpy as np\n",
    "import matplotlib.pyplot as plt\n",
    "%matplotlib inline"
   ]
  },
  {
   "cell_type": "code",
   "execution_count": 3,
   "metadata": {
    "collapsed": false
   },
   "outputs": [],
   "source": [
    "def divide_either(m,n):\n",
    "    return [x for x in range(1,max([m,n])+1) if (m % x == 0 or n % x == 0)]"
   ]
  },
  {
   "cell_type": "code",
   "execution_count": 4,
   "metadata": {
    "collapsed": false
   },
   "outputs": [
    {
     "data": {
      "text/plain": [
       "[1, 2, 3, 5, 6, 9, 15, 18]"
      ]
     },
     "execution_count": 4,
     "metadata": {},
     "output_type": "execute_result"
    }
   ],
   "source": [
    "divide_either(18,15)"
   ]
  },
  {
   "cell_type": "code",
   "execution_count": 5,
   "metadata": {
    "collapsed": true
   },
   "outputs": [],
   "source": [
    "def a_sequence(a,N):\n",
    "    x = a\n",
    "    \n",
    "    for i in range(1,N):\n",
    "        \n",
    "        x = x + (2/x)\n",
    "        \n",
    "    return x "
   ]
  },
  {
   "cell_type": "code",
   "execution_count": 6,
   "metadata": {
    "collapsed": false
   },
   "outputs": [
    {
     "data": {
      "text/plain": [
       "3.0"
      ]
     },
     "execution_count": 6,
     "metadata": {},
     "output_type": "execute_result"
    }
   ],
   "source": [
    "a_sequence(1,2)"
   ]
  },
  {
   "cell_type": "code",
   "execution_count": 7,
   "metadata": {
    "collapsed": false
   },
   "outputs": [
    {
     "data": {
      "text/plain": [
       "8.727928256697213"
      ]
     },
     "execution_count": 7,
     "metadata": {},
     "output_type": "execute_result"
    }
   ],
   "source": [
    "a_sequence(8,4)"
   ]
  },
  {
   "cell_type": "code",
   "execution_count": 8,
   "metadata": {
    "collapsed": true
   },
   "outputs": [],
   "source": [
    "def arctan_taylor(x,N):\n",
    "    if x > 1 or x < -1:\n",
    "        return \"none\"\n",
    "    \n",
    "    else:\n",
    "        taylor = []\n",
    "        \n",
    "        for n in range(0,N+1):\n",
    "            \n",
    "            element = ((-1)**n)*(x**(2*n + 1))/(2*n + 1)\n",
    "            \n",
    "            taylor.append(element)\n",
    "        return np.sum(taylor)"
   ]
  },
  {
   "cell_type": "code",
   "execution_count": 9,
   "metadata": {
    "collapsed": false
   },
   "outputs": [
    {
     "data": {
      "text/plain": [
       "0.78539818839744702"
      ]
     },
     "execution_count": 9,
     "metadata": {},
     "output_type": "execute_result"
    }
   ],
   "source": [
    "arctan_taylor(1,10000000)"
   ]
  },
  {
   "cell_type": "code",
   "execution_count": 10,
   "metadata": {
    "collapsed": false
   },
   "outputs": [
    {
     "data": {
      "text/plain": [
       "0.7853981633974483"
      ]
     },
     "execution_count": 10,
     "metadata": {},
     "output_type": "execute_result"
    }
   ],
   "source": [
    "0.25*np.pi"
   ]
  },
  {
   "cell_type": "code",
   "execution_count": 12,
   "metadata": {
    "collapsed": false
   },
   "outputs": [
    {
     "data": {
      "text/plain": [
       "[<matplotlib.lines.Line2D at 0x7fc3ea881f28>]"
      ]
     },
     "execution_count": 12,
     "metadata": {},
     "output_type": "execute_result"
    },
    {
     "data": {
      "image/png": "[encoded data removed]",
      "text/plain": [
       "<matplotlib.figure.Figure at 0x7fc41d5b9630>"
      ]
     },
     "metadata": {},
     "output_type": "display_data"
    }
   ],
   "source": [
    "t = np.linspace(0,3,100)\n",
    "y = 0.5 - (1/np.pi)*(np.sin(2*np.pi*t) + np.sin(4*np.pi*t)/2 + np.sin(6*np.pi*t)/3)\n",
    "\n",
    "plt.plot(t,y)"
   ]
  },
  {
   "cell_type": "code",
   "execution_count": 35,
   "metadata": {
    "collapsed": false
   },
   "outputs": [],
   "source": [
    "def elliptic(A,B,C,x_range):\n",
    "    \n",
    "    def is_square(x):\n",
    "        if x < 0:\n",
    "            return False\n",
    "        else:\n",
    "            return round(x**0.5)**2 == x\n",
    "        \n",
    "    a = x_range[0]\n",
    "    b = x_range[1]\n",
    "    sol_list = []\n",
    "    \n",
    "    for x in range(a,b+1):\n",
    "        \n",
    "        y_square = A*x**3 + B*x + C\n",
    "        \n",
    "        if is_square(y_square):\n",
    "            \n",
    "            y = y_square**0.5\n",
    "            \n",
    "            if y == 0:\n",
    "                element1 = [x,y]\n",
    "                sol_list.append(element1)\n",
    "            else:\n",
    "                element1 = [x,y]\n",
    "                element2 = [x,-y]\n",
    "                \n",
    "                sol_list.append(element1)\n",
    "                sol_list.append(element2)\n",
    "            \n",
    "    return sol_list          \n",
    "            "
   ]
  },
  {
   "cell_type": "code",
   "execution_count": 36,
   "metadata": {
    "collapsed": false
   },
   "outputs": [
    {
     "data": {
      "text/plain": [
       "[[-1, 0.0], [0, 1.0], [0, -1.0], [2, 3.0], [2, -3.0]]"
      ]
     },
     "execution_count": 36,
     "metadata": {},
     "output_type": "execute_result"
    }
   ],
   "source": [
    "elliptic(1,0,1,[-1,2])"
   ]
  },
  {
   "cell_type": "code",
   "execution_count": null,
   "metadata": {
    "collapsed": true
   },
   "outputs": [],
   "source": []
  },
  {
   "cell_type": "code",
   "execution_count": null,
   "metadata": {
    "collapsed": true
   },
   "outputs": [],
   "source": []
  }
 ],
 "metadata": {
  "kernelspec": {
   "display_name": "Python 3",
   "language": "python",
   "name": "python3"
  },
  "language_info": {
   "codemirror_mode": {
    "name": "ipython",
    "version": 3
   },
   "file_extension": ".py",
   "mimetype": "text/x-python",
   "name": "python",
   "nbconvert_exporter": "python",
   "pygments_lexer": "ipython3",
   "version": "3.5.2"
  }
 },
 "nbformat": 4,
 "nbformat_minor": 1
}
