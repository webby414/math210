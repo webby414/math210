{
 "cells": [
  {
   "cell_type": "markdown",
   "metadata": {
    "deletable": true,
    "editable": true
   },
   "source": [
    "# 27618157 Midterm 1\n",
    "DHIRA KHEWSUBTRAKOOL\n",
    "March 2, 2017"
   ]
  },
  {
   "cell_type": "code",
   "execution_count": null,
   "metadata": {
    "collapsed": true,
    "deletable": true,
    "editable": true
   },
   "outputs": [],
   "source": [
    "import numpy as np\n",
    "import matplotlib.pyplot as plt\n",
    "%matplotlib inline"
   ]
  },
  {
   "cell_type": "markdown",
   "metadata": {
    "deletable": true,
    "editable": true
   },
   "source": [
    "## Question 1a"
   ]
  },
  {
   "cell_type": "markdown",
   "metadata": {
    "deletable": true,
    "editable": true
   },
   "source": [
    "$$\n",
    "\\tan{\\left(\\frac{\\pi x}{2}\\right)}=\\frac{4x}{\\pi}\\sum_{k=1}^{\\infty}\\frac{1}{(2k-1)^2-x^2}\n",
    "$$"
   ]
  },
  {
   "cell_type": "markdown",
   "metadata": {
    "deletable": true,
    "editable": true
   },
   "source": [
    "## Question 1b"
   ]
  },
  {
   "cell_type": "code",
   "execution_count": null,
   "metadata": {
    "collapsed": false,
    "deletable": true,
    "editable": true
   },
   "outputs": [],
   "source": [
    "def k_sum(x,N):\n",
    "    '''Computes the product of (4x/pi) and the sum of 1/((2k-1)^2-x^2)\n",
    "    \n",
    "    INPUT PARAMETERS:\n",
    "    N = (interger)\n",
    "        thenumber of summation taken\n",
    "    x = integer \n",
    "        value that is not in the interval [1,2N-1]'''\n",
    "    \n",
    "    # checks for validity of equations\n",
    "    if (x % 2 != 0) and (x >=1 and x < (2*N -1)):\n",
    "        print(\"ERROR: x is an odd integer or in the interval [1, 2N - 1]\")\n",
    "        return None\n",
    "        \n",
    "    else:\n",
    "        # initializing the recursion\n",
    "        series = []\n",
    "    \n",
    "        # for loop recursion\n",
    "        for k in range(1,N+1):\n",
    "            # creating the new element of the sum\n",
    "            element = 1 / ((2*k - 1)**2 - x**2)\n",
    "            # appending that to list of elements\n",
    "            series.append(element)\n",
    "    \n",
    "        # returns the multiplication of (4x/pi) and the summation of the list of elements\n",
    "        return (4*x/np.pi)*sum(series)"
   ]
  },
  {
   "cell_type": "code",
   "execution_count": null,
   "metadata": {
    "collapsed": false,
    "deletable": true,
    "editable": true,
    "scrolled": false
   },
   "outputs": [],
   "source": [
    "np.tan(np.pi/4)"
   ]
  },
  {
   "cell_type": "code",
   "execution_count": null,
   "metadata": {
    "collapsed": false,
    "deletable": true,
    "editable": true,
    "scrolled": true
   },
   "outputs": [],
   "source": [
    "k_sum(1/2, 100000)"
   ]
  },
  {
   "cell_type": "code",
   "execution_count": null,
   "metadata": {
    "collapsed": false,
    "deletable": true,
    "editable": true
   },
   "outputs": [],
   "source": [
    "k_sum(3, 100000)"
   ]
  },
  {
   "cell_type": "markdown",
   "metadata": {
    "deletable": true,
    "editable": true
   },
   "source": [
    "## Question 2a"
   ]
  },
  {
   "cell_type": "markdown",
   "metadata": {
    "deletable": true,
    "editable": true
   },
   "source": [
    "$$\n",
    "\\frac{2}{\\pi} = \\sqrt{\\frac{1}{2}} \\cdot \\sqrt{\\frac{1}{2} + \\frac{1}{2} \\sqrt{\\frac{1}{2}}} \\cdot \\sqrt{\\frac{1}{2} + \\frac{1}{2} \\sqrt{\\frac{1}{2} + \\frac{1}{2} \\sqrt{\\frac{1}{2}}}}\n",
    "$$"
   ]
  },
  {
   "cell_type": "markdown",
   "metadata": {
    "deletable": true,
    "editable": true
   },
   "source": [
    "## Question 2b"
   ]
  },
  {
   "cell_type": "code",
   "execution_count": null,
   "metadata": {
    "collapsed": false,
    "deletable": true,
    "editable": true
   },
   "outputs": [],
   "source": [
    "def a_product(d,N):\n",
    "    '''Computes the product of a sequence where a_0 = sqrt(d) and a_{k+1} = sqrt(d + a_k*d)\n",
    "    \n",
    "    INPUT PARAMETERS:\n",
    "    d = (float)\n",
    "        free variable\n",
    "    \n",
    "    N = (integer)\n",
    "        number of products taken'''\n",
    "    \n",
    "    # initializing the list of terms of the sequence of products\n",
    "    p_list = [np.sqrt(d)]\n",
    "    \n",
    "    # initializing the elements of the sequence of products a0\n",
    "    element = np.sqrt(d)\n",
    "    \n",
    "    # initializing the product\n",
    "    product = 1\n",
    "    \n",
    "    # for loop recursion to create the list of terms of the sequence of products    \n",
    "    for k in range(1,N+1):\n",
    "        # creating the next term in the sequence of products\n",
    "        element = np.sqrt(d + d*element)\n",
    "        #appending the element to the list of terms\n",
    "        p_list.append(element)\n",
    "    \n",
    "    # for loop recursion to multiply the terms of the sequence of products together\n",
    "    for i in p_list:\n",
    "        \n",
    "        # multiplyign the next element with the previous result of multiplication\n",
    "        product = product * i\n",
    "    \n",
    "    # returns the product\n",
    "    return product"
   ]
  },
  {
   "cell_type": "code",
   "execution_count": null,
   "metadata": {
    "collapsed": false,
    "deletable": true,
    "editable": true
   },
   "outputs": [],
   "source": [
    "2/np.pi"
   ]
  },
  {
   "cell_type": "code",
   "execution_count": null,
   "metadata": {
    "collapsed": false,
    "deletable": true,
    "editable": true
   },
   "outputs": [],
   "source": [
    "a_product(0.5, 10000)"
   ]
  },
  {
   "cell_type": "markdown",
   "metadata": {
    "deletable": true,
    "editable": true
   },
   "source": [
    "## Question 3"
   ]
  },
  {
   "cell_type": "code",
   "execution_count": null,
   "metadata": {
    "collapsed": false,
    "deletable": true,
    "editable": true
   },
   "outputs": [],
   "source": [
    "def b_product(b):\n",
    "    '''computes the product of a sequence created by a given list of numbers\n",
    "    \n",
    "    INPUT PARAMETERS:\n",
    "    b =  a python list of numbers'''\n",
    "    \n",
    "    # initializing the product\n",
    "    product = 1\n",
    "    # context preserving accumulator (tracks the Nth term of the product sequence)\n",
    "    k = 1\n",
    "    \n",
    "    # natural recursion for computing the product of the sequence\n",
    "    for bk in b:\n",
    "        # creating a new product as a result of a new term from the list of b an the previous result\n",
    "        product = (1 + (bk**2)/k) * product\n",
    "        \n",
    "        # sets the context for the next term. so that the next bn value can be referenced from the input list\n",
    "        k = k + 1\n",
    "        \n",
    "    return product"
   ]
  },
  {
   "cell_type": "code",
   "execution_count": null,
   "metadata": {
    "collapsed": false,
    "deletable": true,
    "editable": true
   },
   "outputs": [],
   "source": [
    "(1+ 1/1)*(1+ (2**2)/2)*(1+ (3**2)/3)"
   ]
  },
  {
   "cell_type": "code",
   "execution_count": null,
   "metadata": {
    "collapsed": false,
    "deletable": true,
    "editable": true
   },
   "outputs": [],
   "source": [
    "b_product([1,2,3])"
   ]
  },
  {
   "cell_type": "markdown",
   "metadata": {
    "deletable": true,
    "editable": true
   },
   "source": [
    "## Question 4"
   ]
  },
  {
   "cell_type": "code",
   "execution_count": null,
   "metadata": {
    "collapsed": false,
    "deletable": true,
    "editable": true
   },
   "outputs": [],
   "source": [
    "def sum_plot(alpha, N, a, b):\n",
    "    '''Given the parameter alpha, N, a and b the function plots the function \n",
    "    \\sum_{k=1}^N (-1)^k(cos(2kxpi))/(k^2 + alpha^2) over the interval [a,b]'\n",
    "    \n",
    "    INPUT PARAMETERS:\n",
    "    alpha = (number) \n",
    "            free variable\n",
    "    N = (integer)\n",
    "        number of terms in summation of the function\n",
    "    a = (number) \n",
    "        lower bound of the interval for plotting\n",
    "    b = (number)\n",
    "        upper bound of the interval for plotting\n",
    "    '''\n",
    "    \n",
    "    # helper function\n",
    "    def f_function(x1,i):\n",
    "        '''Computes the y value at a given point x1 with the summation of i terms'''\n",
    "        \n",
    "        # initializing the series\n",
    "        terms = []\n",
    "        # natural recursion to build the series\n",
    "        for k in range(1,i+1):\n",
    "            # creating a term\n",
    "            element = (((-1)**k) * (np.cos(2*np.pi*k*x1)))/(k**2 + alpha**2)\n",
    "            # adding the new term to the list of ele\n",
    "            terms.append(element)\n",
    "        # summing the terms of the list\n",
    "        return sum(terms)\n",
    "    \n",
    "    # creating lists of x and y values\n",
    "    x = np.linspace(a,b, 1000)\n",
    "    y = f_function(x,N)\n",
    "    \n",
    "    # plots\n",
    "    return plt.plot(x,y), plt.axis('equal');"
   ]
  },
  {
   "cell_type": "code",
   "execution_count": null,
   "metadata": {
    "collapsed": false,
    "deletable": true,
    "editable": true
   },
   "outputs": [],
   "source": [
    "sum_plot(2, 3, 1, 3)"
   ]
  },
  {
   "cell_type": "markdown",
   "metadata": {
    "deletable": true,
    "editable": true
   },
   "source": [
    "## Question 5"
   ]
  },
  {
   "cell_type": "code",
   "execution_count": null,
   "metadata": {
    "collapsed": true,
    "deletable": true,
    "editable": true
   },
   "outputs": [],
   "source": [
    "def c_sequence(a,b):\n",
    "    '''Generate a sequence of summations of length N given by list_a (a0....aN) and list_b (b0....bN)\n",
    "    of numbers. The terms in the sequence a_n is determined by the summation \\sum_{k=0}^n a_k*b_{n-k}\n",
    "    \n",
    "    INPUT PARAMETERS:\n",
    "    \n",
    "    a = listof numbers\n",
    "    b = listof numbers'''\n",
    "    \n",
    "    # determine the N value\n",
    "    N = len(a)\n",
    "    # initializing the result list\n",
    "    c_list = [a[0]*b[0]]\n",
    "    # double natural for loop recursion to create the\n",
    "    for n in range(1,N):\n",
    "        # initializing the list for summation for each term\n",
    "        cn_list = []\n",
    "        # for loop to make the list for summation. Setting the k value for indexing\n",
    "        for k in range(0,n+1):\n",
    "            # making the element for summation with indexed number from the given list\n",
    "            element = a[k]*b[n-k]\n",
    "            # append element to list for summation\n",
    "            cn_list.append(element)\n",
    "        # summing the list\n",
    "        cn_sum = sum(cn_list)\n",
    "        # adding the result of the sum as an element for the resulting list\n",
    "        c_list.append(cn_sum)\n",
    "    \n",
    "    return c_list"
   ]
  },
  {
   "cell_type": "code",
   "execution_count": null,
   "metadata": {
    "collapsed": false,
    "deletable": true,
    "editable": true
   },
   "outputs": [],
   "source": [
    "A = [1,2,3]\n",
    "B = [1,2,3]\n",
    "\n",
    "[(1*1), ((1*2)+(2*1)), ((1*3)+(2*2)+(3*1))]"
   ]
  },
  {
   "cell_type": "code",
   "execution_count": null,
   "metadata": {
    "collapsed": false,
    "deletable": true,
    "editable": true
   },
   "outputs": [],
   "source": [
    "c_sequence(A,B)"
   ]
  },
  {
   "cell_type": "markdown",
   "metadata": {
    "deletable": true,
    "editable": true
   },
   "source": [
    "## Question 6"
   ]
  },
  {
   "cell_type": "code",
   "execution_count": null,
   "metadata": {
    "collapsed": false,
    "deletable": true,
    "editable": true
   },
   "outputs": [],
   "source": [
    "def parametric_plots(a,k):\n",
    "    '''Produce parametric plots with a given list of a and k variables of equal length\n",
    "    where x(t)=2kncos(t)- ancos(knt) and y(t)=2knsin(t)- ansin(knt) for t in [0,2pi]\n",
    "    \n",
    "    INPUT PARAMETERS:\n",
    "    a = listof numbers\n",
    "    b = listof numbers'''\n",
    "    \n",
    "    # obtaining the length of the lists\n",
    "    N = len(a) \n",
    "    # initializing \n",
    "    t = np.linspace(0,2*np.pi,200)\n",
    "    \n",
    "    # setting parameters for the plots and subplots\n",
    "    plt.figure(figsize=(3*N,N))\n",
    "    plt.subplot(1,N,1)\n",
    "    \n",
    "    # recursions to generate each subpolot\n",
    "    for n in range(0,N):\n",
    "        plot_n = n + 1\n",
    "        an = a[n]\n",
    "        kn = k[n]\n",
    "        \n",
    "        # calculating x and y values\n",
    "        x = 2*kn*np.sin(t) - an*np.sin(kn*t)\n",
    "        y = 2*kn*np.cos(t) - an*np.cos(kn*t)\n",
    "        \n",
    "        # plotting subplots and their properties\n",
    "        plt.subplot(1,N,plot_n)\n",
    "        plt.plot(x,y)\n",
    "        plt.axis('equal')\n",
    "        plt.title('a=' + str(an) + ' b=' + str(kn))"
   ]
  },
  {
   "cell_type": "code",
   "execution_count": null,
   "metadata": {
    "collapsed": false,
    "deletable": true,
    "editable": true
   },
   "outputs": [],
   "source": [
    "parametric_plots([1,2,3,4],[1,2,3,4])"
   ]
  },
  {
   "cell_type": "markdown",
   "metadata": {
    "deletable": true,
    "editable": true
   },
   "source": [
    "# Question 7"
   ]
  },
  {
   "cell_type": "code",
   "execution_count": null,
   "metadata": {
    "collapsed": false,
    "deletable": true,
    "editable": true
   },
   "outputs": [],
   "source": [
    "def f_plot(N):\n",
    "    '''Generates a list of values using the function n* product of sequence of \n",
    "    values determined (1-1/p) where the product is over primes p which divides n. \n",
    "    Then outputs a graph of the list of points\n",
    "    \n",
    "    INPUT PARAMETER:\n",
    "    N = an integer >0\n",
    "    '''\n",
    "    # helper function\n",
    "    def is_prime(p):\n",
    "        '''Determine if N is a prime number.'''\n",
    "        if p < 2:\n",
    "            return False\n",
    "        else:\n",
    "            # Test if N is divisible by d for all d <= N**0.5\n",
    "            for d in range(2,int(p**0.5) + 1):\n",
    "                # If d divides N, then N is not prime\n",
    "                if p % d == 0:\n",
    "                    return False\n",
    "            # If the for loop checks all d and finds no divisors, then N is prime.\n",
    "            return True\n",
    "    \n",
    "    # helper function\n",
    "    def prime_divisors(q):\n",
    "        \"\"\"Compute the list of prime divisors of N.\"\"\"\n",
    "        primes = []\n",
    "        for i in range(2,q + 1):\n",
    "            if q % i == 0 and is_prime(i):\n",
    "                primes.append(i)\n",
    "        return primes\n",
    "    \n",
    "    # helper function \n",
    "    def isnot_integer(x):\n",
    "        '''determine whether a number x is not an integer'''\n",
    "        if isinstance(x, int):\n",
    "            return False\n",
    "        else:\n",
    "            return True\n",
    "    \n",
    "    if isnot_integer(N) or N <= 1:\n",
    "        print(\"ERROR: N<=1 or not N is not an integer\")\n",
    "        return None\n",
    "    \n",
    "    else:\n",
    "        # helper function to compute the corresponding y value of a given x value\n",
    "        def f_function(x):\n",
    "            # special case value\n",
    "            if x == 1:\n",
    "                return 1\n",
    "            else:\n",
    "                product = 1\n",
    "                p_list = prime_divisors(x)\n",
    "            \n",
    "                for j in p_list:\n",
    "                    element = 1 - (1/j)\n",
    "                    product = product * element\n",
    "                return x*product\n",
    "        \n",
    "        # function to create a list of y values\n",
    "        def listof_fn(z):\n",
    "        \n",
    "            fns_list = []\n",
    "            for e in range(1, N+1):\n",
    "                element = f_function(e)\n",
    "                fns_list.append(element)\n",
    "            return fns_list\n",
    "    \n",
    "        y = listof_fn(N)\n",
    "    \n",
    "        xs = [t for t in range(1,N+1)]\n",
    "    \n",
    "        return np.array(y), plt.scatter(xs,y,lw=0);"
   ]
  },
  {
   "cell_type": "code",
   "execution_count": null,
   "metadata": {
    "collapsed": false,
    "deletable": true,
    "editable": true,
    "scrolled": false
   },
   "outputs": [],
   "source": [
    "f_plot(20)"
   ]
  },
  {
   "cell_type": "markdown",
   "metadata": {
    "deletable": true,
    "editable": true
   },
   "source": [
    "## Question 8"
   ]
  },
  {
   "cell_type": "code",
   "execution_count": null,
   "metadata": {
    "collapsed": false,
    "deletable": true,
    "editable": true
   },
   "outputs": [],
   "source": [
    "def quad_reps(a,b,c,n):\n",
    "    '''Given the a,b,c,n values for ax^2 + bxy + cy^2 = n generate a list of \n",
    "    tuples of ordered pairs of x and y solutions which generates n\n",
    "    \n",
    "    INPUT PARAMETERS:\n",
    "    a = (integer >=0)\n",
    "    b = (integer >=0)\n",
    "    c = (integer >=0)\n",
    "    n = (integer >=0)'''\n",
    "    \n",
    "    # initializing the tuple list of solutions\n",
    "    tuple_list = []\n",
    "    \n",
    "    # helper function\n",
    "    def isnot_integer(x):\n",
    "        '''checks whether an input is not an integer'''\n",
    "        if isinstance(x, int):\n",
    "            return False\n",
    "        else:\n",
    "            return True\n",
    "    \n",
    "    # error display function check\n",
    "    if isnot_integer(a) or a <0  or isnot_integer(b) or b < 0 or isnot_integer(c) or c < 0 or isnot_integer(n) or n < 0:\n",
    "        \n",
    "        print(\"ERROR: at least an input is either not an integer or <0\")\n",
    "        \n",
    "        return None\n",
    "    \n",
    "    else:\n",
    "        # search function using double recursion\n",
    "        for x in range(1, n):\n",
    "            for y in range(1, n):\n",
    "                if ((a*x**2 + b*x*y + c*y**2) == n):\n",
    "                    element = (x,y)\n",
    "                    tuple_list.append(element)\n",
    "                \n",
    "        return tuple_list"
   ]
  },
  {
   "cell_type": "code",
   "execution_count": null,
   "metadata": {
    "collapsed": false,
    "deletable": true,
    "editable": true
   },
   "outputs": [],
   "source": [
    "quad_reps(1,0,1,5)"
   ]
  },
  {
   "cell_type": "code",
   "execution_count": null,
   "metadata": {
    "collapsed": false,
    "deletable": true,
    "editable": true
   },
   "outputs": [],
   "source": [
    "quad_reps(3,2,2,378)"
   ]
  },
  {
   "cell_type": "code",
   "execution_count": null,
   "metadata": {
    "collapsed": false,
    "deletable": true,
    "editable": true
   },
   "outputs": [],
   "source": [
    "quad_reps(-1,2,2,378)"
   ]
  },
  {
   "cell_type": "code",
   "execution_count": null,
   "metadata": {
    "collapsed": false,
    "deletable": true,
    "editable": true
   },
   "outputs": [],
   "source": [
    "quad_reps(3.5,2,2,378)"
   ]
  },
  {
   "cell_type": "code",
   "execution_count": null,
   "metadata": {
    "collapsed": true,
    "deletable": true,
    "editable": true
   },
   "outputs": [],
   "source": []
  }
 ],
 "metadata": {
  "kernelspec": {
   "display_name": "Python 3",
   "language": "python",
   "name": "python3"
  },
  "language_info": {
   "codemirror_mode": {
    "name": "ipython",
    "version": 3
   },
   "file_extension": ".py",
   "mimetype": "text/x-python",
   "name": "python",
   "nbconvert_exporter": "python",
   "pygments_lexer": "ipython3",
   "version": "3.5.2"
  }
 },
 "nbformat": 4,
 "nbformat_minor": 2
}
