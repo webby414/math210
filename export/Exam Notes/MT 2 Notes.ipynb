{
 "cells": [
  {
   "cell_type": "markdown",
   "metadata": {
    "deletable": true,
    "editable": true
   },
   "source": [
    "# Midterm 2 Notes"
   ]
  },
  {
   "cell_type": "markdown",
   "metadata": {
    "deletable": true,
    "editable": true
   },
   "source": [
    "### Dependencies"
   ]
  },
  {
   "cell_type": "code",
   "execution_count": null,
   "metadata": {
    "collapsed": true,
    "deletable": true,
    "editable": true
   },
   "outputs": [],
   "source": [
    "import numpy as np\n",
    "import matplotlib.pyplot as plt\n",
    "import scipy.integrate as spi\n",
    "import scipy.linalg as la\n",
    "from numpy.linalg import matrix_power as mpow\n",
    "from scipy.misc import derivative\n",
    "from scipy.misc import factorial\n",
    "%matplotlib inline"
   ]
  },
  {
   "cell_type": "markdown",
   "metadata": {
    "deletable": true,
    "editable": true
   },
   "source": [
    "### Numerical Integration"
   ]
  },
  {
   "cell_type": "code",
   "execution_count": null,
   "metadata": {
    "collapsed": true,
    "deletable": true,
    "editable": true
   },
   "outputs": [],
   "source": [
    "def riemann_sum(f,a,b,n,method=\"midpoint\"):\n",
    "    '''Compute the riemann sum of f(x) over the interval [a,b]\n",
    "    using a patition with n subintervals of equal length \n",
    "    \n",
    "    INPUT:\n",
    "        f (function) : Vectorized function of one variable\n",
    "        a,b (numbers) : Defines the interval [a,b]\n",
    "        method (str) : Determine the kind of Riemann sum\n",
    "            right : Riemann sum using right endpoints\n",
    "            left ; Riemann sum using left endpoints\n",
    "            midpoint (default) : Riemann sum using midpoints\n",
    "    OUTPUT: \n",
    "        Value of the Riemann sum (number)\n",
    "    '''\n",
    "    ## note we can set deault variable... midpoint\n",
    "    \n",
    "    # setting the length of each sub interval\n",
    "    dx = (b-a)/n\n",
    "    \n",
    "    # array of endpoints\n",
    "    x = np.linspace(a,b,n+1)\n",
    "    \n",
    "    if method == \"left\":\n",
    "        # computes the left Riemann sums\n",
    "        \n",
    "        # adjusting x to obtain an array of left inpoints\n",
    "        x = x[0:-1]\n",
    "        \n",
    "        return np.sum(f(x)*dx)\n",
    "        \n",
    "    if method == \"right\":\n",
    "        # computes the right Riemann sums\n",
    "        \n",
    "        # adjusting x to obtain an array of right inpoints\n",
    "        x = x[1:]\n",
    "        \n",
    "        return np.sum(f(x)*dx)\n",
    "        \n",
    "    elif method == \"midpoint\":\n",
    "        # compute Riemann sum with midpoints\n",
    "        \n",
    "        # array of midpoints\n",
    "        x = (x[0:-1] + x[1:])/2    # or x = x[0:-1] + dx/2\n",
    "        return np.sum(f(x)*dx)\n",
    "    \n",
    "    else:\n",
    "        # unknown method\n",
    "        \n",
    "        print('Method ', method, ' undefined')\n",
    "        return None"
   ]
  },
  {
   "cell_type": "code",
   "execution_count": null,
   "metadata": {
    "collapsed": false,
    "deletable": true,
    "editable": true
   },
   "outputs": [],
   "source": [
    "riemann_sum(np.sin,0,np.pi/2,10000000)"
   ]
  },
  {
   "cell_type": "code",
   "execution_count": null,
   "metadata": {
    "collapsed": false,
    "deletable": true,
    "editable": true
   },
   "outputs": [],
   "source": [
    "riemann_sum(np.sin,0,np.pi/2,10000000, \"right\")"
   ]
  },
  {
   "cell_type": "code",
   "execution_count": null,
   "metadata": {
    "collapsed": false,
    "deletable": true,
    "editable": true
   },
   "outputs": [],
   "source": [
    "def fun(x):\n",
    "    return x\n",
    "riemann_sum(fun, 0, 1, 100)"
   ]
  },
  {
   "cell_type": "markdown",
   "metadata": {
    "deletable": true,
    "editable": true
   },
   "source": [
    "#### `trapz` Example\n",
    "\n",
    "$$\n",
    "\\int_0^1 \\left( \\frac{x^{n-1}}{1-x^{1/p}} - \\frac{px^{np-1}}{1-x} \\right) dx = p\\ln{p}\n",
    "$$\n",
    "\n",
    "Notic that $p>0$ and the integrand is not defined at $x = 1$"
   ]
  },
  {
   "cell_type": "code",
   "execution_count": null,
   "metadata": {
    "collapsed": false,
    "deletable": true,
    "editable": true
   },
   "outputs": [],
   "source": [
    "n = 2\n",
    "p = 3\n",
    "N = 1000\n",
    "\n",
    "x = np.linspace(0,0.9999999, N)\n",
    "y = x**(n-1)/(1-x**(1/p))-(p*x**(n*p-1))/(1-x)\n",
    "\n",
    "plt.plot(x,y), plt.xlim([0,1])\n",
    "\n",
    "spi.trapz(y,x)\n"
   ]
  },
  {
   "cell_type": "markdown",
   "metadata": {
    "deletable": true,
    "editable": true
   },
   "source": [
    "The gamma function denoted as $\\Gamma(x)$ is an extension of the factorial $n!$ in the sense that $\\Gamma(n) = (n-1)!$. It's defined by an infinite integral:\n",
    "\n",
    "$$\n",
    "\\Gamma(x) = \\int_0^{\\infty} t^{x-1} e^{-t} dt\n",
    "$$"
   ]
  },
  {
   "cell_type": "code",
   "execution_count": null,
   "metadata": {
    "collapsed": false,
    "deletable": true,
    "editable": true
   },
   "outputs": [],
   "source": [
    "x = 15\n",
    "def f(t):\n",
    "    return t**(x-1) * np.exp(-t)\n",
    "\n",
    "# Gamma function for x = 5\n",
    "I, abserr = spi.quad(f,0,np.inf)   # unpacking the result of QUAD\n",
    "\n",
    "I"
   ]
  },
  {
   "cell_type": "code",
   "execution_count": null,
   "metadata": {
    "collapsed": false,
    "deletable": true,
    "editable": true
   },
   "outputs": [],
   "source": [
    "factorial(14)"
   ]
  },
  {
   "cell_type": "markdown",
   "metadata": {
    "deletable": true,
    "editable": true
   },
   "source": [
    "### Numerical Differentiation Computing"
   ]
  },
  {
   "cell_type": "markdown",
   "metadata": {
    "deletable": true,
    "editable": true
   },
   "source": [
    "Given a function $f(x)$ we can approximate the value of the derivative $f'(a)$ at $x=a$ by the formula:\n",
    "\n",
    "$$\n",
    "f'(a) \\approx \\frac{f(a+h)-f(a)}{h}\n",
    "$$\n",
    "\n",
    "or \n",
    "$$\n",
    "f'(a) \\approx \\frac{f(a)-f(a-h)}{h}\n",
    "$$\n",
    "\n",
    "or we can use the central difference formaula which is the average of the two methods\n",
    "$$\n",
    "f'(a) = \\frac{1}{2} \\left( \\frac{f(a+h)-f(a)}{h} + \\frac{f(a)-f(a-h)}{h} \\right) = \\frac{f(a+h)-f(a-h)}{2h}\n",
    "$$\n"
   ]
  },
  {
   "cell_type": "code",
   "execution_count": null,
   "metadata": {
    "collapsed": true,
    "deletable": true,
    "editable": true
   },
   "outputs": [],
   "source": [
    "def D(f,a,h=0.01):\n",
    "    '''Compute the derivative of f(x) at \n",
    "    x=a using the central difference formua with step h'''\n",
    "    return (f(a+h) - f(a-h))/(2*h)"
   ]
  },
  {
   "cell_type": "code",
   "execution_count": null,
   "metadata": {
    "collapsed": false,
    "deletable": true,
    "editable": true,
    "scrolled": true
   },
   "outputs": [],
   "source": [
    "def f(x):\n",
    "    return x**2\n",
    "\n",
    "x = np.linspace(0,2*np.pi,100)\n",
    "y = D(np.sin, x)\n",
    "\n",
    "plt.plot(x,y)"
   ]
  },
  {
   "cell_type": "code",
   "execution_count": null,
   "metadata": {
    "collapsed": false,
    "deletable": true,
    "editable": true
   },
   "outputs": [],
   "source": [
    "# There's a SciPy function that does the exact same \n",
    "# thing as our D and its called scipy.misc.derivative\n",
    "\n",
    "x = np.arange(0,5)\n",
    "D(np.exp,x, h=0.1)"
   ]
  },
  {
   "cell_type": "code",
   "execution_count": null,
   "metadata": {
    "collapsed": false,
    "deletable": true,
    "editable": true
   },
   "outputs": [],
   "source": [
    "derivative(np.exp,x,dx=0.1)"
   ]
  },
  {
   "cell_type": "code",
   "execution_count": null,
   "metadata": {
    "collapsed": false,
    "deletable": true,
    "editable": true,
    "scrolled": true
   },
   "outputs": [],
   "source": [
    "# Lets plot the derivative of $f(x)=2x^2 + x + 1$\n",
    "x = np.linspace(-5,5,100)\n",
    "\n",
    "def f(x):\n",
    "    return 2*x**2 + x + 1 \n",
    "y = f(x)\n",
    "dydx = derivative(f, x, dx=0.1)\n",
    "plt.plot(x,dydx, x, y);"
   ]
  },
  {
   "cell_type": "code",
   "execution_count": null,
   "metadata": {
    "collapsed": false,
    "deletable": true,
    "editable": true,
    "scrolled": true
   },
   "outputs": [],
   "source": [
    "# Lets plot the taylor polynomials of degrees 1-4 for  f(x)=1cos(x)f(x)=1cos⁡(x) \n",
    "\n",
    "epsilon = 0.1\n",
    "x = np.linspace(-np.pi/2 + epsilon,np.pi/2 - epsilon, 100)\n",
    "y = 1/np.cos(x)\n",
    "plt.plot(x,y)"
   ]
  },
  {
   "cell_type": "code",
   "execution_count": null,
   "metadata": {
    "collapsed": false,
    "deletable": true,
    "editable": true
   },
   "outputs": [],
   "source": [
    "def f(x):\n",
    "    return 1/np.cos(x)\n",
    "\n",
    "a0 = f(0)\n",
    "a1 = derivative(f,0, dx=0.01, n=1)\n",
    "a2 = derivative(f,0, dx=0.01, n=2)/2\n",
    "a3 = derivative(f,0, dx=0.01, n=3, order = 5)/6\n",
    "\n",
    "T = a0 + a2*x**2\n",
    "plt.plot(x,y,x,T)"
   ]
  },
  {
   "cell_type": "markdown",
   "metadata": {
    "deletable": true,
    "editable": true
   },
   "source": [
    "### NumPy Array Review"
   ]
  },
  {
   "cell_type": "code",
   "execution_count": null,
   "metadata": {
    "collapsed": false,
    "deletable": true,
    "editable": true,
    "scrolled": false
   },
   "outputs": [],
   "source": [
    "# NumPy arrays can have any number of dimensions. 1D NumPy array is like a list:\n",
    "v = np.array([1,2,3])\n",
    "v"
   ]
  },
  {
   "cell_type": "code",
   "execution_count": null,
   "metadata": {
    "collapsed": false,
    "deletable": true,
    "editable": true
   },
   "outputs": [],
   "source": [
    "v.shape"
   ]
  },
  {
   "cell_type": "code",
   "execution_count": null,
   "metadata": {
    "collapsed": false,
    "deletable": true,
    "editable": true,
    "scrolled": false
   },
   "outputs": [],
   "source": [
    "# 2D NumPy array is like a matrix:\n",
    "M = np.array([[1,2,3],[4,5,6],[7,8,9]])\n",
    "M"
   ]
  },
  {
   "cell_type": "code",
   "execution_count": null,
   "metadata": {
    "collapsed": false,
    "deletable": true,
    "editable": true
   },
   "outputs": [],
   "source": [
    "M.shape"
   ]
  },
  {
   "cell_type": "code",
   "execution_count": null,
   "metadata": {
    "collapsed": false,
    "deletable": true,
    "editable": true,
    "scrolled": true
   },
   "outputs": [],
   "source": [
    "# reshaping\n",
    "\n",
    "w = np.arange(0,36)\n",
    "x = w.reshape(6,6)\n",
    "w, x"
   ]
  },
  {
   "cell_type": "code",
   "execution_count": null,
   "metadata": {
    "collapsed": false,
    "deletable": true,
    "editable": true
   },
   "outputs": [],
   "source": [
    "# building matrices\n",
    "x = np.array([1,1,1])\n",
    "y = np.array([2,2,2])\n",
    "z = np.array([3,3,3])\n",
    "np.vstack([x,y,z])\n"
   ]
  },
  {
   "cell_type": "code",
   "execution_count": null,
   "metadata": {
    "collapsed": false,
    "deletable": true,
    "editable": true
   },
   "outputs": [],
   "source": [
    "np.hstack([x,y,z])"
   ]
  },
  {
   "cell_type": "code",
   "execution_count": null,
   "metadata": {
    "collapsed": false,
    "deletable": true,
    "editable": true,
    "scrolled": true
   },
   "outputs": [],
   "source": [
    "A = np.ones(4).reshape(2,2)\n",
    "B = 2*np.ones(4).reshape(2,2)\n",
    "C = 3*np.ones(4).reshape(2,2)\n",
    "D = 4*np.ones(4).reshape(2,2)\n",
    "\n",
    "r1 = np.hstack([A,B])\n",
    "r2 = np.hstack([C,D])\n",
    "\n",
    "np.vstack([r1,r2])"
   ]
  },
  {
   "cell_type": "code",
   "execution_count": null,
   "metadata": {
    "collapsed": false,
    "deletable": true,
    "editable": true,
    "scrolled": true
   },
   "outputs": [],
   "source": [
    "# Fancy Indexing\n",
    "A = np.random.randint(-9,10,(4,4))\n",
    "A"
   ]
  },
  {
   "cell_type": "code",
   "execution_count": null,
   "metadata": {
    "collapsed": false,
    "deletable": true,
    "editable": true
   },
   "outputs": [],
   "source": [
    "A[0,0]"
   ]
  },
  {
   "cell_type": "code",
   "execution_count": null,
   "metadata": {
    "collapsed": false,
    "deletable": true,
    "editable": true,
    "scrolled": true
   },
   "outputs": [],
   "source": [
    "A[[1,2],:]"
   ]
  },
  {
   "cell_type": "code",
   "execution_count": null,
   "metadata": {
    "collapsed": false,
    "deletable": true,
    "editable": true
   },
   "outputs": [],
   "source": [
    "A > 0"
   ]
  },
  {
   "cell_type": "code",
   "execution_count": null,
   "metadata": {
    "collapsed": false,
    "deletable": true,
    "editable": true
   },
   "outputs": [],
   "source": [
    "A[A>0]"
   ]
  },
  {
   "cell_type": "code",
   "execution_count": null,
   "metadata": {
    "collapsed": false,
    "deletable": true,
    "editable": true
   },
   "outputs": [],
   "source": [
    "A[np.array([0,1,2,3]) !=2,:]"
   ]
  },
  {
   "cell_type": "markdown",
   "metadata": {
    "deletable": true,
    "editable": true
   },
   "source": [
    "### Liner Algebra"
   ]
  },
  {
   "cell_type": "code",
   "execution_count": null,
   "metadata": {
    "collapsed": false,
    "deletable": true,
    "editable": true
   },
   "outputs": [],
   "source": [
    "M = np.array([[3,4],[-1,-5]])\n",
    "M"
   ]
  },
  {
   "cell_type": "code",
   "execution_count": null,
   "metadata": {
    "collapsed": false,
    "deletable": true,
    "editable": true
   },
   "outputs": [],
   "source": [
    "I = np.eye(2)\n",
    "A = np.array([[1,3],[-1,7]])\n",
    "B = np.array([[5,2],[1,2]])\n",
    "\n",
    "2*I + 3*A - A@B"
   ]
  },
  {
   "cell_type": "code",
   "execution_count": null,
   "metadata": {
    "collapsed": false,
    "deletable": true,
    "editable": true,
    "scrolled": true
   },
   "outputs": [],
   "source": [
    "A = np.random.randint(0,10,[3,3])\n",
    "b = np.random.randint(0,10,[3,1])\n",
    "x = la.solve(A,b)\n",
    "x"
   ]
  },
  {
   "cell_type": "code",
   "execution_count": null,
   "metadata": {
    "collapsed": false,
    "deletable": true,
    "editable": true
   },
   "outputs": [],
   "source": [
    "# inverse matrix\n",
    "A = np.array([[1,2],[3,4]])\n",
    "la.inv(A)"
   ]
  },
  {
   "cell_type": "code",
   "execution_count": null,
   "metadata": {
    "collapsed": false,
    "deletable": true,
    "editable": true
   },
   "outputs": [],
   "source": [
    "# determinant of matrix\n",
    "la.det(A)"
   ]
  },
  {
   "cell_type": "code",
   "execution_count": null,
   "metadata": {
    "collapsed": false,
    "deletable": true,
    "editable": true,
    "scrolled": true
   },
   "outputs": [],
   "source": [
    "# characteristic polynomial\n",
    "I = np.eye(2)\n",
    "2*I"
   ]
  },
  {
   "cell_type": "code",
   "execution_count": null,
   "metadata": {
    "collapsed": false,
    "deletable": true,
    "editable": true
   },
   "outputs": [],
   "source": [
    "# eigen values and vectors\n",
    "n = 4\n",
    "P = np.random.randint(0,10,[n,n])\n",
    "la.eig(P)"
   ]
  },
  {
   "cell_type": "code",
   "execution_count": null,
   "metadata": {
    "collapsed": true,
    "deletable": true,
    "editable": true
   },
   "outputs": [],
   "source": [
    "# projections\n",
    "def proj(v,w):\n",
    "    \n",
    "    v = np.array(v)\n",
    "    w = np.array(w)\n",
    "    \n",
    "    return (np.sum(v * w)/np.sum(w * w)) * w  # or (v @ w)/"
   ]
  },
  {
   "cell_type": "code",
   "execution_count": null,
   "metadata": {
    "collapsed": false,
    "deletable": true,
    "editable": true,
    "scrolled": true
   },
   "outputs": [],
   "source": [
    "# least square regression\n",
    "a = 2\n",
    "b = 3\n",
    "N = 100\n",
    "x = np.random.rand(100)\n",
    "noise = 0.1*np.random.rand(100)\n",
    "y = a + b*x + noise\n",
    "\n",
    "plt.scatter(x,y);"
   ]
  },
  {
   "cell_type": "markdown",
   "metadata": {
    "deletable": true,
    "editable": true
   },
   "source": [
    "To build the Matrix X, we can use the function `numpy.hstack` , but first we have to reshape the array $x$ from a 1D array of shape `(N,)` to a 2D NumPy array of shape `(N,1)`"
   ]
  },
  {
   "cell_type": "code",
   "execution_count": null,
   "metadata": {
    "collapsed": false,
    "deletable": true,
    "editable": true,
    "scrolled": true
   },
   "outputs": [],
   "source": [
    "X = np.hstack((np.ones(N).reshape(N,1),x.reshape(N,1)))\n",
    "X[:5,:]\n",
    "# :5 means up to to row number 5 and : means every column\n",
    "Y = y.reshape(N,1)\n",
    "X[:5,:]"
   ]
  },
  {
   "cell_type": "markdown",
   "metadata": {
    "deletable": true,
    "editable": true
   },
   "source": [
    "Use `scipy.linalg.solve` to solve $(X^T X)A = (X^T)Y$"
   ]
  },
  {
   "cell_type": "code",
   "execution_count": null,
   "metadata": {
    "collapsed": false,
    "deletable": true,
    "editable": true,
    "scrolled": true
   },
   "outputs": [],
   "source": [
    "A = la.solve((X.T @ X), (X.T @ Y))\n",
    "A"
   ]
  },
  {
   "cell_type": "code",
   "execution_count": null,
   "metadata": {
    "collapsed": false,
    "deletable": true,
    "editable": true,
    "scrolled": true
   },
   "outputs": [],
   "source": [
    "u = np.linspace(0,1,10)\n",
    "v = A[0,0] + A[1,0]*u\n",
    "plt.plot(u,v, 'r')\n",
    "plt.scatter(x,y);"
   ]
  },
  {
   "cell_type": "markdown",
   "metadata": {
    "deletable": true,
    "editable": true
   },
   "source": [
    "### Linear regression for quadratic models\n",
    "\n",
    "The same idea works for fitting a quadratic model $y = a + bx + cx^2$ to a set of data points.\n",
    "\n",
    "$$\n",
    "\\begin{bmatrix}\n",
    "1 & x_0 & x_0^2\\\\\n",
    "1 & x_1 & x_1 ^2\\\\\n",
    "\\vdots & \\vdots & \\vdots \\\\\n",
    "1 & x_N\n",
    "\\end{bmatrix}\n",
    "A = \n",
    "\\begin{bmatrix}\n",
    "a \\\\\n",
    "b \\\\\n",
    "c\n",
    "\\end{bmatrix}\n",
    "Y=\n",
    "\\begin{bmatrix}\n",
    "y_0 \\\\\n",
    "y_1 \\\\\n",
    "\\vdots \\\\\n",
    "\\end{bmatrix}\n",
    "$$"
   ]
  },
  {
   "cell_type": "code",
   "execution_count": null,
   "metadata": {
    "collapsed": false,
    "deletable": true,
    "editable": true,
    "scrolled": true
   },
   "outputs": [],
   "source": [
    "a = 3\n",
    "b = 5\n",
    "c = 8\n",
    "N = 1000\n",
    "x = 2*np.random.rand(N) - 1 # first its creating numbers from 1 to 2 then subtracting makes that [-1,1]\n",
    "noise = np.random.randn(N)\n",
    "y = a + b*x + c*x**2 + noise\n",
    "plt.scatter(x,y, alpha=0.5);"
   ]
  },
  {
   "cell_type": "code",
   "execution_count": null,
   "metadata": {
    "collapsed": false,
    "deletable": true,
    "editable": true
   },
   "outputs": [],
   "source": [
    "X = np.hstack((np.ones(N).reshape(N,1), x.reshape(N,1), (x**2).reshape(N,1)))\n",
    "Y = y.reshape(N,1)\n",
    "A = la.solve((X.T @ X), (X.T @ Y))\n",
    "A"
   ]
  },
  {
   "cell_type": "code",
   "execution_count": null,
   "metadata": {
    "collapsed": false,
    "deletable": true,
    "editable": true
   },
   "outputs": [],
   "source": [
    "u = np.linspace(-1,1,20)\n",
    "v = A[0,0] + A[1,0]*u + A[2,0]*u**2\n",
    "plt.plot(u,v, 'r')\n",
    "plt.scatter(x,y);"
   ]
  },
  {
   "cell_type": "markdown",
   "metadata": {
    "deletable": true,
    "editable": true
   },
   "source": [
    "### Differential Equations"
   ]
  },
  {
   "cell_type": "code",
   "execution_count": null,
   "metadata": {
    "collapsed": false,
    "deletable": true,
    "editable": true
   },
   "outputs": [],
   "source": [
    "# Example $y'=y , y(0)=1$\n",
    "def f(y,t):\n",
    "    return y\n",
    "\n",
    "y0 = 1\n",
    "\n",
    "t = np.linspace(0,2,100)\n",
    "y = spi.odeint(f,y0,t)\n",
    "plt.plot(t,y, 'r.', t, np.exp(t));"
   ]
  },
  {
   "cell_type": "code",
   "execution_count": null,
   "metadata": {
    "collapsed": false,
    "deletable": true,
    "editable": true
   },
   "outputs": [],
   "source": [
    "# Example: $y'=y^2-t^2 \\ \\ y(0) = 1$\n",
    "\n",
    "def f(y,t):\n",
    "    return y**2 - t**2\n",
    "\n",
    "y0 = 1\n",
    "t = np.linspace(0,1,100)\n",
    "y = spi.odeint(f,y0,t)\n",
    "plt.plot(t,y);"
   ]
  },
  {
   "cell_type": "code",
   "execution_count": null,
   "metadata": {
    "collapsed": false,
    "deletable": true,
    "editable": true
   },
   "outputs": [],
   "source": [
    "# Example: Logistic equation $y'=y(1-y) \\ \\ \\ y(0)=k_0$\n",
    "\n",
    "def f(y,t):\n",
    "    return y*(1-y)\n",
    "\n",
    "y0 = np.arange(0,2,0.2)\n",
    "t = np.linspace(0,5,100)\n",
    "\n",
    "for i in range(0,len(y0)):\n",
    "    y = spi.odeint(f,y0[i],t)\n",
    "    plt.plot(t,y,'b')\n",
    "    \n",
    "for y00 in [-0.005, -0.004, -0.003, -0.002, -0.001]:\n",
    "    y = spi.odeint(f,y00,t)\n",
    "    plt.plot(t,y,'b')"
   ]
  },
  {
   "cell_type": "markdown",
   "metadata": {
    "deletable": true,
    "editable": true
   },
   "source": [
    "### II. Solving Second Order ODEs in SciPy\n",
    "\n",
    "All numerical ODE solvers require the user to write thier equations as a system of first order differential equations. Introduce a new variable for each derivative of the unknown function(s) up to one less than the order of the equation.\n",
    "\n",
    "For example, if we have the second order equation $y'' + y = 0$ then we introduce two new variables $u_1$ and $u_2$ for $y$ and $y'$.\n",
    "\n",
    "\\begin{align}\n",
    "u_0 & = y \\\\\n",
    "u_1 & = y'\n",
    "\\end{align}\n",
    "\n",
    "\\begin{align}\n",
    "u_0' & = u_1 \\\\\n",
    "u_1' & = -u_0\n",
    "\\end{align}\n",
    "\n",
    "$$\n",
    "\\frac{d\\mathbf{u}}{dt} = \\mathbf{f}(\\mathbf{u},t)\n",
    "$$\n",
    "\n",
    "where $\\mathbf{u} = \\begin{bmatrix} u_0 \\\\ u_1 \\end{bmatrix}$\n",
    "$$\n",
    "\\mathbf{f}(\\mathbf{u},t) = \\begin{bmatrix} u_1 \\\\ -u_0\\end{bmatrix}\n",
    "$$"
   ]
  },
  {
   "cell_type": "code",
   "execution_count": null,
   "metadata": {
    "collapsed": true,
    "deletable": true,
    "editable": true
   },
   "outputs": [],
   "source": [
    "def f(u,t):\n",
    "    return np.array([  u[1], -u[0]   ])\n",
    "u0 = np.array([0,1])\n",
    "t = np.linspace(0,2*np.pi,100)\n",
    "u = spi.odeint(f,u0,t)"
   ]
  },
  {
   "cell_type": "code",
   "execution_count": null,
   "metadata": {
    "collapsed": true
   },
   "outputs": [],
   "source": []
  },
  {
   "cell_type": "code",
   "execution_count": null,
   "metadata": {
    "collapsed": true
   },
   "outputs": [],
   "source": []
  },
  {
   "cell_type": "code",
   "execution_count": null,
   "metadata": {
    "collapsed": true
   },
   "outputs": [],
   "source": []
  },
  {
   "cell_type": "code",
   "execution_count": null,
   "metadata": {
    "collapsed": true
   },
   "outputs": [],
   "source": []
  }
 ],
 "metadata": {
  "kernelspec": {
   "display_name": "Python 3",
   "language": "python",
   "name": "python3"
  },
  "language_info": {
   "codemirror_mode": {
    "name": "ipython",
    "version": 3
   },
   "file_extension": ".py",
   "mimetype": "text/x-python",
   "name": "python",
   "nbconvert_exporter": "python",
   "pygments_lexer": "ipython3",
   "version": "3.5.2"
  }
 },
 "nbformat": 4,
 "nbformat_minor": 2
}
