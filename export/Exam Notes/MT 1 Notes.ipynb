{
 "cells": [
  {
   "cell_type": "markdown",
   "metadata": {
    "deletable": true,
    "editable": true
   },
   "source": [
    "# Midterm 1 Notes"
   ]
  },
  {
   "cell_type": "markdown",
   "metadata": {
    "deletable": true,
    "editable": true
   },
   "source": [
    "## LaTex Intro\n",
    "\n",
    "LaText is a typesetting language for mathematics.\n",
    "\n",
    "Enclose LaText code with dollar signs \\$ ... \\$ to display math equations inline. For example, the code `\\int_a^b f(x) dx = F(b) - F(a)` renders as $\\int_a^b f(x) dx = F(b) - F(a)$\n",
    "\n",
    "Enclose LaText code with dollar signs \\$\\$ ... \\$\\$ to display math equations in a sepparate paragrah. For example, the code `\\int_a^b f(x) dx = F(b) - F(a)` renders as $$\\int_a^b f(x) dx = F(b) - F(a)$$"
   ]
  },
  {
   "cell_type": "markdown",
   "metadata": {
    "deletable": true,
    "editable": true
   },
   "source": [
    "$$\n",
    "f'(a) = \\lim_{x \\to a} \\frac{f(x) - f(a)}{x - a}\n",
    "$$\n",
    "\n",
    "```\n",
    "$$f'(a) = \\lim_{x \\to a} \\frac{f(x) - f(a)}{x - a}$$\n",
    "```"
   ]
  },
  {
   "cell_type": "markdown",
   "metadata": {
    "deletable": true,
    "editable": true
   },
   "source": [
    "$$\n",
    "\\lim_{x \\to a^-} f(x) = f(a) = \\lim_{x \\to a^+} f(x)\n",
    "$$\n",
    "\n",
    "```\n",
    "$$\\lim_{x \\to a^-} f(x) = f(a) = \\lim_{x \\to a^+} f(x)$$\n",
    "```"
   ]
  },
  {
   "cell_type": "markdown",
   "metadata": {
    "deletable": true,
    "editable": true
   },
   "source": [
    "$$\n",
    "e^x = \\sum_{k=0}^{\\infty} \\frac{x^k}{k!}\n",
    "$$\n",
    "\n",
    "```\n",
    "$$e^x = \\sum_{k=0}^{\\infty} \\frac{x^k}{k!}$$\n",
    "```"
   ]
  },
  {
   "cell_type": "markdown",
   "metadata": {
    "deletable": true,
    "editable": true
   },
   "source": [
    "```\n",
    "\\begin{pmatrix} a & b \\\\ c & d \\end{pmatrix}\n",
    "```\n",
    "to display\n",
    "$$\n",
    "\\begin{pmatrix} a & b \\\\ c & d \\end{pmatrix}\n",
    "$$"
   ]
  },
  {
   "cell_type": "markdown",
   "metadata": {
    "deletable": true,
    "editable": true
   },
   "source": [
    "To create an augmented matrix, use the syntax\n",
    "```\n",
    "\\left[ \\begin{array}{ccc|c} 0 & 1 & -4 & 8 \\\\\n",
    "2 & -3 & 2 & 1\\\\\n",
    "5 & -8 & 7 & 1 \\end{array} \\right]\n",
    "```\n",
    "to display\n",
    "$$\n",
    "\\left[ \\begin{array}{ccc|c} 0 & 1 & -4 & 8 \\\\\n",
    "2 & -3 & 2 & 1\\\\\n",
    "5 & -8 & 7 & 1 \\end{array} \\right]\n",
    "$$"
   ]
  },
  {
   "cell_type": "markdown",
   "metadata": {
    "deletable": true,
    "editable": true
   },
   "source": [
    "```\n",
    "$$\\left( \\frac{1}{2} - 1 \\right)$$\n",
    "```\n",
    "to display\n",
    "$$\n",
    "\\left( \\frac{1}{2} - 1 \\right)\n",
    "$$"
   ]
  },
  {
   "cell_type": "markdown",
   "metadata": {
    "deletable": true,
    "editable": true
   },
   "source": [
    "* Operators\n",
    "    * `$\\bigcap$`  $\\bigcap$\n",
    "    * `$\\bigcup$`  $\\bigcup$\n",
    "    * `$\\prod$`  $\\prod$\n",
    "    * `$\\sum$`  $\\sum$\n",
    "* Fonts\n",
    "    * `$\\mathrm{Hom}$` $\\mathrm{Hom}$\n",
    "    * `$\\mathbb{Z}$`  $\\mathbb{Z}$\n",
    "    * `$\\mathscr{L}$`  $\\mathscr{L}$\n",
    "    * `$\\mathfrak{g}$`  $\\mathfrak{g}$\n",
    "* Other symbols\n",
    "    * `$\\rightarrow$` $\\rightarrow$\n",
    "    * `$\\leftarrow$` $\\leftarrow$\n",
    "    * `$\\Rightarrow$` $\\Rightarrow$\n",
    "    * `$\\Leftrightarrow$` $\\Leftrightarrow$\n",
    "    * `$\\in$`  $\\in$\n",
    "    * `$\\notin$`  $\\notin$\n",
    "    * `$\\forall$`  $\\forall$\n",
    "    * `$\\infty$` $\\infty$"
   ]
  },
  {
   "cell_type": "markdown",
   "metadata": {
    "deletable": true,
    "editable": true
   },
   "source": [
    "$$\n",
    "\\mathbf{J} = \\frac{d \\mathbf{f}}{d \\mathbf{x}} = \n",
    "\\left[ \\frac{\\partial \\mathbf{f}}{\\partial x_1}\n",
    "\\cdots \\frac{\\partial \\mathbf{f}}{\\partial x_n} \\right] =\n",
    "\\begin{bmatrix}\n",
    "\\frac{\\partial f_1}{\\partial x_1} & \\cdots & \\frac{\\partial f_1}{\\partial x_n} \\\\\n",
    "\\vdots & \\ddots & \\vdots \\\\\n",
    "\\frac{\\partial f_m}{\\partial x_1} & \\cdots & \\frac{\\partial f_m}{\\partial x_n}\n",
    "\\end{bmatrix}\n",
    "$$\n",
    "\n",
    "```\n",
    "$$\n",
    "\\mathbf{J}\n",
    "=\n",
    "\\frac{d \\mathbf{f}}{d \\mathbf{x}}\n",
    "= \n",
    "\\left[ \\frac{\\partial \\mathbf{f}}{\\partial x_1}\n",
    "\\cdots \\frac{\\partial \\mathbf{f}}{\\partial x_n} \\right]\n",
    "=\n",
    "\\begin{bmatrix}\n",
    "\\frac{\\partial f_1}{\\partial x_1} & \\cdots &\n",
    "\\frac{\\partial f_1}{\\partial x_n} \\\\\n",
    "\\vdots & \\ddots & \\vdots \\\\\n",
    "\\frac{\\partial f_m}{\\partial x_1} & \\cdots &\n",
    "\\frac{\\partial f_m}{\\partial x_n}\n",
    "\\end{bmatrix}\n",
    "$$\n",
    "```"
   ]
  },
  {
   "cell_type": "markdown",
   "metadata": {
    "deletable": true,
    "editable": true
   },
   "source": [
    "## Python Operators"
   ]
  },
  {
   "cell_type": "code",
   "execution_count": null,
   "metadata": {
    "collapsed": false,
    "deletable": true,
    "editable": true
   },
   "outputs": [],
   "source": [
    "# Modulo -- Produces Remainders\n",
    "11 % 4"
   ]
  },
  {
   "cell_type": "code",
   "execution_count": null,
   "metadata": {
    "collapsed": false,
    "deletable": true,
    "editable": true,
    "scrolled": true
   },
   "outputs": [],
   "source": [
    "# Quotient -- produces lowest divisor\n",
    "11 // 4"
   ]
  },
  {
   "cell_type": "markdown",
   "metadata": {
    "deletable": true,
    "editable": true
   },
   "source": [
    "### List Indexing"
   ]
  },
  {
   "cell_type": "code",
   "execution_count": null,
   "metadata": {
    "collapsed": false,
    "deletable": true,
    "editable": true
   },
   "outputs": [],
   "source": [
    "a_list = [2,3,5,7,11,13,17,19,23,29]\n",
    "a_list[0]  # produces 2\n",
    "a_list[-1] # produces last number counting down\n",
    "a_list[4:7] # produces index 4 to index 7 (inclusive)\n",
    "\n",
    "new_list = [1,3.21,[9,8,7,6]]\n",
    "new_list[2][2] # produces index 2 of index 2"
   ]
  },
  {
   "cell_type": "markdown",
   "metadata": {
    "deletable": true,
    "editable": true
   },
   "source": [
    "### List comprensions"
   ]
  },
  {
   "cell_type": "code",
   "execution_count": null,
   "metadata": {
    "collapsed": false,
    "deletable": true,
    "editable": true
   },
   "outputs": [],
   "source": [
    "numbers = [n for n in range(1,15)]\n",
    "print(numbers)"
   ]
  },
  {
   "cell_type": "code",
   "execution_count": null,
   "metadata": {
    "collapsed": false,
    "deletable": true,
    "editable": true
   },
   "outputs": [],
   "source": [
    "[sublist[-1] for sublist in [[0,1,2,3],[1,1,1],[9,8,7,6]]]"
   ]
  },
  {
   "cell_type": "code",
   "execution_count": null,
   "metadata": {
    "collapsed": false,
    "deletable": true,
    "editable": true
   },
   "outputs": [],
   "source": [
    "numbers = [1 + 4*x - x**2 for x in range(-5,6)]\n",
    "print(numbers)\n",
    "sorted(numbers)"
   ]
  },
  {
   "cell_type": "markdown",
   "metadata": {
    "deletable": true,
    "editable": true
   },
   "source": [
    "### Complex Numbers"
   ]
  },
  {
   "cell_type": "code",
   "execution_count": null,
   "metadata": {
    "collapsed": false,
    "deletable": true,
    "editable": true
   },
   "outputs": [],
   "source": [
    "z = complex(1,1)\n",
    "print(z)"
   ]
  },
  {
   "cell_type": "markdown",
   "metadata": {
    "deletable": true,
    "editable": true
   },
   "source": [
    "## Basic Python Function\n",
    "\n",
    "$$\n",
    "H = \\frac{n}{\\frac{1}{x_1} + \\frac{1}{x_2} + \\cdots + \\frac{1}{x_n}} = \\frac{n}{\\sum_{i=1}^n \\frac{1}{x_i}}\n",
    "$$"
   ]
  },
  {
   "cell_type": "code",
   "execution_count": null,
   "metadata": {
    "collapsed": true,
    "deletable": true,
    "editable": true
   },
   "outputs": [],
   "source": [
    "def harmonic_mean(list_of_numbers):\n",
    "    \"\"\"Compute the harmonic mean of a list of positive numbers.\"\"\"\n",
    "    if min(list_of_numbers) <= 0:\n",
    "        print('Error: All numbers in the list must be greater than 0.')\n",
    "        return None\n",
    "    else:\n",
    "        n = len(list_of_numbers)\n",
    "        terms = [1/x for x in list_of_numbers]\n",
    "        return n / sum(terms)"
   ]
  },
  {
   "cell_type": "markdown",
   "metadata": {
    "deletable": true,
    "editable": true
   },
   "source": [
    "## For Loops"
   ]
  },
  {
   "cell_type": "code",
   "execution_count": null,
   "metadata": {
    "collapsed": false,
    "deletable": true,
    "editable": true
   },
   "outputs": [],
   "source": [
    "for n in [0,1,2,3,4,5]:\n",
    "    square = n**2\n",
    "    print(n,'squared is',square)"
   ]
  },
  {
   "cell_type": "code",
   "execution_count": null,
   "metadata": {
    "collapsed": true,
    "deletable": true,
    "editable": true
   },
   "outputs": [],
   "source": [
    "def is_prime(N):\n",
    "    \"Determine whether or not N is a prime number.\"\n",
    "    \n",
    "    \"is prime original\"\n",
    "    \n",
    "    if N <= 1:\n",
    "        return False\n",
    "    # N is prime if N is only divisible by 1 and itself\n",
    "    # We should test whether N is divisible by d for all 1 < d < N\n",
    "    for d in range(2,N):\n",
    "        # Check if N is divisible by d\n",
    "        if N % d == 0:\n",
    "            return False\n",
    "    # If we exit the for loop, then N is not divisible by any d\n",
    "    # Therefore N is prime\n",
    "    return True"
   ]
  },
  {
   "cell_type": "code",
   "execution_count": null,
   "metadata": {
    "collapsed": true,
    "deletable": true,
    "editable": true
   },
   "outputs": [],
   "source": [
    "def linear(start, stop, by):\n",
    "    \"\"\"Create a list starting with the specified start value and followed\n",
    "    by values incremented by the specified amount. The list never goes\n",
    "    over the stop value\"\"\"\n",
    "    if start < stop:\n",
    "        # starting with an empty list for population later with while loop\n",
    "        list = []\n",
    "        # continue the recursion as long as start <= or equal to stop\n",
    "        while(start <= stop):\n",
    "            list.append(float(start))\n",
    "            # make the next start term start + by\n",
    "            start = start + by\n",
    "        return print(list)\n",
    "    \n",
    "    if start >= stop:\n",
    "        print('Error: First argument must be less than the second argument')\n",
    "        return None"
   ]
  },
  {
   "cell_type": "code",
   "execution_count": null,
   "metadata": {
    "collapsed": true,
    "deletable": true,
    "editable": true
   },
   "outputs": [],
   "source": [
    "def squares_between(a,b):\n",
    "    \"\"\"Function to give a list of squares in the closed interval \n",
    "    between a and b inclusive\"\"\"\n",
    "    list =[]\n",
    "    for i in range(0,int(b+1)):\n",
    "        if (i>=a and i<=b and (i**0.5).is_integer()):\n",
    "            list.append(i)            \n",
    "    return list"
   ]
  },
  {
   "cell_type": "code",
   "execution_count": null,
   "metadata": {
    "collapsed": true,
    "deletable": true,
    "editable": true
   },
   "outputs": [],
   "source": [
    "def longest_string(los):\n",
    "    \"\"\"Given a list of strings, return the length of longest string\"\"\"\n",
    "    # indexing and for loops\n",
    "    l = 0\n",
    "    for i in range(len(los)):\n",
    "        if len(los[i])>l:\n",
    "            l = len(los[i])\n",
    "            pos = i\n",
    "    return len(los[pos])"
   ]
  },
  {
   "cell_type": "markdown",
   "metadata": {
    "deletable": true,
    "editable": true
   },
   "source": [
    "## Complex For Loop Functions"
   ]
  },
  {
   "cell_type": "code",
   "execution_count": null,
   "metadata": {
    "collapsed": false,
    "deletable": true,
    "editable": true
   },
   "outputs": [],
   "source": [
    "squares = []\n",
    "for d in range(1,10):\n",
    "    # Append the next square to the list\n",
    "    squares.append(d**2)\n",
    "    print(squares)"
   ]
  },
  {
   "cell_type": "markdown",
   "metadata": {
    "deletable": true,
    "editable": true
   },
   "source": [
    "### Recursive sequences\n",
    "\n",
    "We can only use list comprehensions and for loops in the manner above when the sequence values are defined by a formula. But what if we want to construct a sequence where the next value depends on the previous value? Such a sequence is called a [recursive sequence](https://en.wikipedia.org/wiki/Recursion).\n",
    "\n",
    "For example, consider the [Fibonacci sequence](https://en.wikipedia.org/wiki/Fibonacci_number):\n",
    "\n",
    "$$\n",
    "x_1 = 1, x_2 = 1, x_3 = 2, x_4 = 3, x_5 = 5, ...\n",
    "$$\n",
    "\n",
    "where $$x_{n} = x_{n-1} + x_{n-2}$$\n",
    "\n",
    "We can't use a list comprehension to build the list of Fibonacci numbers, and so we use a for loop instead. For example, the first 15 Fibonacci numbers are:"
   ]
  },
  {
   "cell_type": "code",
   "execution_count": null,
   "metadata": {
    "collapsed": false,
    "deletable": true,
    "editable": true
   },
   "outputs": [],
   "source": [
    "fib_list = [1,1]\n",
    "for n in range(2,15):\n",
    "    fib_list_n = fib_list[n-1] + fib_list[n-2]\n",
    "    fib_list.append(fib_list_n)\n",
    "    print(fib_list)"
   ]
  },
  {
   "cell_type": "code",
   "execution_count": null,
   "metadata": {
    "collapsed": true,
    "deletable": true,
    "editable": true
   },
   "outputs": [],
   "source": [
    "def fib_less_than(N):\n",
    "    \"\"\"Compute the list of Fibonnacci numbers less than N.\"\"\"\n",
    "    # Intialize the list with the first 2 Fibonacci numbers\n",
    "    fib_list = [1,1]\n",
    "    for n in range(2,N):\n",
    "        # Compute the next Fibonacci number\n",
    "        fib_list_n = fib_list[n-1] + fib_list[n-2]\n",
    "        if fib_list_n < N:\n",
    "            # Append the new Fibonacci number to the list if it is less than N\n",
    "            fib_list.append(fib_list_n)\n",
    "        else:\n",
    "            # Stop the loop if the last Fibonnacci number computed is greater than N\n",
    "            break\n",
    "    return fib_list"
   ]
  },
  {
   "cell_type": "code",
   "execution_count": null,
   "metadata": {
    "collapsed": false,
    "deletable": true,
    "editable": true
   },
   "outputs": [],
   "source": [
    "fib_less_than(100)"
   ]
  },
  {
   "cell_type": "markdown",
   "metadata": {
    "deletable": true,
    "editable": true
   },
   "source": [
    "#### Collatz sequence\n",
    "\n",
    "Write a function called `collatz` which takes one input parameter $a$ and computes the [Collatz sequence](https://en.wikipedia.org/wiki/Collatz_conjecture) defined by:\n",
    "\n",
    "$$\n",
    "x_{n+1} = \\left\\{ \\begin{array}{cc} x_n / 2 & \\text{if } x_n \\text{ is even} \\\\ 3x_n + 1 & \\text{if } x_n \\text{ is odd} \\end{array} \\right.\n",
    "$$\n",
    "\n",
    "where $x_0 = a$ and the sequence terminates at 1.\n",
    "\n",
    "For example, if $a = 10$ then $x_0 = 10$, $x_1 = 5$, $x_2 = 16$, $x_3 = 8$, $x_4 = 4$, $x_5 = 2$ and $x_6 = 1$."
   ]
  },
  {
   "cell_type": "code",
   "execution_count": null,
   "metadata": {
    "collapsed": true,
    "deletable": true,
    "editable": true
   },
   "outputs": [],
   "source": [
    "def collatz(a):\n",
    "    \"\"\"Compute the Collatz sequence starting at a.\"\"\"\n",
    "    \n",
    "    \"\"\"while loops and recursions\"\"\"\n",
    "    # Initialze the sequence with the fist value a.\n",
    "    x_list = [a]\n",
    "    # Continue computing values in the sequence until we reach 1.\n",
    "    while x_list[-1] != 1:\n",
    "        # Check if the last element in the list is even\n",
    "        if x_list[-1] % 2 == 0:\n",
    "            # Compute and append the new values\n",
    "            x_list.append(x_list[-1] // 2)\n",
    "        else:\n",
    "            # Compute and append the new values\n",
    "            x_list.append(3*x_list[-1] + 1)\n",
    "    return x_list"
   ]
  },
  {
   "cell_type": "code",
   "execution_count": null,
   "metadata": {
    "collapsed": false,
    "deletable": true,
    "editable": true
   },
   "outputs": [],
   "source": [
    "print(collatz(10))"
   ]
  },
  {
   "cell_type": "markdown",
   "metadata": {
    "deletable": true,
    "editable": true
   },
   "source": [
    "## Loops and Sequences"
   ]
  },
  {
   "cell_type": "code",
   "execution_count": null,
   "metadata": {
    "collapsed": true,
    "deletable": true,
    "editable": true
   },
   "outputs": [],
   "source": [
    "def divisors(N):\n",
    "    \"\"\"Return the list of divisors of N.\"\"\"\n",
    "    # Initialize the list of divisors\n",
    "    divisor_list = [1]\n",
    "    # Check division by d for d <= N/2\n",
    "    for d in range(2,N // 2 + 1):\n",
    "        if N % d == 0:\n",
    "            divisor_list.append(d)\n",
    "    divisor_list.append(N)\n",
    "    return divisor_list"
   ]
  },
  {
   "cell_type": "code",
   "execution_count": null,
   "metadata": {
    "collapsed": false,
    "deletable": true,
    "editable": true
   },
   "outputs": [],
   "source": [
    "divisors(100)"
   ]
  },
  {
   "cell_type": "code",
   "execution_count": null,
   "metadata": {
    "collapsed": true,
    "deletable": true,
    "editable": true
   },
   "outputs": [],
   "source": [
    "def rep_as_squares(N):\n",
    "    \"\"\"Find all representations of N as a sum of squares a**2 + b**2 = N.\"\"\"\n",
    "    \n",
    "    # double for loops\n",
    "    \n",
    "    reps = []\n",
    "    for a in range(1,N):\n",
    "        for b in range(a,N):\n",
    "            if a**2 + b**2 == N:\n",
    "                reps.append([a,b])\n",
    "    return reps"
   ]
  },
  {
   "cell_type": "code",
   "execution_count": null,
   "metadata": {
    "collapsed": false,
    "deletable": true,
    "editable": true
   },
   "outputs": [],
   "source": [
    "rep_as_squares(5)"
   ]
  },
  {
   "cell_type": "code",
   "execution_count": null,
   "metadata": {
    "collapsed": true,
    "deletable": true,
    "editable": true
   },
   "outputs": [],
   "source": [
    "def prime_divisors(N):\n",
    "    # prime divisors\n",
    "    def is_prime(a):\n",
    "        if a<=1:\n",
    "            return False\n",
    "        for div in range(2,a):\n",
    "            if a % div == 0:\n",
    "                return False\n",
    "        return True\n",
    "    \n",
    "    prime_divisors_list = []\n",
    "    \n",
    "    for d in range(1, N // 2 + 1):\n",
    "        if (N % d == 0) and is_prime(d):\n",
    "            prime_divisors_list.append(d)\n",
    "    \n",
    "    return prime_divisors_list\n",
    "            "
   ]
  },
  {
   "cell_type": "code",
   "execution_count": null,
   "metadata": {
    "collapsed": true,
    "deletable": true,
    "editable": true
   },
   "outputs": [],
   "source": [
    "def prime_factorization(N):\n",
    "    # loops list creation helper functions recursions\n",
    "    def is_prime(a):\n",
    "        if a<=1:\n",
    "            return False\n",
    "        for div in range(2,a):\n",
    "            if a % div == 0:\n",
    "                return False\n",
    "        return True\n",
    "    \n",
    "    if is_prime(N):\n",
    "        return (N,1)\n",
    "        \n",
    "    prime_factorization_list = []\n",
    "      \n",
    "    for i in prime_divisors(N):\n",
    "        acc = N \n",
    "        count = 0\n",
    "        \n",
    "        while acc % i == 0:\n",
    "            acc = acc/i\n",
    "            count = count + 1\n",
    "        prime_factorization_list.append((i,count))\n",
    "        \n",
    "    return prime_factorization_list\n",
    "        "
   ]
  },
  {
   "cell_type": "code",
   "execution_count": null,
   "metadata": {
    "collapsed": true,
    "deletable": true,
    "editable": true
   },
   "outputs": [],
   "source": [
    "def sequence_to_fraction(listof_int):\n",
    "    \n",
    "    # natural recursion multiplication\n",
    "    \n",
    "    listof_b = [listof_int[0]]\n",
    "    \n",
    "    for n in range(1, len(listof_int)):\n",
    "        \n",
    "        bn = listof_int[n] + (1/listof_b[n-1])\n",
    "        listof_b.append(bn)\n",
    "        \n",
    "    return listof_b[-1]"
   ]
  },
  {
   "cell_type": "markdown",
   "metadata": {
    "deletable": true,
    "editable": true
   },
   "source": [
    "## NumPy and matplotlib"
   ]
  },
  {
   "cell_type": "code",
   "execution_count": null,
   "metadata": {
    "collapsed": false,
    "deletable": true,
    "editable": true
   },
   "outputs": [],
   "source": [
    "import numpy as np\n",
    "import matplotlib.pyplot as plt\n",
    "%matplotlib inline"
   ]
  },
  {
   "cell_type": "markdown",
   "metadata": {
    "deletable": true,
    "editable": true
   },
   "source": [
    "## Numpy Arrays"
   ]
  },
  {
   "cell_type": "code",
   "execution_count": null,
   "metadata": {
    "collapsed": false,
    "deletable": true,
    "editable": true
   },
   "outputs": [],
   "source": [
    "M = np.array([[1,2,3],[4,5,6]])\n",
    "print(M)"
   ]
  },
  {
   "cell_type": "markdown",
   "metadata": {
    "deletable": true,
    "editable": true
   },
   "source": [
    "NumPy functions\n",
    "\n",
    "There are several NumPy functions for generating arrays:\n",
    "\n",
    "1. `np.linspace`\n",
    "2. `np.arange`\n",
    "3. `np.zeros`\n",
    "4. `np.ones`\n",
    "5. `np.eye` (identity matrix)\n"
   ]
  },
  {
   "cell_type": "markdown",
   "metadata": {
    "deletable": true,
    "editable": true
   },
   "source": [
    "## Random Number Generation"
   ]
  },
  {
   "cell_type": "code",
   "execution_count": null,
   "metadata": {
    "collapsed": false,
    "deletable": true,
    "editable": true
   },
   "outputs": [],
   "source": [
    "np.random.rand()"
   ]
  },
  {
   "cell_type": "code",
   "execution_count": null,
   "metadata": {
    "collapsed": false,
    "deletable": true,
    "editable": true
   },
   "outputs": [],
   "source": [
    "np.random.rand(3)"
   ]
  },
  {
   "cell_type": "code",
   "execution_count": null,
   "metadata": {
    "collapsed": false,
    "deletable": true,
    "editable": true
   },
   "outputs": [],
   "source": [
    "np.random.rand(2,4)"
   ]
  },
  {
   "cell_type": "markdown",
   "metadata": {
    "deletable": true,
    "editable": true
   },
   "source": [
    "### Normal distribution\n",
    "\n",
    "We also have the standard normal distribution `np.random.randn`"
   ]
  },
  {
   "cell_type": "code",
   "execution_count": null,
   "metadata": {
    "collapsed": false,
    "deletable": true,
    "editable": true
   },
   "outputs": [],
   "source": [
    "np.random.randn(2,5)"
   ]
  },
  {
   "cell_type": "markdown",
   "metadata": {
    "deletable": true,
    "editable": true
   },
   "source": [
    "### Random Integers"
   ]
  },
  {
   "cell_type": "code",
   "execution_count": null,
   "metadata": {
    "collapsed": false,
    "deletable": true,
    "editable": true
   },
   "outputs": [],
   "source": [
    "np.random.randint(0,2,size=[4,8])"
   ]
  },
  {
   "cell_type": "code",
   "execution_count": null,
   "metadata": {
    "collapsed": false,
    "deletable": true,
    "editable": true
   },
   "outputs": [],
   "source": [
    "roll = np.random.randint(1,7)\n",
    "# dice rolling\n",
    "while roll != 6:\n",
    "    print('You rolled a {}. Try again!'.format(roll))\n",
    "    roll = np.random.randint(1,7)\n",
    "print(\"Whoop! There's a 6!\")"
   ]
  },
  {
   "cell_type": "markdown",
   "metadata": {
    "deletable": true,
    "editable": true
   },
   "source": [
    "## Creating NumPy Arrays"
   ]
  },
  {
   "cell_type": "code",
   "execution_count": null,
   "metadata": {
    "collapsed": false,
    "deletable": true,
    "editable": true
   },
   "outputs": [],
   "source": [
    "np.array([9,8,7,6,5,4,3,2,1])\n",
    "# converting list to np.arry"
   ]
  },
  {
   "cell_type": "code",
   "execution_count": null,
   "metadata": {
    "collapsed": false,
    "deletable": true,
    "editable": true,
    "scrolled": true
   },
   "outputs": [],
   "source": [
    "np.linspace(0,5,21)"
   ]
  },
  {
   "cell_type": "markdown",
   "metadata": {
    "deletable": true,
    "editable": true
   },
   "source": [
    "## Array Operations"
   ]
  },
  {
   "cell_type": "code",
   "execution_count": null,
   "metadata": {
    "collapsed": false,
    "deletable": true,
    "editable": true,
    "scrolled": true
   },
   "outputs": [],
   "source": [
    "v = np.array([1,2,3])\n",
    "w = np.array([1,0,-1])\n",
    "\n",
    "print(v+w)\n",
    "print(v-w)\n",
    "print(v*w)"
   ]
  },
  {
   "cell_type": "code",
   "execution_count": null,
   "metadata": {
    "collapsed": true,
    "deletable": true,
    "editable": true
   },
   "outputs": [],
   "source": [
    "def power_series(a,x):\n",
    "    \n",
    "    xpower = [x**k for k in range(0,len(a))]\n",
    "    \n",
    "    return np.sum(a*xpower)"
   ]
  },
  {
   "cell_type": "code",
   "execution_count": null,
   "metadata": {
    "collapsed": false,
    "deletable": true,
    "editable": true
   },
   "outputs": [],
   "source": [
    "power_series(np.ones(100),0.5)"
   ]
  },
  {
   "cell_type": "markdown",
   "metadata": {
    "deletable": true,
    "editable": true
   },
   "source": [
    "## Plotting Elements"
   ]
  },
  {
   "cell_type": "markdown",
   "metadata": {
    "deletable": true,
    "editable": true
   },
   "source": [
    "Exploring `pyplot` commands\n",
    "\n",
    "There are many [`pyplot`](http://matplotlib.org/api/pyplot_summary.html) commands available for us to customize our figures. For example:\n",
    "\n",
    "* `xlim` and `ylim` set the display limits of the figure\n",
    "* `grid` adds gird lines\n",
    "* `title` adds a title to the figure\n",
    "* `xlabel` and `ylabel` add labels to the horizontal and vertical axes\n",
    "* `savefig` to save the figure (as .png, .pdf, etc) to the current working directory\n",
    "* `show` renders the plot (this command is implicitly called by the Jupyter notebook when a cell is finished executing)\n",
    "* `legend` display a legend for several lines in the same figure\n",
    "\n",
    "The best way to explore these commands is by examples!"
   ]
  },
  {
   "cell_type": "code",
   "execution_count": null,
   "metadata": {
    "collapsed": false,
    "deletable": true,
    "editable": true,
    "scrolled": true
   },
   "outputs": [],
   "source": [
    "# Create x and y arrays for our plot\n",
    "x = np.linspace(0,2*np.pi,1000)\n",
    "y = np.sin(x) + np.sin(4*x)\n",
    "\n",
    "# Plot the curve add style to line\n",
    "plt.plot(x,y,'r--',linewidth=2);\n",
    "\n",
    "# Set the x and y limits of the display, and add dash-dot grid lines\n",
    "plt.xlim([0,2*np.pi]), plt.ylim([-3,3]), plt.grid('on',linestyle='-.');\n",
    "\n",
    "# Add title and axes labels\n",
    "plt.title('Sum of sine waves'), plt.xlabel('Time (s)'), plt.ylabel('Amplitude (mm)');\n",
    "\n",
    "# Save\n",
    "# plt.savefig('sine.png',format='png')"
   ]
  },
  {
   "cell_type": "code",
   "execution_count": null,
   "metadata": {
    "collapsed": false,
    "deletable": true,
    "editable": true
   },
   "outputs": [],
   "source": [
    "x = np.linspace(0,10*np.pi,1000)\n",
    "y = np.exp(-0.2*x) * np.cos(x)\n",
    "plt.figure(figsize=(16,5)) # Make the figure 12 units wide by 5 units high\n",
    "plt.plot(x,y)\n",
    "plt.xlim([0,10*np.pi]) # Set the window width display to [0,10*\\pi]\n",
    "plt.ylim([-1,1]) # Set the window height display to [-1,1]\n",
    "plt.grid('on') # Show grid lines\n",
    "plt.title('Our first plot!'); # Add a title"
   ]
  },
  {
   "cell_type": "code",
   "execution_count": null,
   "metadata": {
    "collapsed": false,
    "deletable": true,
    "editable": true,
    "scrolled": true
   },
   "outputs": [],
   "source": [
    "N = 1000\n",
    "x = np.random.rand(N)\n",
    "y = np.random.rand(N)\n",
    "colors = np.random.rand(N)\n",
    "sizes = np.random.rand(N)*100\n",
    "\n",
    "plt.scatter(x,y,s=sizes,c=colors,lw=0,alpha=0.3);\n",
    "# scatter properties"
   ]
  },
  {
   "cell_type": "code",
   "execution_count": null,
   "metadata": {
    "collapsed": false,
    "deletable": true,
    "editable": true
   },
   "outputs": [],
   "source": [
    "t = np.linspace(0,4*np.pi,100)\n",
    "y1 = np.sin(t)\n",
    "y2 = np.cos(t)\n",
    "plt.plot(t,y1,t,y2), plt.xlim([0,4*np.pi]), plt.ylim([-2,2])\n",
    "plt.legend(['y = sin(t)','y = cos(t)']);"
   ]
  },
  {
   "cell_type": "markdown",
   "metadata": {
    "deletable": true,
    "editable": true
   },
   "source": [
    "The basic plotting function in Matplotlib is `matplotlib.pyplot.plot`, or `plt.plot` when we import `matplotlib.pyplot` as `plt`. The basic procedure is:\n",
    "\n",
    "1. Make an array of x values\n",
    "2. Use the array of x values to create an array of y values\n",
    "3. Enter `plt.plot(x,y)`\n",
    "4. Add style to the plot using various `pyplot` commands such as `plt.title`, `plt.xlim`, etc...\n",
    "\n",
    "Check out the `pyplot` [documentation](http://matplotlib.org/api/pyplot_summary.html) for more options."
   ]
  },
  {
   "cell_type": "code",
   "execution_count": null,
   "metadata": {
    "collapsed": false,
    "deletable": true,
    "editable": true
   },
   "outputs": [],
   "source": [
    "x = np.linspace(-2,2,100)\n",
    "y = x**4 - 4*x**2 - x + 1\n",
    "plt.plot(x,y,'ro',markersize=2)\n",
    "plt.title('Graph of y = x^4 - 4x^2 - x + 1')\n",
    "plt.grid('on')\n",
    "plt.xlabel('x')\n",
    "plt.ylabel('y');"
   ]
  },
  {
   "cell_type": "code",
   "execution_count": null,
   "metadata": {
    "collapsed": false,
    "deletable": true,
    "editable": true
   },
   "outputs": [],
   "source": [
    "x = np.linspace(-2,2,100)\n",
    "y = 1 - x**2\n",
    "plt.plot(x,y,'r*'); # Each point is a red star"
   ]
  },
  {
   "cell_type": "code",
   "execution_count": null,
   "metadata": {
    "collapsed": false,
    "deletable": true,
    "editable": true
   },
   "outputs": [],
   "source": [
    "x = np.linspace(-50,50,500)\n",
    "y = np.sin(x)\n",
    "plt.plot(x,y,'b.') # Plot each point as a blue dot\n",
    "plt.xlim([-50,50]), plt.ylim([-2,2]); # Set the x and y limits of the display"
   ]
  },
  {
   "cell_type": "code",
   "execution_count": null,
   "metadata": {
    "collapsed": false,
    "deletable": true,
    "editable": true
   },
   "outputs": [],
   "source": [
    "x = np.arange(-10,10,0.01)\n",
    "y = np.exp(-x**2 / 10) * np.cos(5*x)\n",
    "plt.plot(x,y), plt.ylim([-1.5,1.5]), plt.grid('on');"
   ]
  },
  {
   "cell_type": "code",
   "execution_count": null,
   "metadata": {
    "collapsed": false,
    "deletable": true,
    "editable": true
   },
   "outputs": [],
   "source": [
    "t = np.linspace(0,2*np.pi,100)\n",
    "x = np.cos(t)\n",
    "y = np.sin(t)\n",
    "plt.figure(figsize=[5,5])\n",
    "plt.plot(x,y)\n",
    "plt.axis('equal'), plt.xlim([-2,2]), plt.ylim([-2,2]);"
   ]
  },
  {
   "cell_type": "code",
   "execution_count": null,
   "metadata": {
    "collapsed": false,
    "deletable": true,
    "editable": true
   },
   "outputs": [],
   "source": [
    "t = np.linspace(0,2*np.pi,1000)\n",
    "x = t * np.cos(10*t)\n",
    "y = t * np.sin(10*t)\n",
    "plt.plot(x,y), plt.axis('equal'), plt.xlim([-2,2]), plt.ylim([-2,2]);\n"
   ]
  },
  {
   "cell_type": "code",
   "execution_count": null,
   "metadata": {
    "collapsed": false,
    "deletable": true,
    "editable": true
   },
   "outputs": [],
   "source": [
    "# for loops and plotting\n",
    "x = np.linspace(-2,2,1000)\n",
    "ks = np.random.rand(100)*10\n",
    "for k in ks:\n",
    "    y = np.exp(-x**2) * np.cos(k*x)\n",
    "    plt.plot(x,y)\n",
    "    plt.axis('equal');"
   ]
  },
  {
   "cell_type": "markdown",
   "metadata": {
    "deletable": true,
    "editable": true
   },
   "source": [
    "## Plotting Functions\n",
    "\n",
    "$$\n",
    "f_{triangle} (t)= \\frac{8}{\\pi^2} \\sum_{k=0}^{\\infty}(-1)^k\\frac{\\sin(2\\pi(2k+1)t)}{(2k+1)^2}\n",
    "$$"
   ]
  },
  {
   "cell_type": "code",
   "execution_count": null,
   "metadata": {
    "collapsed": true,
    "deletable": true,
    "editable": true
   },
   "outputs": [],
   "source": [
    "def triangle_wave(N,interval):\n",
    "    \n",
    "    def f_triangle(t,N):\n",
    "    \n",
    "        lox = []\n",
    "    \n",
    "        for k in range(0,N+1):\n",
    "        \n",
    "            element = ((-1)**k) * (np.sin(2*np.pi*(2*k + 1)*t))/(2*k + 1)**2\n",
    "        \n",
    "            lox.append(element)\n",
    "        return (8/np.pi**2)*sum(lox)\n",
    "\n",
    "    x = np.linspace(min(interval),max(interval), 1000)\n",
    "    y = f_triangle(x,N)\n",
    "    \n",
    "    return plt.plot(x,y), plt.grid('on'), plt.ylim([-2,2])\n",
    "    "
   ]
  },
  {
   "cell_type": "code",
   "execution_count": null,
   "metadata": {
    "collapsed": false,
    "deletable": true,
    "editable": true
   },
   "outputs": [],
   "source": [
    "triangle_wave(3,[0,3]);"
   ]
  },
  {
   "cell_type": "code",
   "execution_count": null,
   "metadata": {
    "collapsed": true,
    "deletable": true,
    "editable": true
   },
   "outputs": [],
   "source": [
    "def sawtooth_waves(n,m,T):\n",
    "    # subplots\n",
    "    N_range = [1,(n*m)+1]\n",
    "    t_range = [0,T]\n",
    "    \n",
    "    def f_sawtooth(t,N):\n",
    "        lox = []\n",
    "    \n",
    "        for k in range(1,N+1):\n",
    "        \n",
    "            element = ((-1)**(k+1)) * (np.sin(2*np.pi*k*t)/k)\n",
    "            lox.append(element)\n",
    "        \n",
    "        return (2/np.pi)*sum(lox)\n",
    "    \n",
    "    plt.figure(figsize=(2*m,2*n))\n",
    "    \n",
    "    for N in range(1,(n*m)+1):\n",
    "        plt.subplot(n,m,N)\n",
    "        t = np.linspace(0,T, 1000)\n",
    "        y = f_sawtooth(t,N)\n",
    "        plt.plot(t,y), plt.grid('on'), \n",
    "        plt.title('N=' + str(N)),plt.tight_layout()\n",
    "    "
   ]
  },
  {
   "cell_type": "code",
   "execution_count": null,
   "metadata": {
    "collapsed": false,
    "deletable": true,
    "editable": true
   },
   "outputs": [],
   "source": [
    "sawtooth_waves(2,4,2)"
   ]
  },
  {
   "cell_type": "markdown",
   "metadata": {
    "deletable": true,
    "editable": true
   },
   "source": [
    " ## Array methods and attributes"
   ]
  },
  {
   "cell_type": "code",
   "execution_count": null,
   "metadata": {
    "collapsed": true,
    "deletable": true,
    "editable": true
   },
   "outputs": [],
   "source": [
    "arr = np.array([1,2,3,4,5])"
   ]
  },
  {
   "cell_type": "code",
   "execution_count": null,
   "metadata": {
    "collapsed": false,
    "deletable": true,
    "editable": true
   },
   "outputs": [],
   "source": [
    "arr.sum()"
   ]
  },
  {
   "cell_type": "code",
   "execution_count": null,
   "metadata": {
    "collapsed": false,
    "deletable": true,
    "editable": true
   },
   "outputs": [],
   "source": [
    "np.sum(arr)"
   ]
  },
  {
   "cell_type": "code",
   "execution_count": null,
   "metadata": {
    "collapsed": false,
    "deletable": true,
    "editable": true
   },
   "outputs": [],
   "source": [
    "arr.prod()"
   ]
  },
  {
   "cell_type": "code",
   "execution_count": null,
   "metadata": {
    "collapsed": true,
    "deletable": true,
    "editable": true
   },
   "outputs": [],
   "source": [
    "def factorial(n):\n",
    "    return np.array(range(1,n+1)).prod()"
   ]
  },
  {
   "cell_type": "code",
   "execution_count": null,
   "metadata": {
    "collapsed": false,
    "deletable": true,
    "editable": true
   },
   "outputs": [],
   "source": [
    "arr.cumsum()\n",
    "# cumulative sum"
   ]
  },
  {
   "cell_type": "code",
   "execution_count": null,
   "metadata": {
    "collapsed": false,
    "deletable": true,
    "editable": true
   },
   "outputs": [],
   "source": [
    "x = np.random.randn(1000,10).cumsum(axis=0) # Take the cumulative sum down the columns\n",
    "plt.plot(x); # Plot each of the 10 columns of x"
   ]
  },
  {
   "cell_type": "code",
   "execution_count": null,
   "metadata": {
    "collapsed": false,
    "deletable": true,
    "editable": true
   },
   "outputs": [],
   "source": [
    "A = np.array([[1,2],[3,4]])\n",
    "A"
   ]
  },
  {
   "cell_type": "code",
   "execution_count": null,
   "metadata": {
    "collapsed": false,
    "deletable": true,
    "editable": true
   },
   "outputs": [],
   "source": [
    "A.transpose()"
   ]
  },
  {
   "cell_type": "code",
   "execution_count": null,
   "metadata": {
    "collapsed": false,
    "deletable": true,
    "editable": true
   },
   "outputs": [],
   "source": [
    "A.mean()"
   ]
  },
  {
   "cell_type": "code",
   "execution_count": null,
   "metadata": {
    "collapsed": false,
    "deletable": true,
    "editable": true
   },
   "outputs": [],
   "source": [
    "A.mean(axis=0) # Axis 0 is across the rows"
   ]
  },
  {
   "cell_type": "code",
   "execution_count": null,
   "metadata": {
    "collapsed": false,
    "deletable": true,
    "editable": true
   },
   "outputs": [],
   "source": [
    "A.mean(axis=1) # Axis 1 is down the columns"
   ]
  },
  {
   "cell_type": "code",
   "execution_count": null,
   "metadata": {
    "collapsed": false,
    "deletable": true,
    "editable": true
   },
   "outputs": [],
   "source": [
    "M = np.random.randint(0,2,[4,5])\n",
    "print(M)\n",
    "M.shape"
   ]
  },
  {
   "cell_type": "markdown",
   "metadata": {
    "deletable": true,
    "editable": true
   },
   "source": [
    "## Array slicing and indexing"
   ]
  },
  {
   "cell_type": "code",
   "execution_count": null,
   "metadata": {
    "collapsed": false,
    "deletable": true,
    "editable": true
   },
   "outputs": [],
   "source": [
    "A = np.random.randint(0,10,[3,5])\n",
    "A"
   ]
  },
  {
   "cell_type": "code",
   "execution_count": null,
   "metadata": {
    "collapsed": false,
    "deletable": true,
    "editable": true
   },
   "outputs": [],
   "source": [
    "A[2,4] # Row index 2 and column index 4"
   ]
  },
  {
   "cell_type": "code",
   "execution_count": null,
   "metadata": {
    "collapsed": false,
    "deletable": true,
    "editable": true
   },
   "outputs": [],
   "source": [
    "A[0,:] \n",
    "# An example of slicing is to access a whole \n",
    "# row (or column) using the colon `:`"
   ]
  },
  {
   "cell_type": "code",
   "execution_count": null,
   "metadata": {
    "collapsed": false,
    "deletable": true,
    "editable": true
   },
   "outputs": [],
   "source": [
    "A[:,3]\n",
    "# An example of slicing is to access a whole \n",
    "# row (or column) using the colon `:`"
   ]
  },
  {
   "cell_type": "markdown",
   "metadata": {
    "deletable": true,
    "editable": true
   },
   "source": [
    "## Matplotlib figure objects and axes objects"
   ]
  },
  {
   "cell_type": "code",
   "execution_count": null,
   "metadata": {
    "collapsed": false,
    "deletable": true,
    "editable": true
   },
   "outputs": [],
   "source": [
    "fig1 = plt.figure() # Create a new figure\n",
    "ax1 = plt.axes() # Create a new axes object in the current figure\n",
    "ax1.plot(x,y); # Plot a line in the current axes object"
   ]
  },
  {
   "cell_type": "markdown",
   "metadata": {
    "deletable": true,
    "editable": true
   },
   "source": [
    "## Plotting in 3D"
   ]
  },
  {
   "cell_type": "code",
   "execution_count": null,
   "metadata": {
    "collapsed": true,
    "deletable": true,
    "editable": true
   },
   "outputs": [],
   "source": [
    "from mpl_toolkits.mplot3d import Axes3D"
   ]
  },
  {
   "cell_type": "code",
   "execution_count": null,
   "metadata": {
    "collapsed": false,
    "deletable": true,
    "editable": true
   },
   "outputs": [],
   "source": [
    "plt.figure() # Create a new figure\n",
    "ax = plt.axes(projection='3d') # Create a new Axes3D object in the current figure\n",
    "\n",
    "x = np.linspace(-1,1,100) # Create 1D array of x values\n",
    "y = np.linspace(-1,1,100) # Create 1D array of y values\n",
    "X, Y = np.meshgrid(x,y) # Create 2D arrays of x and y values\n",
    "Z = 1 - X**2 - Y**2 # Create 2D array of z values\n",
    "ax.plot_surface(X,Y,Z); # Plot the surface in the current Axes3D object"
   ]
  },
  {
   "cell_type": "code",
   "execution_count": null,
   "metadata": {
    "collapsed": false,
    "deletable": true,
    "editable": true
   },
   "outputs": [],
   "source": [
    "plt.figure() # Create a new figure\n",
    "ax = plt.axes(projection='3d') # Create a new Axes3D object in the current figure\n",
    "\n",
    "x = np.linspace(-8*np.pi,8*np.pi,500)\n",
    "y = np.linspace(-8*np.pi,8*np.pi,500)\n",
    "X, Y = np.meshgrid(x,y)\n",
    "Z = np.cos( np.sqrt(X**2 + Y**2) )\n",
    "ax.plot_surface(X,Y,Z,cmap=plt.cm.winter), ax.set_zlim(bottom=-5,top=5);"
   ]
  },
  {
   "cell_type": "markdown",
   "metadata": {
    "deletable": true,
    "editable": true
   },
   "source": [
    "## Mesh Grid"
   ]
  },
  {
   "cell_type": "code",
   "execution_count": null,
   "metadata": {
    "collapsed": false,
    "deletable": true,
    "editable": true
   },
   "outputs": [],
   "source": [
    "x = [1,2,3]\n",
    "y = [8,9,10,11]\n",
    "\n",
    "np.meshgrid(x,y)"
   ]
  },
  {
   "cell_type": "markdown",
   "metadata": {
    "deletable": true,
    "editable": true
   },
   "source": [
    "The output of meshgrid is a list with 2 entries. We can unpack those entries into variables X and Y."
   ]
  },
  {
   "cell_type": "code",
   "execution_count": null,
   "metadata": {
    "collapsed": false,
    "deletable": true,
    "editable": true
   },
   "outputs": [],
   "source": [
    "X, Y = np.meshgrid(x,y)\n",
    "X"
   ]
  },
  {
   "cell_type": "code",
   "execution_count": null,
   "metadata": {
    "collapsed": false,
    "deletable": true,
    "editable": true
   },
   "outputs": [],
   "source": [
    "Y"
   ]
  },
  {
   "cell_type": "code",
   "execution_count": null,
   "metadata": {
    "collapsed": true,
    "deletable": true,
    "editable": true
   },
   "outputs": [],
   "source": [
    "Z = 1 - X**2 - Y**2"
   ]
  },
  {
   "cell_type": "code",
   "execution_count": null,
   "metadata": {
    "collapsed": false,
    "deletable": true,
    "editable": true
   },
   "outputs": [],
   "source": [
    "# Now we can use array operations to create the 2D array of $z$ values.\n",
    "Z"
   ]
  },
  {
   "cell_type": "code",
   "execution_count": null,
   "metadata": {
    "collapsed": false,
    "deletable": true,
    "editable": true
   },
   "outputs": [],
   "source": [
    "plt.figure() # Create a new figure\n",
    "ax = plt.axes(projection='3d') # Create a new Axes3D object in the current figure\n",
    "\n",
    "phi = np.linspace(0,np.pi,50)\n",
    "theta = np.linspace(0,2*np.pi,50)\n",
    "\n",
    "PHI, THETA = np.meshgrid(phi,theta)\n",
    "\n",
    "X = np.sin(PHI) * np.cos(THETA)\n",
    "Y = np.sin(PHI) * np.sin(THETA)\n",
    "Z = np.cos(PHI)\n",
    "\n",
    "ax.plot_wireframe(X,Y,Z,cmap=plt.cm.winter);"
   ]
  },
  {
   "cell_type": "code",
   "execution_count": null,
   "metadata": {
    "collapsed": true,
    "deletable": true,
    "editable": true
   },
   "outputs": [],
   "source": [
    "def k_sum(N):\n",
    "    \n",
    "    thesum = 0\n",
    "    \n",
    "    for k in range(1,N+1):\n",
    "        element = 1 / (k*(2*k + 1)**2)\n",
    "        thesum = thesum + element\n",
    "        \n",
    "    return thesum"
   ]
  },
  {
   "cell_type": "markdown",
   "metadata": {
    "deletable": true,
    "editable": true
   },
   "source": [
    "$$\\prod_{k=1}^{\\infty} \\left(1-\\frac{1}{(2k+1)^2}\\right) = \\frac{\\pi}{4} $$"
   ]
  },
  {
   "cell_type": "code",
   "execution_count": null,
   "metadata": {
    "collapsed": true,
    "deletable": true,
    "editable": true
   },
   "outputs": [],
   "source": [
    "def k_product(N):\n",
    "    \n",
    "    theproduct = 1 \n",
    "    \n",
    "    for k in range(1,N):\n",
    "        element = 1 - 1/((2*k + 1)**2)\n",
    "        \n",
    "        product = product*element\n",
    "    \n",
    "    return theproduct"
   ]
  },
  {
   "cell_type": "code",
   "execution_count": null,
   "metadata": {
    "collapsed": true,
    "deletable": true,
    "editable": true
   },
   "outputs": [],
   "source": [
    "def no_squares(N):\n",
    "    \n",
    "    def divisors(x):\n",
    "        divisor_list = [1]\n",
    "        \n",
    "        for d in range(2,x // 2 + 1):\n",
    "            if x % d == 0:\n",
    "                divisor_list.append(d)\n",
    "                divisor_list.append(x)\n",
    "        return divisor_list\n",
    "    \n",
    "    def prime_divisors(y):\n",
    "    # prime divisors\n",
    "        def is_prime(a):\n",
    "            if a<=1:\n",
    "                return False\n",
    "            for div in range(2,a):\n",
    "                if a % div == 0:\n",
    "                    return False\n",
    "            return True\n",
    "    \n",
    "        prime_divisors_list = []\n",
    "    \n",
    "        for d in range(1, N // 2 + 1):\n",
    "            if (N % d == 0) and is_prime(d):\n",
    "                prime_divisors_list.append(d)\n",
    "    \n",
    "        return prime_divisors_list\n",
    "    \n",
    "    \n",
    "    div_list = divisors(N)\n",
    "    primediv_list = prime_divisors(N)\n",
    "    \n",
    "    "
   ]
  },
  {
   "cell_type": "code",
   "execution_count": null,
   "metadata": {
    "collapsed": true
   },
   "outputs": [],
   "source": []
  },
  {
   "cell_type": "code",
   "execution_count": null,
   "metadata": {
    "collapsed": true
   },
   "outputs": [],
   "source": []
  },
  {
   "cell_type": "code",
   "execution_count": null,
   "metadata": {
    "collapsed": true
   },
   "outputs": [],
   "source": []
  },
  {
   "cell_type": "code",
   "execution_count": null,
   "metadata": {
    "collapsed": true
   },
   "outputs": [],
   "source": []
  },
  {
   "cell_type": "code",
   "execution_count": null,
   "metadata": {
    "collapsed": true
   },
   "outputs": [],
   "source": []
  },
  {
   "cell_type": "code",
   "execution_count": null,
   "metadata": {
    "collapsed": true
   },
   "outputs": [],
   "source": []
  },
  {
   "cell_type": "code",
   "execution_count": null,
   "metadata": {
    "collapsed": true
   },
   "outputs": [],
   "source": []
  },
  {
   "cell_type": "code",
   "execution_count": null,
   "metadata": {
    "collapsed": true
   },
   "outputs": [],
   "source": []
  },
  {
   "cell_type": "code",
   "execution_count": null,
   "metadata": {
    "collapsed": true
   },
   "outputs": [],
   "source": []
  },
  {
   "cell_type": "code",
   "execution_count": null,
   "metadata": {
    "collapsed": true
   },
   "outputs": [],
   "source": []
  },
  {
   "cell_type": "code",
   "execution_count": null,
   "metadata": {
    "collapsed": true
   },
   "outputs": [],
   "source": []
  },
  {
   "cell_type": "code",
   "execution_count": null,
   "metadata": {
    "collapsed": true
   },
   "outputs": [],
   "source": []
  },
  {
   "cell_type": "code",
   "execution_count": null,
   "metadata": {
    "collapsed": true
   },
   "outputs": [],
   "source": []
  },
  {
   "cell_type": "code",
   "execution_count": null,
   "metadata": {
    "collapsed": true
   },
   "outputs": [],
   "source": []
  },
  {
   "cell_type": "code",
   "execution_count": null,
   "metadata": {
    "collapsed": true
   },
   "outputs": [],
   "source": []
  },
  {
   "cell_type": "code",
   "execution_count": null,
   "metadata": {
    "collapsed": true
   },
   "outputs": [],
   "source": []
  },
  {
   "cell_type": "code",
   "execution_count": null,
   "metadata": {
    "collapsed": true
   },
   "outputs": [],
   "source": []
  },
  {
   "cell_type": "code",
   "execution_count": null,
   "metadata": {
    "collapsed": true
   },
   "outputs": [],
   "source": []
  },
  {
   "cell_type": "code",
   "execution_count": null,
   "metadata": {
    "collapsed": true
   },
   "outputs": [],
   "source": []
  },
  {
   "cell_type": "code",
   "execution_count": null,
   "metadata": {
    "collapsed": true
   },
   "outputs": [],
   "source": []
  },
  {
   "cell_type": "code",
   "execution_count": null,
   "metadata": {
    "collapsed": true
   },
   "outputs": [],
   "source": []
  },
  {
   "cell_type": "code",
   "execution_count": null,
   "metadata": {
    "collapsed": true
   },
   "outputs": [],
   "source": []
  },
  {
   "cell_type": "code",
   "execution_count": null,
   "metadata": {
    "collapsed": true
   },
   "outputs": [],
   "source": []
  },
  {
   "cell_type": "code",
   "execution_count": null,
   "metadata": {
    "collapsed": true
   },
   "outputs": [],
   "source": []
  },
  {
   "cell_type": "code",
   "execution_count": null,
   "metadata": {
    "collapsed": true
   },
   "outputs": [],
   "source": []
  },
  {
   "cell_type": "code",
   "execution_count": null,
   "metadata": {
    "collapsed": true
   },
   "outputs": [],
   "source": []
  },
  {
   "cell_type": "code",
   "execution_count": null,
   "metadata": {
    "collapsed": true
   },
   "outputs": [],
   "source": []
  },
  {
   "cell_type": "code",
   "execution_count": null,
   "metadata": {
    "collapsed": true
   },
   "outputs": [],
   "source": []
  },
  {
   "cell_type": "code",
   "execution_count": null,
   "metadata": {
    "collapsed": true
   },
   "outputs": [],
   "source": []
  },
  {
   "cell_type": "code",
   "execution_count": null,
   "metadata": {
    "collapsed": true
   },
   "outputs": [],
   "source": []
  },
  {
   "cell_type": "code",
   "execution_count": null,
   "metadata": {
    "collapsed": true
   },
   "outputs": [],
   "source": []
  },
  {
   "cell_type": "code",
   "execution_count": null,
   "metadata": {
    "collapsed": true
   },
   "outputs": [],
   "source": []
  },
  {
   "cell_type": "code",
   "execution_count": null,
   "metadata": {
    "collapsed": true
   },
   "outputs": [],
   "source": []
  },
  {
   "cell_type": "code",
   "execution_count": null,
   "metadata": {
    "collapsed": true
   },
   "outputs": [],
   "source": []
  },
  {
   "cell_type": "code",
   "execution_count": null,
   "metadata": {
    "collapsed": true
   },
   "outputs": [],
   "source": []
  },
  {
   "cell_type": "code",
   "execution_count": null,
   "metadata": {
    "collapsed": true
   },
   "outputs": [],
   "source": []
  },
  {
   "cell_type": "code",
   "execution_count": null,
   "metadata": {
    "collapsed": true
   },
   "outputs": [],
   "source": []
  },
  {
   "cell_type": "code",
   "execution_count": null,
   "metadata": {
    "collapsed": true
   },
   "outputs": [],
   "source": []
  },
  {
   "cell_type": "code",
   "execution_count": null,
   "metadata": {
    "collapsed": true
   },
   "outputs": [],
   "source": []
  },
  {
   "cell_type": "code",
   "execution_count": null,
   "metadata": {
    "collapsed": true
   },
   "outputs": [],
   "source": []
  },
  {
   "cell_type": "code",
   "execution_count": null,
   "metadata": {
    "collapsed": true
   },
   "outputs": [],
   "source": []
  },
  {
   "cell_type": "code",
   "execution_count": null,
   "metadata": {
    "collapsed": true
   },
   "outputs": [],
   "source": []
  },
  {
   "cell_type": "code",
   "execution_count": null,
   "metadata": {
    "collapsed": true
   },
   "outputs": [],
   "source": []
  },
  {
   "cell_type": "code",
   "execution_count": null,
   "metadata": {
    "collapsed": true
   },
   "outputs": [],
   "source": []
  },
  {
   "cell_type": "code",
   "execution_count": null,
   "metadata": {
    "collapsed": true
   },
   "outputs": [],
   "source": []
  },
  {
   "cell_type": "code",
   "execution_count": null,
   "metadata": {
    "collapsed": true
   },
   "outputs": [],
   "source": []
  },
  {
   "cell_type": "code",
   "execution_count": null,
   "metadata": {
    "collapsed": true
   },
   "outputs": [],
   "source": []
  },
  {
   "cell_type": "code",
   "execution_count": null,
   "metadata": {
    "collapsed": true
   },
   "outputs": [],
   "source": []
  },
  {
   "cell_type": "code",
   "execution_count": null,
   "metadata": {
    "collapsed": true
   },
   "outputs": [],
   "source": []
  }
 ],
 "metadata": {
  "kernelspec": {
   "display_name": "Python 3",
   "language": "python",
   "name": "python3"
  },
  "language_info": {
   "codemirror_mode": {
    "name": "ipython",
    "version": 3
   },
   "file_extension": ".py",
   "mimetype": "text/x-python",
   "name": "python",
   "nbconvert_exporter": "python",
   "pygments_lexer": "ipython3",
   "version": "3.5.2"
  }
 },
 "nbformat": 4,
 "nbformat_minor": 1
}
