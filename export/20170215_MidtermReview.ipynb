{
 "cells": [
  {
   "cell_type": "markdown",
   "metadata": {},
   "source": [
    "# MATH 210 February 15, 2017\n",
    "\n",
    "Agenda:\n",
    "1. Number theory\n",
    "2. Sequences\n",
    "3. Series\n",
    "4. Solving questions\n",
    "5. Plotting"
   ]
  },
  {
   "cell_type": "code",
   "execution_count": 11,
   "metadata": {
    "collapsed": false
   },
   "outputs": [
    {
     "name": "stderr",
     "output_type": "stream",
     "text": [
      "/opt/conda/lib/python3.5/site-packages/matplotlib/font_manager.py:273: UserWarning: Matplotlib is building the font cache using fc-list. This may take a moment.\n",
      "  warnings.warn('Matplotlib is building the font cache using fc-list. This may take a moment.')\n",
      "/opt/conda/lib/python3.5/site-packages/matplotlib/font_manager.py:273: UserWarning: Matplotlib is building the font cache using fc-list. This may take a moment.\n",
      "  warnings.warn('Matplotlib is building the font cache using fc-list. This may take a moment.')\n"
     ]
    }
   ],
   "source": [
    "import numpy as np\n",
    "import matplotlib.pyplot as plt\n",
    "%matplotlib inline"
   ]
  },
  {
   "cell_type": "markdown",
   "metadata": {},
   "source": [
    "## I. Number Theory\n",
    "\n",
    "Let's plot the function $\\pi(x)$ where $\\pi(x)$ is the number of primes less than $x$."
   ]
  },
  {
   "cell_type": "code",
   "execution_count": 24,
   "metadata": {
    "collapsed": false
   },
   "outputs": [],
   "source": [
    "def is_prime(a):\n",
    "        if a<=1:\n",
    "            return False\n",
    "        for div in range(2,a):\n",
    "            if a % div == 0:\n",
    "                return False\n",
    "        return True"
   ]
  },
  {
   "cell_type": "code",
   "execution_count": 25,
   "metadata": {
    "collapsed": false
   },
   "outputs": [
    {
     "data": {
      "text/plain": [
       "True"
      ]
     },
     "execution_count": 25,
     "metadata": {},
     "output_type": "execute_result"
    }
   ],
   "source": [
    "is_prime(13)"
   ]
  },
  {
   "cell_type": "code",
   "execution_count": 26,
   "metadata": {
    "collapsed": true
   },
   "outputs": [],
   "source": [
    "def pi(x):\n",
    "    # lets create array 0s and 1s where the nth entry is 1 if N is prime and 0 otherwise\n",
    "    \n",
    "    primes = []\n",
    "    \n",
    "    for n in range(0,x+1):\n",
    "        if is_prime(n):\n",
    "            primes.append(1)\n",
    "        else:\n",
    "            primes.append(0)\n",
    "    \n",
    "    #convert list in numpy array\n",
    "    primes = np.array(primes)\n",
    "    \n",
    "    return primes.cumsum()\n",
    "    \n",
    "    "
   ]
  },
  {
   "cell_type": "code",
   "execution_count": 27,
   "metadata": {
    "collapsed": false
   },
   "outputs": [
    {
     "data": {
      "text/plain": [
       "array([0, 0, 1, 2, 2, 3, 3, 4, 4, 4, 4])"
      ]
     },
     "execution_count": 27,
     "metadata": {},
     "output_type": "execute_result"
    }
   ],
   "source": [
    "pi(10)"
   ]
  },
  {
   "cell_type": "code",
   "execution_count": 35,
   "metadata": {
    "collapsed": false
   },
   "outputs": [
    {
     "data": {
      "text/plain": [
       "[<matplotlib.lines.Line2D at 0x7f43a2f30940>]"
      ]
     },
     "execution_count": 35,
     "metadata": {},
     "output_type": "execute_result"
    },
    {
     "data": {
      "image/png": "[encoded data removed]",
      "text/plain": [
       "<matplotlib.figure.Figure at 0x7f43a34b1128>"
      ]
     },
     "metadata": {},
     "output_type": "display_data"
    }
   ],
   "source": [
    "plt.plot(pi(10000))"
   ]
  },
  {
   "cell_type": "markdown",
   "metadata": {},
   "source": [
    "## II. Sequences\n",
    "Let's write a function called `e_sequence` which takes 1 input parameter $N$ and returns the sequence $x_1,\\dots,x_N$ as python list of length $N$\n",
    "\n",
    "$$\n",
    "x_n = \\left(1 + \\frac{1}{n} \\right)^n\n",
    "$$"
   ]
  },
  {
   "cell_type": "code",
   "execution_count": 36,
   "metadata": {
    "collapsed": true
   },
   "outputs": [],
   "source": [
    "def e_sequence(N):\n",
    "    \n",
    "    return [(1 + 1/N)**N for N in range (1,N+1)]"
   ]
  },
  {
   "cell_type": "code",
   "execution_count": 32,
   "metadata": {
    "collapsed": false
   },
   "outputs": [
    {
     "data": {
      "text/plain": [
       "[2.0,\n",
       " 2.25,\n",
       " 2.37037037037037,\n",
       " 2.44140625,\n",
       " 2.4883199999999994,\n",
       " 2.5216263717421135,\n",
       " 2.546499697040712,\n",
       " 2.565784513950348,\n",
       " 2.5811747917131984,\n",
       " 2.5937424601000023]"
      ]
     },
     "execution_count": 32,
     "metadata": {},
     "output_type": "execute_result"
    }
   ],
   "source": [
    "e_sequence(10)"
   ]
  },
  {
   "cell_type": "code",
   "execution_count": 33,
   "metadata": {
    "collapsed": true
   },
   "outputs": [],
   "source": [
    "def e_sequence2(N):\n",
    "    \n",
    "    e_seq = []\n",
    "    \n",
    "    for N in range (1, N+1):\n",
    "        \n",
    "        xn = (1 + 1/N)**N\n",
    "        e_seq.append(xn)\n",
    "        \n",
    "    return e_seq"
   ]
  },
  {
   "cell_type": "code",
   "execution_count": 34,
   "metadata": {
    "collapsed": false
   },
   "outputs": [
    {
     "data": {
      "text/plain": [
       "[2.0,\n",
       " 2.25,\n",
       " 2.37037037037037,\n",
       " 2.44140625,\n",
       " 2.4883199999999994,\n",
       " 2.5216263717421135,\n",
       " 2.546499697040712,\n",
       " 2.565784513950348,\n",
       " 2.5811747917131984,\n",
       " 2.5937424601000023]"
      ]
     },
     "execution_count": 34,
     "metadata": {},
     "output_type": "execute_result"
    }
   ],
   "source": [
    "e_sequence2(10)"
   ]
  },
  {
   "cell_type": "markdown",
   "metadata": {},
   "source": [
    "## III. Series\n",
    "\n",
    "Lets write a function called `cosine_series` which takes 2 input parameters, $x$ and $N$ and computes the series\n",
    "\n",
    "$$\n",
    "\\sum_{k=1}^{N} \\frac{\\cos(kx)}{k^2}\n",
    "$$"
   ]
  },
  {
   "cell_type": "code",
   "execution_count": 43,
   "metadata": {
    "collapsed": true
   },
   "outputs": [],
   "source": [
    "def cosine_series1(x,N):\n",
    "    \n",
    "    summation = 0\n",
    "    \n",
    "    for k in range(1, N+1):\n",
    "        \n",
    "        element = np.cos(k*x)/k**2\n",
    "        \n",
    "        summation = summation + element\n",
    "    \n",
    "    return summation"
   ]
  },
  {
   "cell_type": "code",
   "execution_count": 44,
   "metadata": {
    "collapsed": true
   },
   "outputs": [],
   "source": [
    "def cosine_series2(x,N):\n",
    "    \n",
    "    return np.sum([np.cos(k*x)/k**2 for k in range(1, N+1)])"
   ]
  },
  {
   "cell_type": "code",
   "execution_count": 47,
   "metadata": {
    "collapsed": true
   },
   "outputs": [],
   "source": [
    "def cosine_series3(x,N):\n",
    "    \n",
    "    k = np.arange(1,N+1)\n",
    "    \n",
    "    return np.sum([np.cos(k*x)/k**2])"
   ]
  },
  {
   "cell_type": "code",
   "execution_count": 48,
   "metadata": {
    "collapsed": false
   },
   "outputs": [
    {
     "data": {
      "text/plain": [
       "0.32413266760474985"
      ]
     },
     "execution_count": 48,
     "metadata": {},
     "output_type": "execute_result"
    }
   ],
   "source": [
    "cosine_series1(1,100)"
   ]
  },
  {
   "cell_type": "code",
   "execution_count": 49,
   "metadata": {
    "collapsed": false
   },
   "outputs": [
    {
     "data": {
      "text/plain": [
       "0.32413266760475001"
      ]
     },
     "execution_count": 49,
     "metadata": {},
     "output_type": "execute_result"
    }
   ],
   "source": [
    "cosine_series2(1,100)"
   ]
  },
  {
   "cell_type": "code",
   "execution_count": 50,
   "metadata": {
    "collapsed": false
   },
   "outputs": [
    {
     "data": {
      "text/plain": [
       "0.32413266760475001"
      ]
     },
     "execution_count": 50,
     "metadata": {},
     "output_type": "execute_result"
    }
   ],
   "source": [
    "cosine_series3(1,100)"
   ]
  },
  {
   "cell_type": "markdown",
   "metadata": {},
   "source": [
    "## IV. Solving Equations"
   ]
  },
  {
   "cell_type": "markdown",
   "metadata": {},
   "source": [
    "Write a function called `pells_equation` which take 2 input parameters `n` and `x_range` and returns the list of integer solutions to Pell's equation $x^2 -ny^2 = 1$ with $x$ in hte interval defined by `x_range`"
   ]
  },
  {
   "cell_type": "code",
   "execution_count": 63,
   "metadata": {
    "collapsed": true
   },
   "outputs": [],
   "source": [
    "def is_square(x):\n",
    "    if x < 0:\n",
    "        return False\n",
    "    else:\n",
    "        return round(x**0.5)**2 == x"
   ]
  },
  {
   "cell_type": "code",
   "execution_count": 64,
   "metadata": {
    "collapsed": false
   },
   "outputs": [
    {
     "data": {
      "text/plain": [
       "True"
      ]
     },
     "execution_count": 64,
     "metadata": {},
     "output_type": "execute_result"
    }
   ],
   "source": [
    "is_square(16)"
   ]
  },
  {
   "cell_type": "code",
   "execution_count": 65,
   "metadata": {
    "collapsed": false
   },
   "outputs": [
    {
     "data": {
      "text/plain": [
       "False"
      ]
     },
     "execution_count": 65,
     "metadata": {},
     "output_type": "execute_result"
    }
   ],
   "source": [
    "is_square(13)"
   ]
  },
  {
   "cell_type": "code",
   "execution_count": 66,
   "metadata": {
    "collapsed": false
   },
   "outputs": [],
   "source": [
    "def pells_equation(n, x_range):\n",
    "    \n",
    "    a = x_range[0]\n",
    "    b = x_range[1]\n",
    "    \n",
    "    solutions = []\n",
    "    \n",
    "    for x in range(a,b+1):\n",
    "        \n",
    "        y_squared = (x**2 - 1)/n\n",
    "        \n",
    "        if is_square(y_squared):\n",
    "            \n",
    "            y = y_squared**0.5\n",
    "            \n",
    "            solutions.append([x,y])\n",
    "    return solutions"
   ]
  },
  {
   "cell_type": "code",
   "execution_count": 67,
   "metadata": {
    "collapsed": false
   },
   "outputs": [
    {
     "data": {
      "text/plain": [
       "[[1, 0.0], [9, 4.0]]"
      ]
     },
     "execution_count": 67,
     "metadata": {},
     "output_type": "execute_result"
    }
   ],
   "source": [
    "pells_equation(5,[0,10])"
   ]
  },
  {
   "cell_type": "code",
   "execution_count": null,
   "metadata": {
    "collapsed": true
   },
   "outputs": [],
   "source": []
  }
 ],
 "metadata": {
  "kernelspec": {
   "display_name": "Python 3",
   "language": "python",
   "name": "python3"
  },
  "language_info": {
   "codemirror_mode": {
    "name": "ipython",
    "version": 3
   },
   "file_extension": ".py",
   "mimetype": "text/x-python",
   "name": "python",
   "nbconvert_exporter": "python",
   "pygments_lexer": "ipython3",
   "version": "3.5.2"
  }
 },
 "nbformat": 4,
 "nbformat_minor": 1
}
