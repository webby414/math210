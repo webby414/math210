{
 "cells": [
  {
   "cell_type": "markdown",
   "metadata": {},
   "source": [
    "# MATH 210 January 25 2017\n",
    "\n",
    "Agenda:\n",
    "\n",
    "1. Using a for loop to calculate a product (or sum)\n",
    "2. Using a for loop to construct a sequence\n",
    "3. Nested for loops"
   ]
  },
  {
   "cell_type": "markdown",
   "metadata": {},
   "source": [
    "## I. Using a loop to calculate a product (or sum)\n",
    "\n",
    "### Example: Factorial\n",
    "Write a function called `factorial` which takes a positive integer $N$ and return the facotiral $N!$"
   ]
  },
  {
   "cell_type": "code",
   "execution_count": 46,
   "metadata": {
    "collapsed": true
   },
   "outputs": [],
   "source": [
    "def factorial(N):\n",
    "    \"\"\"Compute the factorial of the number N\"\"\"\n",
    "    # initialize the output variable to 1\n",
    "    product = 1 \n",
    "    \n",
    "    for n in range(2,N+1):\n",
    "        # update the output variable\n",
    "        product = product * n \n",
    "    \n",
    "    return product\n",
    "        "
   ]
  },
  {
   "cell_type": "code",
   "execution_count": 47,
   "metadata": {
    "collapsed": false
   },
   "outputs": [
    {
     "data": {
      "text/plain": [
       "2"
      ]
     },
     "execution_count": 47,
     "metadata": {},
     "output_type": "execute_result"
    }
   ],
   "source": [
    "factorial(2)"
   ]
  },
  {
   "cell_type": "code",
   "execution_count": 48,
   "metadata": {
    "collapsed": false
   },
   "outputs": [
    {
     "data": {
      "text/plain": [
       "24"
      ]
     },
     "execution_count": 48,
     "metadata": {},
     "output_type": "execute_result"
    }
   ],
   "source": [
    "factorial(4)"
   ]
  },
  {
   "cell_type": "markdown",
   "metadata": {},
   "source": [
    "## Example: N Choose K\n",
    "\n",
    "Write a function called `n_choose_k` which takes positive integers $N$ and $K$ and returns.\n",
    "$$ N \\choose K$$ "
   ]
  },
  {
   "cell_type": "code",
   "execution_count": 49,
   "metadata": {
    "collapsed": true
   },
   "outputs": [],
   "source": [
    "def n_choose_k(N,K):\n",
    "    \"\"\"Compute N choose K\"\"\"\n",
    "    \n",
    "    return factorial(N) // (factorial(N - K) * factorial(K))\n",
    "    \n",
    "    "
   ]
  },
  {
   "cell_type": "code",
   "execution_count": 30,
   "metadata": {
    "collapsed": false
   },
   "outputs": [
    {
     "data": {
      "text/plain": [
       "5"
      ]
     },
     "execution_count": 30,
     "metadata": {},
     "output_type": "execute_result"
    }
   ],
   "source": [
    "n_choose_k(5,1)"
   ]
  },
  {
   "cell_type": "markdown",
   "metadata": {},
   "source": [
    "### Example: Sum of Squares\n",
    "\n",
    "Takes a positive integer $N$ and returns the sum of squares $1^2 + 2^2 + 3^2 + \\cdots + N^2$"
   ]
  },
  {
   "cell_type": "code",
   "execution_count": 31,
   "metadata": {
    "collapsed": false
   },
   "outputs": [],
   "source": [
    "def sum_of_squares(N):\n",
    "    \"\"\"Compute the the sum of squares\"\"\"\n",
    "    \n",
    "    thesum = 0\n",
    "    \n",
    "    for n in range(1,N+1):\n",
    "        \n",
    "        thesum = thesum + n**2\n",
    "        \n",
    "    return thesum"
   ]
  },
  {
   "cell_type": "code",
   "execution_count": 32,
   "metadata": {
    "collapsed": false
   },
   "outputs": [
    {
     "data": {
      "text/plain": [
       "30"
      ]
     },
     "execution_count": 32,
     "metadata": {},
     "output_type": "execute_result"
    }
   ],
   "source": [
    "sum_of_squares(4)"
   ]
  },
  {
   "cell_type": "markdown",
   "metadata": {},
   "source": [
    "## II. Using a for loop to construct a sequence\n",
    "\n",
    "## Example: List of Divisors\n",
    "\n",
    "Let's write a function called `divisors` which takes a positive integer $N$ and returns the list of positive integers which divides $N$"
   ]
  },
  {
   "cell_type": "code",
   "execution_count": 1,
   "metadata": {
    "collapsed": true
   },
   "outputs": [],
   "source": [
    "def divisors(N):\n",
    "    \"\"\"return the list of divisors of N\"\"\"\n",
    "    # initialize the list of divisors\n",
    "    divisor_list = [1]\n",
    "    # check division by d for d <= N/2\n",
    "    for d in range(2,N // 2 +1):\n",
    "        if N % d == 0:\n",
    "            divisor_list.append(d)\n",
    "    divisor_list.append(N)\n",
    "    return divisor_list"
   ]
  },
  {
   "cell_type": "code",
   "execution_count": 34,
   "metadata": {
    "collapsed": false
   },
   "outputs": [
    {
     "data": {
      "text/plain": [
       "[1, 2, 5, 10]"
      ]
     },
     "execution_count": 34,
     "metadata": {},
     "output_type": "execute_result"
    }
   ],
   "source": [
    "divisors(10)"
   ]
  },
  {
   "cell_type": "code",
   "execution_count": 35,
   "metadata": {
    "collapsed": false
   },
   "outputs": [
    {
     "data": {
      "text/plain": [
       "[1, 13]"
      ]
     },
     "execution_count": 35,
     "metadata": {},
     "output_type": "execute_result"
    }
   ],
   "source": [
    "divisors(13)"
   ]
  },
  {
   "cell_type": "markdown",
   "metadata": {},
   "source": [
    "## III. Nested For Loops\n",
    "\n",
    "We can use several for loops at once to iterate over several variables. For example, lets write a function called `rep_as_squares` which takes an integer $N$ and finds all the representation of $N$ as a sum of squares $a^2 +b^2 = N$ for $1 \\leq a \\leq b$. For example if $N = 5$ then $ 1^2 + 2^2 = 5$"
   ]
  },
  {
   "cell_type": "code",
   "execution_count": 43,
   "metadata": {
    "collapsed": false
   },
   "outputs": [],
   "source": [
    "def rep_as_squares(N):\n",
    "    \"\"\"Find all representations of N as a sum of squares\"\"\"\n",
    "    reps_list = []\n",
    "    for a in range(1, N):\n",
    "        for b in range(a,N):\n",
    "            if a**2 + b**2 == N:            \n",
    "                reps_list.append([a,b])        \n",
    "    return reps_list"
   ]
  },
  {
   "cell_type": "code",
   "execution_count": 44,
   "metadata": {
    "collapsed": false
   },
   "outputs": [
    {
     "data": {
      "text/plain": [
       "[[1, 2]]"
      ]
     },
     "execution_count": 44,
     "metadata": {},
     "output_type": "execute_result"
    }
   ],
   "source": [
    "rep_as_squares(5)"
   ]
  },
  {
   "cell_type": "code",
   "execution_count": 54,
   "metadata": {
    "collapsed": false
   },
   "outputs": [
    {
     "data": {
      "text/plain": [
       "[[1, 7], [5, 5]]"
      ]
     },
     "execution_count": 54,
     "metadata": {},
     "output_type": "execute_result"
    }
   ],
   "source": [
    "rep_as_squares(50)"
   ]
  },
  {
   "cell_type": "code",
   "execution_count": 57,
   "metadata": {
    "collapsed": false
   },
   "outputs": [
    {
     "name": "stdout",
     "output_type": "stream",
     "text": [
      "[[2, 14], [10, 10]]\n",
      "[[3, 14], [6, 13]]\n",
      "[[5, 14], [10, 11]]\n",
      "[[5, 15], [9, 13]]\n",
      "[[2, 16], [8, 14]]\n",
      "[[3, 16], [11, 12]]\n",
      "[[1, 17], [11, 13]]\n",
      "[[4, 17], [7, 16]]\n",
      "[[1, 18], [6, 17], [10, 15]]\n",
      "[[7, 17], [13, 13]]\n",
      "[[4, 18], [12, 14]]\n",
      "[[2, 19], [13, 14]]\n",
      "[[3, 19], [9, 17]]\n",
      "[[4, 19], [11, 16]]\n"
     ]
    }
   ],
   "source": [
    "for N in range (200,400):\n",
    "    N_list = rep_as_squares(N)\n",
    "    \n",
    "    if len(N_list) > 1:\n",
    "        print(N_list)"
   ]
  },
  {
   "cell_type": "code",
   "execution_count": null,
   "metadata": {
    "collapsed": true
   },
   "outputs": [],
   "source": []
  }
 ],
 "metadata": {
  "kernelspec": {
   "display_name": "Python 3",
   "language": "python",
   "name": "python3"
  },
  "language_info": {
   "codemirror_mode": {
    "name": "ipython",
    "version": 3
   },
   "file_extension": ".py",
   "mimetype": "text/x-python",
   "name": "python",
   "nbconvert_exporter": "python",
   "pygments_lexer": "ipython3",
   "version": "3.5.2"
  }
 },
 "nbformat": 4,
 "nbformat_minor": 1
}
