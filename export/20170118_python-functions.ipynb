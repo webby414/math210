{
 "cells": [
  {
   "cell_type": "markdown",
   "metadata": {},
   "source": [
    "# MATH 210\n",
    "\n",
    "## January 18, 2016\n",
    "\n",
    "Agenda\n",
    "\n",
    "1. Functions\n",
    "2. Excercises"
   ]
  },
  {
   "cell_type": "markdown",
   "metadata": {},
   "source": [
    "## I. Functions\n",
    "\n",
    "A [function] is a way for us to reuse a block of code with different input values. The syntax for defining a function is to use the `def` key word folloed by the function's name and the `return` keyword to specify the output. For example, lets write a function that computes the average of inputs a and b that returns the average."
   ]
  },
  {
   "cell_type": "code",
   "execution_count": 4,
   "metadata": {
    "collapsed": true
   },
   "outputs": [],
   "source": [
    "def average(a,b):\n",
    "    return (a+b)/2"
   ]
  },
  {
   "cell_type": "markdown",
   "metadata": {},
   "source": [
    "In python, code blocks are defined using indentation. This means that lines of code indented the same amount are considered one block.\n",
    "\n",
    "The variables `a` and `b` in the `def` statement are called input parameters. We need to call the function with values for the input parameters for the function to compute and return the return value."
   ]
  },
  {
   "cell_type": "code",
   "execution_count": 5,
   "metadata": {
    "collapsed": false
   },
   "outputs": [
    {
     "data": {
      "text/plain": [
       "7.5"
      ]
     },
     "execution_count": 5,
     "metadata": {},
     "output_type": "execute_result"
    }
   ],
   "source": [
    "average(5,10)"
   ]
  },
  {
   "cell_type": "markdown",
   "metadata": {},
   "source": [
    "A great way to visualize what is happening when we define and then call a function is to use the Python visualizer.\n",
    "\n",
    "Lets now write a function called `box` with 3 input parameters `w` `h` and `d` representing the dimension of a box that the function returns the surface area and the volume as a list of length 2 in that order."
   ]
  },
  {
   "cell_type": "code",
   "execution_count": 3,
   "metadata": {
    "collapsed": false
   },
   "outputs": [
    {
     "name": "stdout",
     "output_type": "stream",
     "text": [
      "[6, 1]\n"
     ]
    }
   ],
   "source": [
    "#Function definition includes all the lines indented 4 spaces after def\n",
    "def box(w, h, d):\n",
    "    surface_area = 2*w*h + 2*h*d + 2*h*w\n",
    "    volume = h*w*d\n",
    "    return [surface_area, volume]\n",
    "\n",
    "# the code beloww is not indented and therefore OUTSIDE the function definition\n",
    "\n",
    "print(box(1,1,1))"
   ]
  },
  {
   "cell_type": "markdown",
   "metadata": {
    "collapsed": true
   },
   "source": [
    "Write a function called `roots` which takes three input parameters `a` `b` and `c` representing the quadratic polynomial\n",
    "\n",
    "$$ p(x)= ax^2 + bx + c $$"
   ]
  },
  {
   "cell_type": "code",
   "execution_count": 9,
   "metadata": {
    "collapsed": true
   },
   "outputs": [],
   "source": [
    "def roots(a,b,c):\n",
    "    discriminant = b**2 - 4*a*c\n",
    "    \n",
    "    if discriminant > 0:\n",
    "        root_1 = (-b + discriminant**0.5)/(2*a)\n",
    "        root_2 = (-b - discriminant**0.5)/(2*a)\n",
    "        \n",
    "        return sorted([root_1, root_2])\n",
    "    \n",
    "    elif discriminant < 0:\n",
    "        root_1 = (-b + discriminant**0.5)/(2*a)\n",
    "        root_2 = (-b - discriminant**0.5)/(2*a)\n",
    "        \n",
    "        return (root_1, root_2)\n",
    "    \n",
    "    else:\n",
    "        root = -b/(2*a)\n",
    "        \n",
    "        return root\n",
    "    "
   ]
  },
  {
   "cell_type": "code",
   "execution_count": 7,
   "metadata": {
    "collapsed": false
   },
   "outputs": [
    {
     "name": "stdout",
     "output_type": "stream",
     "text": [
      "[2, 3]\n",
      "[2, 3]\n"
     ]
    }
   ],
   "source": [
    "print(sorted([2, 3]))\n",
    "print(sorted([3, 2]))"
   ]
  },
  {
   "cell_type": "code",
   "execution_count": 17,
   "metadata": {
    "collapsed": false
   },
   "outputs": [
    {
     "name": "stdout",
     "output_type": "stream",
     "text": [
      "[-1.0, 1.0]\n",
      "((6.123233995736766e-17+1j), (-6.123233995736766e-17-1j))\n",
      "[2.0, 3.0]\n"
     ]
    }
   ],
   "source": [
    "print(roots(1,0,-1))\n",
    "print(roots(1,0,1))\n",
    "print(roots(1,-5,6))"
   ]
  },
  {
   "cell_type": "code",
   "execution_count": null,
   "metadata": {
    "collapsed": true
   },
   "outputs": [],
   "source": []
  }
 ],
 "metadata": {
  "kernelspec": {
   "display_name": "Python 3",
   "language": "python",
   "name": "python3"
  },
  "language_info": {
   "codemirror_mode": {
    "name": "ipython",
    "version": 3
   },
   "file_extension": ".py",
   "mimetype": "text/x-python",
   "name": "python",
   "nbconvert_exporter": "python",
   "pygments_lexer": "ipython3",
   "version": "3.5.2"
  }
 },
 "nbformat": 4,
 "nbformat_minor": 1
}
