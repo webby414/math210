{
 "cells": [
  {
   "cell_type": "markdown",
   "metadata": {
    "deletable": true,
    "editable": true
   },
   "source": [
    "# Notes on Pandas\n",
    "\n",
    "## Key Inspiration\n",
    "* used R Cmdr in STAT 200 (Introduction to Statistics)\n",
    "* used Excel in ECON 226 (Understanding Economic Data)\n",
    "\n",
    "**GOAL**: Take the techniques and the skills learnt in those classes and their resepected programs and find ways to do them in Python with Pandas.\n"
   ]
  },
  {
   "cell_type": "code",
   "execution_count": null,
   "metadata": {
    "collapsed": false,
    "deletable": true,
    "editable": true,
    "scrolled": true
   },
   "outputs": [],
   "source": [
    "import pandas as pd\n",
    "import numpy as np\n",
    "import matplotlib.pyplot as plt\n",
    "%matplotlib inline"
   ]
  },
  {
   "cell_type": "markdown",
   "metadata": {
    "deletable": true,
    "editable": true
   },
   "source": [
    "## Areas of Exploration\n",
    "\n",
    "In ECON 226 we are taught how to obtain large datasets of national surveys like the Canadian GSS Survey and to manipulate the data in excell for variables of interests.\n",
    "\n",
    "Since Pandas is supposed to be very good with large data sets and has the ability to import Excel documents, it will be interesting to import data and operate upon it using Pandas."
   ]
  },
  {
   "cell_type": "markdown",
   "metadata": {
    "deletable": true,
    "editable": true
   },
   "source": [
    "## Rough Outline of the Guide\n",
    "\n",
    "* Explore how data can be imported into Jupyther and operated on by Pandas. File formats and file preparations\n",
    "\n",
    "* Discuss methods of data **filtration** and selection. Sometimes survey contains non responses categorized as certain numbers. So for statisticcal analysis certain datapoints will have to be removed first.\n",
    "\n",
    "* Go through basic statistical functions and **statistical summaries** (ie. finding means standard deviations, IQR etc.)\n",
    "\n",
    "* **Sampling** is another important area of statistical analysis. In excel we have to manually create, say, 50 samples of 150 data points manually. Pandas should be able to do this through code. Making sampling more intuitive. RCmdr does have the abiity, but the program is known to be very cluncky and unreliable. \n",
    "\n",
    "* **Graphing** the sampling of means is also very important in understanding the central limit theorem. Pandas should be useful for investigating this theorem too. \n",
    "\n",
    "\n",
    "\n"
   ]
  },
  {
   "cell_type": "code",
   "execution_count": null,
   "metadata": {
    "collapsed": true,
    "deletable": true,
    "editable": true
   },
   "outputs": [],
   "source": []
  }
 ],
 "metadata": {
  "kernelspec": {
   "display_name": "Python 3",
   "language": "python",
   "name": "python3"
  },
  "language_info": {
   "codemirror_mode": {
    "name": "ipython",
    "version": 3
   },
   "file_extension": ".py",
   "mimetype": "text/x-python",
   "name": "python",
   "nbconvert_exporter": "python",
   "pygments_lexer": "ipython3",
   "version": "3.5.2"
  }
 },
 "nbformat": 4,
 "nbformat_minor": 2
}
