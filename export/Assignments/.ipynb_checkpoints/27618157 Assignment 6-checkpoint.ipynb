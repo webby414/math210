{
 "cells": [
  {
   "cell_type": "markdown",
   "metadata": {
    "deletable": true,
    "editable": true
   },
   "source": [
    "# Assignment 6\n",
    "### Dhira Khewsubtrakool 27618157"
   ]
  },
  {
   "cell_type": "code",
   "execution_count": null,
   "metadata": {
    "collapsed": true,
    "deletable": true,
    "editable": true
   },
   "outputs": [],
   "source": [
    "import numpy as np\n",
    "import matplotlib.pyplot as plt\n",
    "import scipy.linalg as la\n",
    "from numpy.linalg import matrix_power as mpow\n",
    "%matplotlib inline"
   ]
  },
  {
   "cell_type": "markdown",
   "metadata": {
    "deletable": true,
    "editable": true
   },
   "source": [
    "## Question 1"
   ]
  },
  {
   "cell_type": "code",
   "execution_count": null,
   "metadata": {
    "collapsed": true,
    "deletable": true,
    "editable": true
   },
   "outputs": [],
   "source": [
    "def a_solve(a):\n",
    "    \n",
    "    b = np.array([[a],[1-a],[1]])\n",
    "    \n",
    "    A = np.array([[4,5,7],[0,1,9],[1,3,7]])\n",
    "    \n",
    "    x = la.solve(A,b)\n",
    "    \n",
    "    return x"
   ]
  },
  {
   "cell_type": "markdown",
   "metadata": {
    "deletable": true,
    "editable": true
   },
   "source": [
    "## Question 2"
   ]
  },
  {
   "cell_type": "code",
   "execution_count": null,
   "metadata": {
    "collapsed": true,
    "deletable": true,
    "editable": true
   },
   "outputs": [],
   "source": [
    "def minor_det(A,i,j):\n",
    "    '''Computes the determinant of the matrix A_i,j where i and j starts at zero\n",
    "    \n",
    "    INPUT PARAMETERS:\n",
    "        A = numpy array (matrix)\n",
    "        i = integer (the i-th row)\n",
    "        j = integer (the j-th row)'''\n",
    "    \n",
    "    # setting variavbles for r rows and c columns\n",
    "    r , c = A.shape\n",
    "    # creating an indexed list of rows\n",
    "    n_list = np.arange(0,r)\n",
    "    # creating a new matrix with the removed row\n",
    "    rem_row = A[n_list !=i,:]\n",
    "    # removing the col from from the removed row matrix\n",
    "    Aij = rem_row[:,n_list !=j]\n",
    "    \n",
    "    \n",
    "    return la.det(Aij)"
   ]
  },
  {
   "cell_type": "code",
   "execution_count": null,
   "metadata": {
    "collapsed": false,
    "deletable": true,
    "editable": true
   },
   "outputs": [],
   "source": [
    "A = np.array([[4,5,7],[0,1,9],[1,3,7]])\n",
    "minor_det(A,0,1)"
   ]
  },
  {
   "cell_type": "markdown",
   "metadata": {
    "deletable": true,
    "editable": true
   },
   "source": [
    "## Question 3"
   ]
  },
  {
   "cell_type": "code",
   "execution_count": null,
   "metadata": {
    "collapsed": true,
    "deletable": true,
    "editable": true
   },
   "outputs": [],
   "source": [
    "def outer_eig(u,v):\n",
    "    '''Given u and v (1D NumPy arrays of the same length), returns the eigenvalues\n",
    "    of the the outer product u^T x v\n",
    "    \n",
    "    INPUT PARAMETERS\n",
    "        u = 1D NumPy arrays length n\n",
    "        v = 1D NumPy arrays length n'''\n",
    "    \n",
    "    # finding the n row and n column of resulting A matrix\n",
    "    n = len(u)\n",
    "    # creating the new A matrix with matrix multiplcation\n",
    "    A = u.reshape(n,1) @ v.reshape(1,n)\n",
    "    # decomposing evecs from la.eig(A)\n",
    "    evals, evecs = la.eig(A)\n",
    "    \n",
    "    return evals"
   ]
  },
  {
   "cell_type": "code",
   "execution_count": null,
   "metadata": {
    "collapsed": false,
    "deletable": true,
    "editable": true,
    "scrolled": false
   },
   "outputs": [],
   "source": [
    "u = np.random.randint(1,9,2)\n",
    "v = np.random.randint(1,9,2)\n",
    "\n",
    "u , v"
   ]
  },
  {
   "cell_type": "code",
   "execution_count": null,
   "metadata": {
    "collapsed": false,
    "deletable": true,
    "editable": true
   },
   "outputs": [],
   "source": [
    "outer_eig(u,v)"
   ]
  },
  {
   "cell_type": "markdown",
   "metadata": {
    "deletable": true,
    "editable": true
   },
   "source": [
    "## Question 4"
   ]
  },
  {
   "cell_type": "code",
   "execution_count": null,
   "metadata": {
    "collapsed": false,
    "deletable": true,
    "editable": true
   },
   "outputs": [],
   "source": [
    "def elementary(A, lam, i, j, row=True):\n",
    "    '''If If row=True, return the matrix obtained from A by adding lam times \n",
    "    the ith row to the jth row. If row=False, return the matrix obtained from \n",
    "    A by adding lam times the ith column to the jth column\n",
    "    \n",
    "    INPUT PARAMETERS:\n",
    "        A = numpy array matrix\n",
    "        lam = number\n",
    "        i = integer (i-th row)\n",
    "        j = integer (j-th row)\n",
    "        row = boolean'''\n",
    "    \n",
    "    if row:\n",
    "        # creating the multiple of i-th row\n",
    "        lam_times_irow = lam*A[i,:]\n",
    "        # creating the new j row\n",
    "        new_j = lam_times_irow + A[j,:]\n",
    "        # retrieve the number of n rows\n",
    "        n_rows , n_col = A.shape\n",
    "        # creating new A matrix with replaced j-th row\n",
    "        new_A = np.vstack((A[0:j,:], new_j, A[j+1:n_rows, :]))\n",
    "        \n",
    "        return new_A\n",
    "    \n",
    "    \n",
    "    else:\n",
    "        # creating the multiple of i-th col\n",
    "        lam_times_icol = lam*A[:,i]\n",
    "        # retrieve the number of n col\n",
    "        n_rows , n_col = A.shape\n",
    "        # creating the new j col\n",
    "        edit_j = lam_times_icol + A[:,j]\n",
    "        # reshaping the new j col to make it a column\n",
    "        new_j = edit_j.reshape(n_rows,1)\n",
    "        # creating new A matrix with replaced j-th col\n",
    "        new_A = np.hstack((A[:,0:j], new_j, A[:, j+1:n_col]))\n",
    "        \n",
    "        return new_A"
   ]
  },
  {
   "cell_type": "code",
   "execution_count": null,
   "metadata": {
    "collapsed": false,
    "deletable": true,
    "editable": true
   },
   "outputs": [],
   "source": [
    "A = np.array([[4,5,7],[0,1,9],[1,3,7]])\n",
    "A"
   ]
  },
  {
   "cell_type": "code",
   "execution_count": null,
   "metadata": {
    "collapsed": false,
    "deletable": true,
    "editable": true
   },
   "outputs": [],
   "source": [
    "elementary(A, 100, 2, 1)"
   ]
  },
  {
   "cell_type": "code",
   "execution_count": null,
   "metadata": {
    "collapsed": false,
    "deletable": true,
    "editable": true
   },
   "outputs": [],
   "source": [
    "elementary(A, 100, 1, 1, False)"
   ]
  },
  {
   "cell_type": "markdown",
   "metadata": {
    "collapsed": true,
    "deletable": true,
    "editable": true
   },
   "source": [
    "## Question 5"
   ]
  },
  {
   "cell_type": "code",
   "execution_count": null,
   "metadata": {
    "collapsed": true,
    "deletable": true,
    "editable": true
   },
   "outputs": [],
   "source": [
    "def nearest_point(coeffs, P):\n",
    "    '''Given the coefficient of an equation of a plane ax+by+cz=d and a point P\n",
    "    find the neares point Q on the plane to point P\n",
    "    \n",
    "    INPUT PARAMETERS:\n",
    "        coeffs = list (of numbers representing a plane)\n",
    "        P = list (of x,y,z coordinates of point P)'''\n",
    "    \n",
    "    a, b, c, d = coeffs\n",
    "    x, y, z = P\n",
    "    \n",
    "    # The point we seek would have to be some multiple k of the normal\n",
    "    # vector of the plane added to the P(x,y,z) where Q(x+ak, x+bk, x+ck)\n",
    "    \n",
    "    Qx = a*np.array([x,a])\n",
    "    Qy = b*np.array([y,b])\n",
    "    Qz = c*np.array([z,c])\n",
    "    \n",
    "    # But this point has to satisfy the plane's equation.\n",
    "    # below is the rearrangement of the plane equation with x,y,z from\n",
    "    # Q(x+ak, x+bk, x+ck) to solve for k\n",
    "    \n",
    "    k = (d - Qx[0] - Qy[0] - Qz[0]) / (Qx[1] + Qy[1] + Qz[1])\n",
    "    \n",
    "    # Use the k value in Q(x+ak, x+bk, x+ck)\n",
    "    Q = [x + k*a, y + k*b, z + k*c]\n",
    "    \n",
    "    return np.array(Q)"
   ]
  },
  {
   "cell_type": "code",
   "execution_count": null,
   "metadata": {
    "collapsed": false,
    "deletable": true,
    "editable": true
   },
   "outputs": [],
   "source": [
    "nearest_point([3,4,1,1],[1,0,1])"
   ]
  },
  {
   "cell_type": "code",
   "execution_count": null,
   "metadata": {
    "collapsed": false,
    "deletable": true,
    "editable": true
   },
   "outputs": [],
   "source": [
    "# correct answer to plane 2x+4y+z=1 and P([1,0,1])\n",
    "[17/26, -12/26,23/26]"
   ]
  }
 ],
 "metadata": {
  "kernelspec": {
   "display_name": "Python 3",
   "language": "python",
   "name": "python3"
  },
  "language_info": {
   "codemirror_mode": {
    "name": "ipython",
    "version": 3
   },
   "file_extension": ".py",
   "mimetype": "text/x-python",
   "name": "python",
   "nbconvert_exporter": "python",
   "pygments_lexer": "ipython3",
   "version": "3.5.2"
  }
 },
 "nbformat": 4,
 "nbformat_minor": 2
}
