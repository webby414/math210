{
 "cells": [
  {
   "cell_type": "markdown",
   "metadata": {},
   "source": [
    "# Assignment 4\n",
    "### Dhira Khewsubtrakool 27618157"
   ]
  },
  {
   "cell_type": "code",
   "execution_count": null,
   "metadata": {
    "collapsed": false
   },
   "outputs": [],
   "source": [
    "import numpy as np\n",
    "import matplotlib.pyplot as plt\n",
    "%matplotlib inline"
   ]
  },
  {
   "cell_type": "markdown",
   "metadata": {},
   "source": [
    "## Question 1"
   ]
  },
  {
   "cell_type": "code",
   "execution_count": null,
   "metadata": {
    "collapsed": false
   },
   "outputs": [],
   "source": [
    "def curve(A,B,C):\n",
    "    t = np.linspace(0,2*np.pi,100)\n",
    "    x = A*((np.sin(t))**3)\n",
    "    y = B*np.cos(t) - C*np.cos(2*t)\n",
    "    return plt.plot(x,y), plt.axis('equal')"
   ]
  },
  {
   "cell_type": "code",
   "execution_count": null,
   "metadata": {
    "collapsed": false
   },
   "outputs": [],
   "source": [
    "curve(13,6,4)"
   ]
  },
  {
   "cell_type": "markdown",
   "metadata": {},
   "source": [
    "## Question 2"
   ]
  },
  {
   "cell_type": "code",
   "execution_count": null,
   "metadata": {
    "collapsed": true
   },
   "outputs": [],
   "source": [
    "def power_series(a,x):\n",
    "    \n",
    "    xpower = [x**k for k in range(0,len(a))]\n",
    "    \n",
    "    return np.sum(a*xpower)"
   ]
  },
  {
   "cell_type": "code",
   "execution_count": null,
   "metadata": {
    "collapsed": false
   },
   "outputs": [],
   "source": [
    "power_series(np.ones(100),0.5)\n"
   ]
  },
  {
   "cell_type": "code",
   "execution_count": null,
   "metadata": {
    "collapsed": true
   },
   "outputs": [],
   "source": [
    "from scipy.special import factorial"
   ]
  },
  {
   "cell_type": "code",
   "execution_count": null,
   "metadata": {
    "collapsed": false
   },
   "outputs": [],
   "source": [
    "power_series(1 / factorial(np.arange(0,100)),1)"
   ]
  },
  {
   "cell_type": "markdown",
   "metadata": {},
   "source": [
    "## Question 3(a)"
   ]
  },
  {
   "cell_type": "markdown",
   "metadata": {},
   "source": [
    "$$\n",
    "f_{triangle} (t)= \\frac{8}{\\pi^2} \\sum_{k=0}^{\\infty}(-1)^k\\frac{\\sin(2\\pi(2k+1)t)}{(2k+1)^2}\n",
    "$$"
   ]
  },
  {
   "cell_type": "markdown",
   "metadata": {},
   "source": [
    "## Question 3(b)"
   ]
  },
  {
   "cell_type": "code",
   "execution_count": null,
   "metadata": {
    "collapsed": true
   },
   "outputs": [],
   "source": [
    "def triangle_wave(N,interval):\n",
    "    \n",
    "    def f_triangle(t,N):\n",
    "    \n",
    "        lox = []\n",
    "    \n",
    "        for k in range(0,N+1):\n",
    "        \n",
    "            element = ((-1)**k) * (np.sin(2*np.pi*(2*k + 1)*t))/(2*k + 1)**2\n",
    "        \n",
    "            lox.append(element)\n",
    "        return (8/np.pi**2)*sum(lox)\n",
    "\n",
    "    x = np.linspace(min(interval),max(interval), 1000)\n",
    "    y = f_triangle(x,N)\n",
    "    \n",
    "    return plt.plot(x,y), plt.grid('on'), plt.ylim([-2,2])\n",
    "    "
   ]
  },
  {
   "cell_type": "code",
   "execution_count": null,
   "metadata": {
    "collapsed": false
   },
   "outputs": [],
   "source": [
    "triangle_wave(3,[0,3])"
   ]
  },
  {
   "cell_type": "markdown",
   "metadata": {},
   "source": [
    "## Question 4(a)"
   ]
  },
  {
   "cell_type": "markdown",
   "metadata": {},
   "source": [
    "$$\n",
    "f_{sawtooth} (t)= \\frac{2}{\\pi} \\sum_{k=1}^{\\infty}\\frac{(-1)^{k+1}\\sin(2\\pi kt)}{k}\n",
    "$$"
   ]
  },
  {
   "cell_type": "markdown",
   "metadata": {},
   "source": [
    "## Question 4(b)"
   ]
  },
  {
   "cell_type": "code",
   "execution_count": null,
   "metadata": {
    "collapsed": false
   },
   "outputs": [],
   "source": [
    "def sawtooth_waves(n,m,T):\n",
    "    N_range = [1,(n*m)+1]\n",
    "    t_range = [0,T]\n",
    "    \n",
    "    def f_sawtooth(t,N):\n",
    "        lox = []\n",
    "    \n",
    "        for k in range(1,N+1):\n",
    "        \n",
    "            element = ((-1)**(k+1)) * (np.sin(2*np.pi*k*t)/k)\n",
    "            lox.append(element)\n",
    "        \n",
    "        return (2/np.pi)*sum(lox)\n",
    "    \n",
    "    plt.figure(figsize=(2*m,2*n))\n",
    "    \n",
    "    for N in range(1,(n*m)+1):\n",
    "        plt.subplot(n,m,N)\n",
    "        t = np.linspace(0,T, 1000)\n",
    "        y = f_sawtooth(t,N)\n",
    "        plt.plot(t,y), plt.grid('on'), plt.title('N=' + str(N)),plt.tight_layout()\n",
    "    "
   ]
  },
  {
   "cell_type": "code",
   "execution_count": null,
   "metadata": {
    "collapsed": false
   },
   "outputs": [],
   "source": [
    "sawtooth_waves(2,4,2)"
   ]
  },
  {
   "cell_type": "markdown",
   "metadata": {
    "collapsed": true
   },
   "source": [
    "## Question 5(a)"
   ]
  },
  {
   "cell_type": "markdown",
   "metadata": {},
   "source": [
    "$$\n",
    "\\zeta(s)=\\sum_{k=1}^{\\infty}\\frac{1}{n^s}=\\prod_{p \\ \\textrm{prime}} \\frac{1}{1-p^{-s}}= \\frac{1}{1-2^{-s}} \\cdot \\frac{1}{1-3^{-s}} \\cdot \\frac{1}{1-5^{-s}} \\cdot \\frac{1}{1-7^{-s}} \\dotsb \\frac{1}{1-p^{-s}} \\dotsb\n",
    "$$"
   ]
  },
  {
   "cell_type": "markdown",
   "metadata": {},
   "source": [
    "## Question 5(b)"
   ]
  },
  {
   "cell_type": "code",
   "execution_count": null,
   "metadata": {
    "collapsed": false
   },
   "outputs": [],
   "source": [
    "def euler_product(s,N):\n",
    "    \n",
    "    def is_prime(a):\n",
    "        if a<=1:\n",
    "            return False\n",
    "        for div in range(2,a):\n",
    "            if a % div == 0:\n",
    "                return False\n",
    "        return True\n",
    "    \n",
    "    def listof_prime(N):\n",
    "        prime_list = []\n",
    "    \n",
    "        for n in range(0,N+1):\n",
    "            if is_prime(n):\n",
    "                prime_list.append(n)    \n",
    "        return prime_list\n",
    "    \n",
    "    product = 1\n",
    "    N_list = listof_prime(N)\n",
    "    \n",
    "    for p in N_list:\n",
    "        \n",
    "        product = product * (1/(1-p**(-s)))\n",
    "    \n",
    "    return product"
   ]
  },
  {
   "cell_type": "code",
   "execution_count": null,
   "metadata": {
    "collapsed": false
   },
   "outputs": [],
   "source": [
    "euler_product(4,10000)"
   ]
  },
  {
   "cell_type": "code",
   "execution_count": null,
   "metadata": {
    "collapsed": false
   },
   "outputs": [],
   "source": [
    "euler_product(4,1)"
   ]
  },
  {
   "cell_type": "markdown",
   "metadata": {},
   "source": [
    "## Question 6"
   ]
  },
  {
   "cell_type": "code",
   "execution_count": null,
   "metadata": {
    "collapsed": true
   },
   "outputs": [],
   "source": [
    "def f(t,y):\n",
    "    return y**2 - t**2"
   ]
  },
  {
   "cell_type": "code",
   "execution_count": null,
   "metadata": {
    "collapsed": false
   },
   "outputs": [],
   "source": [
    "def slopefield(f,tlims, ylims, grid_step):\n",
    "    \n",
    "    fig1 = plt.figure(), plt.xlim(tlims), plt.ylim(ylims)\n",
    "    \n",
    "    t = np.linspace(min(tlims),max(tlims), ((max(tlims)-min(tlims))/grid_step)+1)\n",
    "    y = np.linspace(min(ylims),max(ylims), ((max(ylims)-min(ylims))/grid_step)+1)\n",
    "        \n",
    "    def lop(x1,x2):\n",
    "        \n",
    "        points_list = []\n",
    "        \n",
    "        for x1s in x1:\n",
    "            for x2s in x2:\n",
    "                element = [x1s, x2s]\n",
    "                points_list.append(element)\n",
    "        return points_list\n",
    "    \n",
    "    points = lop(t,y)\n",
    "    \n",
    "    for p in points:\n",
    "        \n",
    "        tn = p[0]\n",
    "        yn = p[1]\n",
    "        \n",
    "        l = grid_step*0.9\n",
    "        dydx = f(tn,yn)\n",
    "        theta = np.arctan(dydx)\n",
    "        \n",
    "        t_slope = np.linspace(tn-0.5*(l*np.cos(theta)),tn+0.5*(l*np.cos(theta)), 10)\n",
    "        y_slope = dydx*t_slope + (yn - dydx*tn)\n",
    "        \n",
    "        plt.plot(t_slope, y_slope, 'b')"
   ]
  },
  {
   "cell_type": "code",
   "execution_count": null,
   "metadata": {
    "collapsed": false
   },
   "outputs": [],
   "source": [
    "slopefield(f,[-3,3], [-2,2], 0.2)"
   ]
  },
  {
   "cell_type": "code",
   "execution_count": null,
   "metadata": {
    "collapsed": false
   },
   "outputs": [],
   "source": [
    "slopefield(f,[-5,5], [-5,5], 0.5)"
   ]
  }
 ],
 "metadata": {
  "kernelspec": {
   "display_name": "Python 3",
   "language": "python",
   "name": "python3"
  },
  "language_info": {
   "codemirror_mode": {
    "name": "ipython",
    "version": 3
   },
   "file_extension": ".py",
   "mimetype": "text/x-python",
   "name": "python",
   "nbconvert_exporter": "python",
   "pygments_lexer": "ipython3",
   "version": "3.5.2"
  }
 },
 "nbformat": 4,
 "nbformat_minor": 1
}
