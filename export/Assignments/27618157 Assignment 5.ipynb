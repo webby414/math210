{
 "cells": [
  {
   "cell_type": "markdown",
   "metadata": {
    "deletable": true,
    "editable": true
   },
   "source": [
    "# Assignment 5\n",
    "### Dhira Khewsubtrakool 27618157"
   ]
  },
  {
   "cell_type": "code",
   "execution_count": null,
   "metadata": {
    "collapsed": true,
    "deletable": true,
    "editable": true
   },
   "outputs": [],
   "source": [
    "import numpy as np\n",
    "import matplotlib.pyplot as plt\n",
    "import scipy.integrate as spi\n",
    "%matplotlib inline"
   ]
  },
  {
   "cell_type": "markdown",
   "metadata": {
    "deletable": true,
    "editable": true
   },
   "source": [
    "## Question 1(a)"
   ]
  },
  {
   "cell_type": "markdown",
   "metadata": {
    "deletable": true,
    "editable": true
   },
   "source": [
    "$$\n",
    "\\int_0^\\infty \\frac{\\arctan(px)\\arctan(qx)}{x^2} dx = \\frac{\\pi}{2}\\ln\\left({\\frac{(p+q)^{p+q}}{p^pq^q}}\\right) \\ \\ ,p>0,q>0\n",
    "$$"
   ]
  },
  {
   "cell_type": "markdown",
   "metadata": {
    "deletable": true,
    "editable": true
   },
   "source": [
    "## Question 1(b)"
   ]
  },
  {
   "cell_type": "code",
   "execution_count": null,
   "metadata": {
    "collapsed": true,
    "deletable": true,
    "editable": true
   },
   "outputs": [],
   "source": [
    "def pq_integral(p,q):\n",
    "    '''produces the definite integral arctan(p*x)*.arctan(q*x) / x**2 from 0 to infinity\n",
    "    \n",
    "    INPUT PARAMETERS:\n",
    "        p = number\n",
    "        q = number'''\n",
    "    \n",
    "    #defines the function to feed into the quad formula.\n",
    "    def f(x):\n",
    "        '''funtion of the integral'''\n",
    "        return np.arctan(p*x)*np.arctan(q*x) / x**2\n",
    "    \n",
    "    # check for error.\n",
    "    if (p<=0 or q<= 0):\n",
    "        print(\"ERROR p<=0 or q<= 0\")\n",
    "        return None\n",
    "    else:\n",
    "        # splitting the result from the spi.quad formula\n",
    "        result , error = spi.quad(f,0,np.inf)\n",
    "    \n",
    "        return result"
   ]
  },
  {
   "cell_type": "code",
   "execution_count": null,
   "metadata": {
    "collapsed": false,
    "deletable": true,
    "editable": true
   },
   "outputs": [],
   "source": [
    "pq_integral(1,1)"
   ]
  },
  {
   "cell_type": "code",
   "execution_count": null,
   "metadata": {
    "collapsed": false,
    "deletable": true,
    "editable": true,
    "scrolled": true
   },
   "outputs": [],
   "source": [
    "p = 1\n",
    "q = 1\n",
    "\n",
    "(np.pi/2)*np.log((p+q)**(p+q)/((p**p)*(q**q)))"
   ]
  },
  {
   "cell_type": "markdown",
   "metadata": {
    "deletable": true,
    "editable": true
   },
   "source": [
    "## Question 2(a)"
   ]
  },
  {
   "cell_type": "markdown",
   "metadata": {
    "deletable": true,
    "editable": true
   },
   "source": [
    "$$\n",
    "\\int_0^\\infty \\frac{\\ln{x}}{a^2 + b^2x^2} dx = \\frac{\\pi}{2ab}\\ln\\left(\\frac{a}{b}\\right) \\ \\ \\ \\  ,ab>0\n",
    "$$"
   ]
  },
  {
   "cell_type": "markdown",
   "metadata": {
    "deletable": true,
    "editable": true
   },
   "source": [
    "## Question 2(b)"
   ]
  },
  {
   "cell_type": "code",
   "execution_count": null,
   "metadata": {
    "collapsed": true,
    "deletable": true,
    "editable": true
   },
   "outputs": [],
   "source": [
    "def ab_integral(a,b):\n",
    "    '''produces the definite integral log(x)/(a**2 + (b**2)*(x**2)) from 0 to infinity\n",
    "    \n",
    "    INPUT PARAMETERS:\n",
    "        a = number\n",
    "        b = number'''\n",
    "    \n",
    "    # error check for a*b<0\n",
    "    if (a*b)<=0:\n",
    "        print(\"ERROR: ab<= 0\")\n",
    "        return None\n",
    "    \n",
    "    else:\n",
    "        # setting the function of the integral\n",
    "        def f(x):\n",
    "            return np.log(x)/(a**2 + (b**2)*(x**2))\n",
    "        # splitting the result from the spi.quad formula\n",
    "        result , error = spi.quad(f,0,np.inf)\n",
    "    \n",
    "        return result"
   ]
  },
  {
   "cell_type": "code",
   "execution_count": null,
   "metadata": {
    "collapsed": false,
    "deletable": true,
    "editable": true
   },
   "outputs": [],
   "source": [
    "ab_integral(1,2)"
   ]
  },
  {
   "cell_type": "code",
   "execution_count": null,
   "metadata": {
    "collapsed": false,
    "deletable": true,
    "editable": true
   },
   "outputs": [],
   "source": [
    "a = 1\n",
    "b = 2\n",
    "\n",
    "(np.pi/(2*a*b)) * np.log(a/b)"
   ]
  },
  {
   "cell_type": "markdown",
   "metadata": {
    "deletable": true,
    "editable": true
   },
   "source": [
    "## Question 3"
   ]
  },
  {
   "cell_type": "code",
   "execution_count": null,
   "metadata": {
    "collapsed": false,
    "deletable": true,
    "editable": true
   },
   "outputs": [],
   "source": [
    "from scipy.misc import comb"
   ]
  },
  {
   "cell_type": "code",
   "execution_count": null,
   "metadata": {
    "collapsed": true,
    "deletable": true,
    "editable": true
   },
   "outputs": [],
   "source": [
    "def derivatives(f,a,n,h=0.001):\n",
    "    '''Produces a list of approximations of derivatives f'(a), f''(a),...,f(n)(a)\n",
    "    \n",
    "    INPUT PERAMETERS:\n",
    "        f = a defined function\n",
    "        a = number (point of desired derivative)\n",
    "        n = natural (the n -th derivative)\n",
    "        h = number (stepsize -- defaults at h=0.001)'''\n",
    "    \n",
    "    def deriv(f,a,n,h=0.001):\n",
    "        '''Produces the n-th derivative at point\n",
    "        \n",
    "        INPUT PARAMETERS:\n",
    "            f = a defined function\n",
    "            a = number (point of desired derivative)\n",
    "            n = natural (the n -th derivative)\n",
    "            h = number (stepsize -- defaults at h=0.001)'''\n",
    "        \n",
    "        # initializing the list of elements in summation\n",
    "        sum_list = []\n",
    "        \n",
    "        # for loop recursion for summation\n",
    "        for k in range(0,n+1):\n",
    "            \n",
    "            # element of the summation based on the derivative formula\n",
    "            element = ((-1)**k) * comb(n,k) * f(a + (n - 2*k)*h)\n",
    "            \n",
    "            # appending emelent to list\n",
    "            sum_list.append(element)\n",
    "        \n",
    "        # computes the n-th dervative at point a\n",
    "        return (1/(2**n * h**n))*sum(sum_list)\n",
    "    \n",
    "    # initializing the list of n-th derivatives\n",
    "    deriv_list = []\n",
    "    \n",
    "    # for loop recursion to generate the list of derivative\n",
    "    for p in range(1,n+1):\n",
    "        \n",
    "        element = deriv(f,a,p,h)\n",
    "        \n",
    "        deriv_list.append(element)\n",
    "    \n",
    "    # making a np.array\n",
    "    deriv_array = np.array(deriv_list)\n",
    "    \n",
    "    return deriv(f,a,n,h), deriv_array"
   ]
  },
  {
   "cell_type": "code",
   "execution_count": null,
   "metadata": {
    "collapsed": true,
    "deletable": true,
    "editable": true
   },
   "outputs": [],
   "source": [
    "# let f(x) be:\n",
    "def f(x):\n",
    "    return x**3\n",
    "def f1(x):\n",
    "    return 3*x**2\n",
    "def f2(x):\n",
    "    return 6*x"
   ]
  },
  {
   "cell_type": "code",
   "execution_count": null,
   "metadata": {
    "collapsed": false,
    "deletable": true,
    "editable": true,
    "scrolled": true
   },
   "outputs": [],
   "source": [
    "derivatives(f,1,2)"
   ]
  },
  {
   "cell_type": "code",
   "execution_count": null,
   "metadata": {
    "collapsed": false,
    "deletable": true,
    "editable": true
   },
   "outputs": [],
   "source": [
    "derivatives(f,1,1)"
   ]
  },
  {
   "cell_type": "code",
   "execution_count": null,
   "metadata": {
    "collapsed": false,
    "deletable": true,
    "editable": true
   },
   "outputs": [],
   "source": [
    "f2(1), f1(1)"
   ]
  },
  {
   "cell_type": "markdown",
   "metadata": {
    "deletable": true,
    "editable": true
   },
   "source": [
    "## Question 4"
   ]
  },
  {
   "cell_type": "code",
   "execution_count": null,
   "metadata": {
    "collapsed": true,
    "deletable": true,
    "editable": true
   },
   "outputs": [],
   "source": [
    "from scipy.misc import factorial"
   ]
  },
  {
   "cell_type": "code",
   "execution_count": null,
   "metadata": {
    "collapsed": false,
    "deletable": true,
    "editable": true
   },
   "outputs": [],
   "source": [
    "def taylor(f,a,n,L):\n",
    "    '''Plots the function f and the taylor approximation of that function\n",
    "    \n",
    "    INPUT PARAMETERS:\n",
    "        f = a defined function\n",
    "        a = number (for taylor approximations from point a)\n",
    "        n = integer (n-th degree taylor approximation)\n",
    "        L = number (setting the interval for graphing [a-L,a+L])'''    \n",
    "    \n",
    "    # using the simplified derivatives formula\n",
    "    def deriv(f,a,n,h=0.001):\n",
    "        sum_list = []\n",
    "        for k in range(0,n+1):\n",
    "            element = ((-1)**k) * comb(n,k) * f(a + (n - 2*k)*h)\n",
    "            sum_list.append(element)\n",
    "        return (1/(2**n * h**n))*sum(sum_list)\n",
    "    \n",
    "    \n",
    "    def Tn(x):\n",
    "        '''Produces the Taylor polynomial of f(x)'''\n",
    "        \n",
    "        # initializing the summation list\n",
    "        sum_list = []\n",
    "        \n",
    "        # for loop recursion to generate elements for summation\n",
    "        for k in range(0,n+1):\n",
    "            \n",
    "            fka = deriv(f,a,k)\n",
    "            \n",
    "            element = (fka/factorial(k)) * (x-a)**k\n",
    "            \n",
    "            sum_list.append(element)\n",
    "        # returns the summation of the series\n",
    "        return sum(sum_list)\n",
    "    \n",
    "    # graphing parameters\n",
    "    x = np.linspace(a-L, a+L, 100)\n",
    "    yF = f(x)\n",
    "    yT = Tn(x)\n",
    "    # plotting two lines on one graph with a legend\n",
    "    plt.plot(x,yF,x,yT)\n",
    "    plt.legend(['f(x)','T(x)']);   "
   ]
  },
  {
   "cell_type": "code",
   "execution_count": null,
   "metadata": {
    "collapsed": false,
    "deletable": true,
    "editable": true
   },
   "outputs": [],
   "source": [
    "taylor(f,1,2,5)"
   ]
  },
  {
   "cell_type": "markdown",
   "metadata": {
    "deletable": true,
    "editable": true
   },
   "source": [
    "## Question 5"
   ]
  },
  {
   "cell_type": "code",
   "execution_count": null,
   "metadata": {
    "collapsed": false,
    "deletable": true,
    "editable": true
   },
   "outputs": [],
   "source": [
    "def newton(f,x0,tolerance,max_iter):\n",
    "    '''Performs Newtons method to approximate a root r where f(r)=0\n",
    "    \n",
    "    INPUT PARAMETERS:\n",
    "        f = a defined function\n",
    "        x0 = initial point for recursion\n",
    "        tolerance = number\n",
    "        max_iter = integer (max number of iterations for the recursion)'''\n",
    "    \n",
    "    def deriv(f,a,n,h=0.001):\n",
    "        sum_list = []\n",
    "        for k in range(0,n+1):\n",
    "            element = ((-1)**k) * comb(n,k) * f(a + (n - 2*k)*h)\n",
    "            sum_list.append(element) \n",
    "        return (1/(2**n * h**n))*sum(sum_list)\n",
    "    \n",
    "    # context preserving accumulator\n",
    "    itera = 0\n",
    "    # intializing the recursion\n",
    "    xn = x0\n",
    "    # setting a while loop recursion to continue calculations if itera <= max_iter\n",
    "    while itera <= max_iter:\n",
    "        \n",
    "        # updating the context accumulator\n",
    "        itera = itera + 1\n",
    "       \n",
    "        # setting up while loop break where f'(xn)==0 which will return none\n",
    "        if deriv(f,xn,1,h=0.001) == 0:\n",
    "            break\n",
    "        \n",
    "        # calculating an approximation loop\n",
    "        xn = xn - (f(xn)/deriv(f,xn,1,h=0.001))\n",
    "        \n",
    "\n",
    "        fxn = f(xn)\n",
    "        # checking if the abs(f(xn))<tolerance, if so return the approximation\n",
    "        if abs(f(xn)) < tolerance:\n",
    "            \n",
    "            return xn\n",
    "        \n",
    "    return None"
   ]
  },
  {
   "cell_type": "code",
   "execution_count": null,
   "metadata": {
    "collapsed": false,
    "deletable": true,
    "editable": true
   },
   "outputs": [],
   "source": [
    "def fq5(x):\n",
    "    return x**2 - 2\n",
    "print(np.sqrt(2))\n",
    "newton(fq5,1,0.001,1000)\n"
   ]
  },
  {
   "cell_type": "code",
   "execution_count": null,
   "metadata": {
    "collapsed": true,
    "deletable": true,
    "editable": true
   },
   "outputs": [],
   "source": []
  }
 ],
 "metadata": {
  "kernelspec": {
   "display_name": "Python 3",
   "language": "python",
   "name": "python3"
  },
  "language_info": {
   "codemirror_mode": {
    "name": "ipython",
    "version": 3
   },
   "file_extension": ".py",
   "mimetype": "text/x-python",
   "name": "python",
   "nbconvert_exporter": "python",
   "pygments_lexer": "ipython3",
   "version": "3.5.2"
  }
 },
 "nbformat": 4,
 "nbformat_minor": 2
}
