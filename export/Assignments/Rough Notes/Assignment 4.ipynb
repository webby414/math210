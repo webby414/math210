{
 "cells": [
  {
   "cell_type": "markdown",
   "metadata": {},
   "source": [
    "# Assignment 4\n",
    "### Dhira Khewsubtrakool 27618157"
   ]
  },
  {
   "cell_type": "code",
   "execution_count": 2,
   "metadata": {
    "collapsed": true
   },
   "outputs": [],
   "source": [
    "import numpy as np\n",
    "import matplotlib.pyplot as plt\n",
    "%matplotlib inline"
   ]
  },
  {
   "cell_type": "code",
   "execution_count": 3,
   "metadata": {
    "collapsed": false
   },
   "outputs": [
    {
     "data": {
      "text/plain": [
       "array([ 1.  ,  1.25,  1.5 ,  1.75,  2.  ])"
      ]
     },
     "execution_count": 3,
     "metadata": {},
     "output_type": "execute_result"
    }
   ],
   "source": [
    "np.arange(1,2.1,0.25)"
   ]
  },
  {
   "cell_type": "code",
   "execution_count": 9,
   "metadata": {
    "collapsed": false
   },
   "outputs": [
    {
     "data": {
      "text/plain": [
       "array([-3. , -2.8, -2.6, -2.4, -2.2, -2. , -1.8, -1.6, -1.4, -1.2, -1. ,\n",
       "       -0.8, -0.6, -0.4, -0.2,  0. ,  0.2,  0.4,  0.6,  0.8,  1. ,  1.2,\n",
       "        1.4,  1.6,  1.8,  2. ,  2.2,  2.4,  2.6,  2.8,  3. ])"
      ]
     },
     "execution_count": 9,
     "metadata": {},
     "output_type": "execute_result"
    }
   ],
   "source": [
    "np.linspace(-3,3, (6/0.2)+1)"
   ]
  },
  {
   "cell_type": "code",
   "execution_count": 8,
   "metadata": {
    "collapsed": false
   },
   "outputs": [
    {
     "data": {
      "text/plain": [
       "31"
      ]
     },
     "execution_count": 8,
     "metadata": {},
     "output_type": "execute_result"
    }
   ],
   "source": [
    "len(np.linspace(-3,3, (6/0.2)+1))"
   ]
  },
  {
   "cell_type": "code",
   "execution_count": 5,
   "metadata": {
    "collapsed": true
   },
   "outputs": [],
   "source": [
    "def f(t,y):\n",
    "    return y**2 - t**2"
   ]
  },
  {
   "cell_type": "code",
   "execution_count": 10,
   "metadata": {
    "collapsed": false
   },
   "outputs": [
    {
     "data": {
      "text/plain": [
       "2"
      ]
     },
     "execution_count": 10,
     "metadata": {},
     "output_type": "execute_result"
    }
   ],
   "source": [
    "listx = [1,2]\n",
    "\n",
    "listx[1]"
   ]
  },
  {
   "cell_type": "code",
   "execution_count": 11,
   "metadata": {
    "collapsed": false
   },
   "outputs": [
    {
     "data": {
      "text/plain": [
       "[<matplotlib.lines.Line2D at 0x7f218b164b38>]"
      ]
     },
     "execution_count": 11,
     "metadata": {},
     "output_type": "execute_result"
    },
    {
     "data": {
      "image/png": "[encoded data removed]",
      "text/plain": [
       "<matplotlib.figure.Figure at 0x7f218b164ba8>"
      ]
     },
     "metadata": {},
     "output_type": "display_data"
    }
   ],
   "source": [
    "fig1 = plt.figure(), plt.xlim([-3,3]), plt.ylim([-2,2])\n",
    "\n",
    "l = 0.2\n",
    "dydx = f(-2,-1)\n",
    "dydx2 = f(-1,-1)\n",
    "theta = np.arctan(dydx)\n",
    "theta2 = np.arctan(dydx2)\n",
    "\n",
    "t_slope = np.linspace(-2-0.5*(l*np.cos(theta)),-2+0.5*(l*np.cos(theta)), 10)\n",
    "y_slope = dydx*t_slope + (-2 - dydx*-1)\n",
    "\n",
    "t_slope2 = np.linspace(-1-0.5*(l*np.cos(theta2)),-1+0.5*(l*np.cos(theta2)), 10)\n",
    "y_slope2 = dydx2*t_slope + (-1 - dydx2*-1)\n",
    "\n",
    "\n",
    "plt.plot(t_slope, y_slope)\n",
    "plt.plot(t_slope2, y_slope2)"
   ]
  },
  {
   "cell_type": "code",
   "execution_count": 12,
   "metadata": {
    "collapsed": false
   },
   "outputs": [
    {
     "data": {
      "text/plain": [
       "[[-3.0, -2.0],\n",
       " [-3.0, -1.0],\n",
       " [-3.0, 0.0],\n",
       " [-3.0, 1.0],\n",
       " [-3.0, 2.0],\n",
       " [-2.0, -2.0],\n",
       " [-2.0, -1.0],\n",
       " [-2.0, 0.0],\n",
       " [-2.0, 1.0],\n",
       " [-2.0, 2.0],\n",
       " [-1.0, -2.0],\n",
       " [-1.0, -1.0],\n",
       " [-1.0, 0.0],\n",
       " [-1.0, 1.0],\n",
       " [-1.0, 2.0],\n",
       " [0.0, -2.0],\n",
       " [0.0, -1.0],\n",
       " [0.0, 0.0],\n",
       " [0.0, 1.0],\n",
       " [0.0, 2.0],\n",
       " [1.0, -2.0],\n",
       " [1.0, -1.0],\n",
       " [1.0, 0.0],\n",
       " [1.0, 1.0],\n",
       " [1.0, 2.0],\n",
       " [2.0, -2.0],\n",
       " [2.0, -1.0],\n",
       " [2.0, 0.0],\n",
       " [2.0, 1.0],\n",
       " [2.0, 2.0],\n",
       " [3.0, -2.0],\n",
       " [3.0, -1.0],\n",
       " [3.0, 0.0],\n",
       " [3.0, 1.0],\n",
       " [3.0, 2.0]]"
      ]
     },
     "execution_count": 12,
     "metadata": {},
     "output_type": "execute_result"
    }
   ],
   "source": [
    "t = np.linspace(-3,3, 6 +1)\n",
    "y = np.linspace(-2,2, 4 +1)\n",
    "\n",
    "points_list = []\n",
    "    \n",
    "for ts in t:\n",
    "    for ys in y:\n",
    "        element = [ts, ys]\n",
    "        points_list.append(element)\n",
    "        \n",
    "points_list"
   ]
  },
  {
   "cell_type": "code",
   "execution_count": 1,
   "metadata": {
    "collapsed": false
   },
   "outputs": [
    {
     "data": {
      "text/plain": [
       "[(1, 3), (2, 4)]"
      ]
     },
     "execution_count": 1,
     "metadata": {},
     "output_type": "execute_result"
    }
   ],
   "source": [
    "list(zip([1,2],[3,4]))"
   ]
  },
  {
   "cell_type": "code",
   "execution_count": null,
   "metadata": {
    "collapsed": true
   },
   "outputs": [],
   "source": []
  }
 ],
 "metadata": {
  "kernelspec": {
   "display_name": "Python 3",
   "language": "python",
   "name": "python3"
  },
  "language_info": {
   "codemirror_mode": {
    "name": "ipython",
    "version": 3
   },
   "file_extension": ".py",
   "mimetype": "text/x-python",
   "name": "python",
   "nbconvert_exporter": "python",
   "pygments_lexer": "ipython3",
   "version": "3.5.2"
  }
 },
 "nbformat": 4,
 "nbformat_minor": 1
}
