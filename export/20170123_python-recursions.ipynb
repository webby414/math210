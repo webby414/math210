{
 "cells": [
  {
   "cell_type": "markdown",
   "metadata": {},
   "source": [
    "# Math 210 January 23\n",
    "\n",
    "Agenda\n",
    "\n",
    "1. More about loops\n",
    "    * Constructing sequences\n",
    "        * Sequences by formulas (non-recursive)\n",
    "        * Recursive sequences\n",
    "2. While loops\n",
    "3. Excercises"
   ]
  },
  {
   "cell_type": "markdown",
   "metadata": {},
   "source": [
    "## I. More on Loops\n",
    "\n",
    "### Constructing Sequences\n",
    "There are already several ways to construct a sequence of values to save them as a Python list.\n",
    "\n",
    "For example we have lsit comprehension"
   ]
  },
  {
   "cell_type": "code",
   "execution_count": 2,
   "metadata": {
    "collapsed": false
   },
   "outputs": [
    {
     "data": {
      "text/plain": [
       "[1, 4, 9, 16, 25, 36, 49, 64, 81]"
      ]
     },
     "execution_count": 2,
     "metadata": {},
     "output_type": "execute_result"
    }
   ],
   "source": [
    "[d**2 for d in range(1,10)]\n",
    "# But we can only use list comprehensions when the sequence values \n",
    "# are defined by a formula -- NON RECURSIVE sequence"
   ]
  },
  {
   "cell_type": "markdown",
   "metadata": {},
   "source": [
    "How then do we construct as sequence where the next value depends on the previous value? Consider then the Fibonachi sequence\n",
    "\n",
    "$$ x_1=1 x_2=1 x_3=2 x_4=3, x_5=5,...$$\n",
    "\n",
    "Where\n",
    "\n",
    "$$ x_n=x_{n-1}+x_{n-2}$$\n",
    "\n",
    "We can not use a list comprehension to build the list of Fibonacci numbers, and so we will use a for loop instead."
   ]
  },
  {
   "cell_type": "code",
   "execution_count": 6,
   "metadata": {
    "collapsed": true
   },
   "outputs": [
    {
     "name": "stdout",
     "output_type": "stream",
     "text": [
      "[1, 1, 2]\n",
      "[1, 1, 2, 3]\n",
      "[1, 1, 2, 3, 5]\n",
      "[1, 1, 2, 3, 5, 8]\n",
      "[1, 1, 2, 3, 5, 8, 13]\n",
      "[1, 1, 2, 3, 5, 8, 13, 21]\n",
      "[1, 1, 2, 3, 5, 8, 13, 21, 34]\n",
      "[1, 1, 2, 3, 5, 8, 13, 21, 34, 55]\n",
      "[1, 1, 2, 3, 5, 8, 13, 21, 34, 55, 89]\n",
      "[1, 1, 2, 3, 5, 8, 13, 21, 34, 55, 89, 144]\n",
      "[1, 1, 2, 3, 5, 8, 13, 21, 34, 55, 89, 144, 233]\n",
      "[1, 1, 2, 3, 5, 8, 13, 21, 34, 55, 89, 144, 233, 377]\n",
      "[1, 1, 2, 3, 5, 8, 13, 21, 34, 55, 89, 144, 233, 377, 610]\n"
     ]
    }
   ],
   "source": [
    "fib_list = [1,1]\n",
    "\n",
    "for n in range(2, 15):\n",
    "    fib_list_n= fib_list[n-1] + fib_list[n-2]\n",
    "    fib_list.append(fib_list_n)\n",
    "    print(fib_list)"
   ]
  },
  {
   "cell_type": "markdown",
   "metadata": {},
   "source": [
    "Lets write a function called `fib_less_than` taking one input $N$ and returns a list of Fibonachi numbers less than $N$"
   ]
  },
  {
   "cell_type": "code",
   "execution_count": 9,
   "metadata": {
    "collapsed": true
   },
   "outputs": [],
   "source": [
    "def fib_less_than(N):\n",
    "    \"\"\"Computes a list of Fibonnacchi numbers less than  N\"\"\"\n",
    "    fib_list = [1,1]\n",
    "    \n",
    "    for n in range(2,N):\n",
    "        fib_list_n= fib_list[n-1] + fib_list[n-2]\n",
    "        \n",
    "        \n",
    "        if fib_list_n < N:\n",
    "            fib_list.append(fib_list_n)\n",
    "        \n",
    "        else:\n",
    "            # stop the loop with break if the Fibonnacci number computed\n",
    "            # is less than N\n",
    "            \n",
    "            break \n",
    "            \n",
    "    return fib_list\n",
    "    "
   ]
  },
  {
   "cell_type": "code",
   "execution_count": 10,
   "metadata": {
    "collapsed": false
   },
   "outputs": [
    {
     "data": {
      "text/plain": [
       "[1, 1, 2, 3, 5, 8, 13]"
      ]
     },
     "execution_count": 10,
     "metadata": {},
     "output_type": "execute_result"
    }
   ],
   "source": [
    "fib_less_than(20)"
   ]
  },
  {
   "cell_type": "markdown",
   "metadata": {},
   "source": [
    "Write a function called `collatz` which takes on inout parameter $a$ and computes the Collatz sequence defined by:\n",
    "\n",
    "![Collatz](https://wikimedia.org/api/rest_v1/media/math/render/svg/062b0b6e185d6832b1ced9f7ef245ac0bc4a275a)\n",
    "\n",
    "Where x_0 = a"
   ]
  },
  {
   "cell_type": "markdown",
   "metadata": {},
   "source": [
    "For example, if $$a=10$$ then $$x_1 = 5 x_2 = 16, x_3 = 8, x_4 = 4 x_5 = 2 and x_6 = 1"
   ]
  },
  {
   "cell_type": "code",
   "execution_count": 16,
   "metadata": {
    "collapsed": false
   },
   "outputs": [],
   "source": [
    "def collatz(a):\n",
    "    \"\"\"Copute the collatz sequence starting at a\"\"\"\n",
    "    # initialize the sequence with the first value a\n",
    "    x_list = [a]\n",
    "    # continie computing the values in the sequence until we reach 1\n",
    "    while x_list[-1] !=1:\n",
    "        # check if the last element in the list is even\n",
    "        if x_list[-1] % 2 == 0:\n",
    "            # computes and append the new values\n",
    "            x_list.append(x_list[-1] // 2)  \n",
    "            ## // gives an integer division and then floors it\n",
    "        else:\n",
    "            # compute and append the new values\n",
    "            x_list.append(3*x_list[-1] +1)\n",
    "\n",
    "    return x_list"
   ]
  },
  {
   "cell_type": "code",
   "execution_count": 17,
   "metadata": {
    "collapsed": false
   },
   "outputs": [
    {
     "name": "stdout",
     "output_type": "stream",
     "text": [
      "[10, 5, 16, 8, 4, 2, 1]\n"
     ]
    }
   ],
   "source": [
    "print(collatz(10))"
   ]
  },
  {
   "cell_type": "code",
   "execution_count": null,
   "metadata": {
    "collapsed": true
   },
   "outputs": [],
   "source": []
  }
 ],
 "metadata": {
  "kernelspec": {
   "display_name": "Python 3",
   "language": "python",
   "name": "python3"
  },
  "language_info": {
   "codemirror_mode": {
    "name": "ipython",
    "version": 3
   },
   "file_extension": ".py",
   "mimetype": "text/x-python",
   "name": "python",
   "nbconvert_exporter": "python",
   "pygments_lexer": "ipython3",
   "version": "3.5.2"
  }
 },
 "nbformat": 4,
 "nbformat_minor": 1
}
