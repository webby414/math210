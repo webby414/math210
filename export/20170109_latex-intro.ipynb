{
 "cells": [
  {
   "cell_type": "markdown",
   "metadata": {},
   "source": [
    "# MATH 210 \n",
    "\n",
    "## January 9, 2017\n",
    "\n",
    "Agenada:\n",
    "\n",
    "1. LaTex Excercises\n",
    "2. Matrices"
   ]
  },
  {
   "cell_type": "markdown",
   "metadata": {},
   "source": [
    "## I. LatTex Excercises\n",
    "\n",
    "The definition of the derivative of $f(x)$ at point $x=a$ is the limit:\n",
    "$$\n",
    "f'(a) = \\lim_{x \\to a} \\frac{f(x) - f(a)}{x-a}\n",
    "$$"
   ]
  },
  {
   "cell_type": "markdown",
   "metadata": {},
   "source": [
    "A function $f(x)$ is continuous at a point $x=a$ if:\n",
    "$$\n",
    "\\lim_{x \\to a^-} f(x) = f(a) = \\lim_{x \\to a^+} f(x)\n",
    "$$\n"
   ]
  },
  {
   "cell_type": "markdown",
   "metadata": {},
   "source": [
    "The Navier-Stokes Equation\n",
    "$$\n",
    "\\frac{\\mathrm{d} \\rho}{\\mathrm{d} t} = \\frac{\\partial \\rho}{\\partial t} + \n",
    "\\frac{d \\rho}{dx} \\frac{d x}{d t} +\n",
    "\\frac{d \\rho}{dy} \\frac{d y}{d t} +\n",
    "\\frac{d \\rho}{dz} \\frac{d y}{d t} \n",
    "$$"
   ]
  },
  {
   "cell_type": "markdown",
   "metadata": {},
   "source": [
    "The Maclaurin for $e^x$ is:\n",
    "$$\n",
    "e^x = \\sum_{k=0}^{\\infty} \\frac {x^k}{k!}\n",
    "$$"
   ]
  },
  {
   "cell_type": "markdown",
   "metadata": {},
   "source": [
    "### Matrices\n",
    "\n",
    "To create a matrix without brackets \n",
    "```\n",
    "\\begin{matrix} a & b \\\\ c & d \\end{matrix}\n",
    "```\n",
    "\n",
    "$$\n",
    "\\begin{matrix} a & b \\\\ c & d \\end{matrix}\n",
    "$$\n",
    "\n",
    "To create a matrix with parentheses `\\begin{pmatrix} a & b \\\\ c & d \\end{pmatrix}`\n",
    "\n",
    "$$\n",
    "\\begin{pmatrix} a & b \\\\ c & d \\end{pmatrix}\n",
    "$$\n",
    "\n",
    "To create a matrix with brackets `\\begin{bmatrix} a & b \\\\ c & d \\end{bmatrix}`\n",
    "\n",
    "$$\n",
    "\\begin{bmatrix} a & b \\\\ c & d \\end{bmatrix}\n",
    "$$\n",
    "\n",
    "To create an augmented matrix use the subtax `\\left( \\begin{array}{c | c} a & b \\\\ c & d \\end{array} \\right)`\n",
    "\n",
    "$$\n",
    "\\left[ \\begin{array}{c c c | c} a & b & c & 0 \\\\ e & f & g & 0 \\end{array} \\right]\n",
    "$$"
   ]
  },
  {
   "cell_type": "markdown",
   "metadata": {},
   "source": [
    "To enclose large expressions in brackets, use the syntax\n",
    "```\n",
    "\\left( \\frac {1}{2} - 1 \\right)\n",
    "```\n",
    "$$\\left( \\frac {1}{2} - 1 \\right)$$"
   ]
  },
  {
   "cell_type": "code",
   "execution_count": null,
   "metadata": {
    "collapsed": true
   },
   "outputs": [],
   "source": []
  }
 ],
 "metadata": {
  "kernelspec": {
   "display_name": "Python 3",
   "language": "python",
   "name": "python3"
  },
  "language_info": {
   "codemirror_mode": {
    "name": "ipython",
    "version": 3
   },
   "file_extension": ".py",
   "mimetype": "text/x-python",
   "name": "python",
   "nbconvert_exporter": "python",
   "pygments_lexer": "ipython3",
   "version": "3.5.2"
  }
 },
 "nbformat": 4,
 "nbformat_minor": 1
}
