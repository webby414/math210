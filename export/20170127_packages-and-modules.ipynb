{
 "cells": [
  {
   "cell_type": "markdown",
   "metadata": {},
   "source": [
    "# MATH 210 January 27, 2017\n",
    "\n",
    "Agenda:\n",
    "\n",
    "1. Modules and packages\n",
    "2. An overview of scientific computing in python\n",
    "3. Excercises"
   ]
  },
  {
   "cell_type": "markdown",
   "metadata": {},
   "source": [
    "## I. Modules and Packages\n",
    "\n",
    "Notice that we have been using the standard python library consisting of builtin functions (like `sum`, `len`,...etc) and built in datatypes (like `int`, `float`, `list`, etc.). We need packages to work with the likes of matricies, exponential functions and trignometric functions like NumPy, SciPy, matplotlib, pandas and many more have been built for scientific computing and many other applictioons. \n",
    "\n",
    "A module is simply a collection of functions and other things saved to `.py` file (just a text file with python code). A package is a whole collection of modules. Lets make out own module.\n",
    "\n",
    "Lets make a package for our number theory functions:"
   ]
  },
  {
   "cell_type": "code",
   "execution_count": 1,
   "metadata": {
    "collapsed": true
   },
   "outputs": [],
   "source": [
    "def prime_divisors(N):\n",
    "    \n",
    "    def is_prime(a):\n",
    "        if a<=1:\n",
    "            return False\n",
    "        for div in range(2,a):\n",
    "            if a % div == 0:\n",
    "                return False\n",
    "        return True\n",
    "    \n",
    "    prime_divisors_list = []\n",
    "    \n",
    "    for d in range(1, N // 2 + 1):\n",
    "        if (N % d == 0) and is_prime(d):\n",
    "            prime_divisors_list.append(d)\n",
    "    \n",
    "    return prime_divisors_list"
   ]
  },
  {
   "cell_type": "code",
   "execution_count": 2,
   "metadata": {
    "collapsed": true
   },
   "outputs": [],
   "source": [
    "def factorial(N):\n",
    "    \"\"\"Compute N!=N(N-1) ... (2)(1)\"\"\"\n",
    "    # Initialize the outpout variable to 1\n",
    "    product = 1\n",
    "    for n in range(2,N + 1):\n",
    "        # Update the output variable\n",
    "        product = product * n\n",
    "    return product"
   ]
  },
  {
   "cell_type": "code",
   "execution_count": 3,
   "metadata": {
    "collapsed": true
   },
   "outputs": [],
   "source": [
    "def n_choose_k(N,K):\n",
    "    \"\"\"Compute N choose K.\"\"\"\n",
    "    return factorial(N) // (factorial(N - K) * factorial(K))"
   ]
  },
  {
   "cell_type": "code",
   "execution_count": 4,
   "metadata": {
    "collapsed": true
   },
   "outputs": [],
   "source": [
    "def divisors(N):\n",
    "    \"\"\"Return the list of divisors of N.\"\"\"\n",
    "    # Initialize the list of divisors\n",
    "    divisor_list = [1]\n",
    "    # Check division by d for d <= N/2\n",
    "    for d in range(2,N // 2 + 1):\n",
    "        if N % d == 0:\n",
    "            divisor_list.append(d)\n",
    "    divisor_list.append(N)\n",
    "    return divisor_list"
   ]
  },
  {
   "cell_type": "code",
   "execution_count": 5,
   "metadata": {
    "collapsed": true
   },
   "outputs": [],
   "source": [
    "def rep_as_squares(N):\n",
    "    \"\"\"Find all representations of N as a sum of squares a**2 + b**2 = N.\"\"\"\n",
    "    reps = []\n",
    "    for a in range(1,N):\n",
    "        for b in range(a,N):\n",
    "            if a**2 + b**2 == N:\n",
    "                reps.append([a,b])\n",
    "    return reps"
   ]
  },
  {
   "cell_type": "code",
   "execution_count": 6,
   "metadata": {
    "collapsed": true
   },
   "outputs": [],
   "source": [
    "def is_prime(a):\n",
    "        if a<=1:\n",
    "            return False\n",
    "        for div in range(2,a):\n",
    "            if a % div == 0:\n",
    "                return False\n",
    "        return True"
   ]
  },
  {
   "cell_type": "code",
   "execution_count": 6,
   "metadata": {
    "collapsed": true
   },
   "outputs": [],
   "source": [
    "import number_theory"
   ]
  },
  {
   "cell_type": "markdown",
   "metadata": {},
   "source": [
    "Now all functions in the file `number_theory.py` are available "
   ]
  },
  {
   "cell_type": "code",
   "execution_count": 7,
   "metadata": {
    "collapsed": false
   },
   "outputs": [
    {
     "data": {
      "text/plain": [
       "True"
      ]
     },
     "execution_count": 7,
     "metadata": {},
     "output_type": "execute_result"
    }
   ],
   "source": [
    "number_theory.is_prime(2017)"
   ]
  },
  {
   "cell_type": "code",
   "execution_count": 8,
   "metadata": {
    "collapsed": true
   },
   "outputs": [],
   "source": [
    "def is_square(N):\n",
    "    \"\"\"Determine whether N is a square number\"\"\"\n",
    "    return N == round(N**(0.5))**2"
   ]
  },
  {
   "cell_type": "code",
   "execution_count": 9,
   "metadata": {
    "collapsed": true
   },
   "outputs": [],
   "source": [
    "def rep_as_squares(N):\n",
    "    \"\"\"Find all representations of N as a sum of squares a**2 + b**2 = N.\"\"\"\n",
    "    reps = []\n",
    "    stop = int((N/2)**0.5) + 1\n",
    "    for a in range(1,stop):\n",
    "        b_squared = N - a**2\n",
    "        if is_square(b_squared):\n",
    "            b = round(b_squared**0.5)\n",
    "            reps.append([a,b])\n",
    "    return reps"
   ]
  },
  {
   "cell_type": "code",
   "execution_count": 10,
   "metadata": {
    "collapsed": false
   },
   "outputs": [
    {
     "data": {
      "text/plain": [
       "[[1, 2]]"
      ]
     },
     "execution_count": 10,
     "metadata": {},
     "output_type": "execute_result"
    }
   ],
   "source": [
    "rep_as_squares(5)"
   ]
  },
  {
   "cell_type": "code",
   "execution_count": 11,
   "metadata": {
    "collapsed": false
   },
   "outputs": [
    {
     "data": {
      "text/plain": [
       "[[1, 2]]"
      ]
     },
     "execution_count": 11,
     "metadata": {},
     "output_type": "execute_result"
    }
   ],
   "source": [
    "number_theory.rep_as_squares(5)"
   ]
  },
  {
   "cell_type": "code",
   "execution_count": 13,
   "metadata": {
    "collapsed": false
   },
   "outputs": [
    {
     "data": {
      "text/plain": [
       "True"
      ]
     },
     "execution_count": 13,
     "metadata": {},
     "output_type": "execute_result"
    }
   ],
   "source": [
    "number_theory.is_square(4)"
   ]
  },
  {
   "cell_type": "markdown",
   "metadata": {},
   "source": [
    "### Excercise\n",
    "1. What is the smallest integer that can be expressed as a sum of squares in 5 ways?\n",
    "2. What is the smallest prime number that can be expressed as a sum of squares in 3 ways?"
   ]
  },
  {
   "cell_type": "code",
   "execution_count": 15,
   "metadata": {
    "collapsed": false
   },
   "outputs": [
    {
     "name": "stdout",
     "output_type": "stream",
     "text": [
      "1105 - [[4, 33], [9, 32], [12, 31], [23, 24]]\n",
      "1625 - [[5, 40], [16, 37], [20, 35], [28, 29]]\n",
      "1885 - [[6, 43], [11, 42], [21, 38], [27, 34]]\n"
     ]
    }
   ],
   "source": [
    "for N in range(1,2000):\n",
    "    reps = number_theory.rep_as_squares(N)\n",
    "    \n",
    "    if len(reps) > 3:\n",
    "        print(N, '-', reps)"
   ]
  },
  {
   "cell_type": "code",
   "execution_count": 23,
   "metadata": {
    "collapsed": false,
    "scrolled": true
   },
   "outputs": [
    {
     "name": "stdout",
     "output_type": "stream",
     "text": [
      "5525 - [[7, 74], [14, 73], [22, 71], [25, 70], [41, 62], [50, 55]]\n",
      "9425 - [[4, 97], [20, 95], [31, 92], [41, 88], [55, 80], [64, 73]]\n"
     ]
    }
   ],
   "source": [
    "for N in range(5525,10000):\n",
    "    reps = number_theory.rep_as_squares(N)\n",
    "    \n",
    "    if len(reps) > 5:\n",
    "        print(N, '-', reps)"
   ]
  },
  {
   "cell_type": "markdown",
   "metadata": {},
   "source": [
    "## II. Overview of NumPy and Mathplotlib\n",
    "\n",
    "NumPy is the core scientific computing package, we use it do create arrays and do array operations. Mathplotlib is the plotting library that depends on NumPy."
   ]
  },
  {
   "cell_type": "code",
   "execution_count": 24,
   "metadata": {
    "collapsed": true
   },
   "outputs": [],
   "source": [
    "import numpy as np"
   ]
  },
  {
   "cell_type": "code",
   "execution_count": 25,
   "metadata": {
    "collapsed": true
   },
   "outputs": [],
   "source": [
    "x = np.linspace(0,1,100)"
   ]
  },
  {
   "cell_type": "code",
   "execution_count": 26,
   "metadata": {
    "collapsed": false
   },
   "outputs": [
    {
     "name": "stdout",
     "output_type": "stream",
     "text": [
      "[ 0.          0.01010101  0.02020202  0.03030303  0.04040404  0.05050505\n",
      "  0.06060606  0.07070707  0.08080808  0.09090909  0.1010101   0.11111111\n",
      "  0.12121212  0.13131313  0.14141414  0.15151515  0.16161616  0.17171717\n",
      "  0.18181818  0.19191919  0.2020202   0.21212121  0.22222222  0.23232323\n",
      "  0.24242424  0.25252525  0.26262626  0.27272727  0.28282828  0.29292929\n",
      "  0.3030303   0.31313131  0.32323232  0.33333333  0.34343434  0.35353535\n",
      "  0.36363636  0.37373737  0.38383838  0.39393939  0.4040404   0.41414141\n",
      "  0.42424242  0.43434343  0.44444444  0.45454545  0.46464646  0.47474747\n",
      "  0.48484848  0.49494949  0.50505051  0.51515152  0.52525253  0.53535354\n",
      "  0.54545455  0.55555556  0.56565657  0.57575758  0.58585859  0.5959596\n",
      "  0.60606061  0.61616162  0.62626263  0.63636364  0.64646465  0.65656566\n",
      "  0.66666667  0.67676768  0.68686869  0.6969697   0.70707071  0.71717172\n",
      "  0.72727273  0.73737374  0.74747475  0.75757576  0.76767677  0.77777778\n",
      "  0.78787879  0.7979798   0.80808081  0.81818182  0.82828283  0.83838384\n",
      "  0.84848485  0.85858586  0.86868687  0.87878788  0.88888889  0.8989899\n",
      "  0.90909091  0.91919192  0.92929293  0.93939394  0.94949495  0.95959596\n",
      "  0.96969697  0.97979798  0.98989899  1.        ]\n"
     ]
    }
   ],
   "source": [
    "print(x)"
   ]
  },
  {
   "cell_type": "code",
   "execution_count": 27,
   "metadata": {
    "collapsed": true
   },
   "outputs": [],
   "source": [
    "y = np.cos(x)"
   ]
  },
  {
   "cell_type": "code",
   "execution_count": 28,
   "metadata": {
    "collapsed": false
   },
   "outputs": [
    {
     "name": "stdout",
     "output_type": "stream",
     "text": [
      "[ 1.          0.99994899  0.99979595  0.9995409   0.99918387  0.99872489\n",
      "  0.99816401  0.9975013   0.9967368   0.99587061  0.99490282  0.99383351\n",
      "  0.9926628   0.99139081  0.99001767  0.98854352  0.98696851  0.9852928\n",
      "  0.98351656  0.98163997  0.97966323  0.97758653  0.97541009  0.97313412\n",
      "  0.97075887  0.96828458  0.96571149  0.96303986  0.96026998  0.95740213\n",
      "  0.95443659  0.95137367  0.94821368  0.94495695  0.9416038   0.93815458\n",
      "  0.93460964  0.93096935  0.92723406  0.92340418  0.91948007  0.91546216\n",
      "  0.91135084  0.90714653  0.90284967  0.89846069  0.89398004  0.88940818\n",
      "  0.88474558  0.8799927   0.87515004  0.87021809  0.86519735  0.86008833\n",
      "  0.85489156  0.84960756  0.84423688  0.83878007  0.83323767  0.82761026\n",
      "  0.8218984   0.81610269  0.81022371  0.80426207  0.79821837  0.79209322\n",
      "  0.78588726  0.77960112  0.77323543  0.76679085  0.76026803  0.75366765\n",
      "  0.74699036  0.74023687  0.73340784  0.72650399  0.71952601  0.71247462\n",
      "  0.70535054  0.69815449  0.69088721  0.68354943  0.67614192  0.66866542\n",
      "  0.66112069  0.65350851  0.64582966  0.6380849   0.63027505  0.62240089\n",
      "  0.61446323  0.60646287  0.59840063  0.59027735  0.58209383  0.57385093\n",
      "  0.56554947  0.55719031  0.5487743   0.54030231]\n"
     ]
    }
   ],
   "source": [
    "print(y)"
   ]
  },
  {
   "cell_type": "code",
   "execution_count": 30,
   "metadata": {
    "collapsed": false
   },
   "outputs": [
    {
     "name": "stderr",
     "output_type": "stream",
     "text": [
      "/opt/conda/lib/python3.5/site-packages/matplotlib/font_manager.py:273: UserWarning: Matplotlib is building the font cache using fc-list. This may take a moment.\n",
      "  warnings.warn('Matplotlib is building the font cache using fc-list. This may take a moment.')\n",
      "/opt/conda/lib/python3.5/site-packages/matplotlib/font_manager.py:273: UserWarning: Matplotlib is building the font cache using fc-list. This may take a moment.\n",
      "  warnings.warn('Matplotlib is building the font cache using fc-list. This may take a moment.')\n"
     ]
    }
   ],
   "source": [
    "import matplotlib.pyplot as plt"
   ]
  },
  {
   "cell_type": "code",
   "execution_count": 32,
   "metadata": {
    "collapsed": false
   },
   "outputs": [],
   "source": [
    "%matplotlib inline"
   ]
  },
  {
   "cell_type": "code",
   "execution_count": 33,
   "metadata": {
    "collapsed": false
   },
   "outputs": [
    {
     "data": {
      "text/plain": [
       "[<matplotlib.lines.Line2D at 0x7f5200e50748>]"
      ]
     },
     "execution_count": 33,
     "metadata": {},
     "output_type": "execute_result"
    },
    {
     "data": {
      "image/png": "[encoded data removed]",
      "text/plain": [
       "<matplotlib.figure.Figure at 0x7f5200e972b0>"
      ]
     },
     "metadata": {},
     "output_type": "display_data"
    }
   ],
   "source": [
    "plt.plot(x,y)"
   ]
  },
  {
   "cell_type": "code",
   "execution_count": 35,
   "metadata": {
    "collapsed": false
   },
   "outputs": [
    {
     "data": {
      "text/plain": [
       "[<matplotlib.lines.Line2D at 0x7f5200db2160>]"
      ]
     },
     "execution_count": 35,
     "metadata": {},
     "output_type": "execute_result"
    },
    {
     "data": {
      "image/png": "[encoded data removed]",
      "text/plain": [
       "<matplotlib.figure.Figure at 0x7f5200ee3da0>"
      ]
     },
     "metadata": {},
     "output_type": "display_data"
    }
   ],
   "source": [
    "x = np.linspace(-5,5,1000)\n",
    "y = np.exp(-x**2) * np.cos(10*x)\n",
    "plt.plot(x,y)"
   ]
  },
  {
   "cell_type": "code",
   "execution_count": null,
   "metadata": {
    "collapsed": true
   },
   "outputs": [],
   "source": []
  }
 ],
 "metadata": {
  "kernelspec": {
   "display_name": "Python 3",
   "language": "python",
   "name": "python3"
  },
  "language_info": {
   "codemirror_mode": {
    "name": "ipython",
    "version": 3
   },
   "file_extension": ".py",
   "mimetype": "text/x-python",
   "name": "python",
   "nbconvert_exporter": "python",
   "pygments_lexer": "ipython3",
   "version": "3.5.2"
  }
 },
 "nbformat": 4,
 "nbformat_minor": 1
}
