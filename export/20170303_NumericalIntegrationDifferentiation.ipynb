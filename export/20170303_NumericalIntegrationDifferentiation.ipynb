{
 "cells": [
  {
   "cell_type": "markdown",
   "metadata": {
    "deletable": true,
    "editable": true
   },
   "source": [
    "# MATH 210 March 3, 2017\n",
    "\n",
    "Agenda\n",
    "1. more definite integrals using the QUADPACK\n",
    "2. Numerical differentiation\n",
    "    * Central difference formula\n",
    "    * `scipy.misc.derivative`"
   ]
  },
  {
   "cell_type": "code",
   "execution_count": null,
   "metadata": {
    "collapsed": true,
    "deletable": true,
    "editable": true
   },
   "outputs": [],
   "source": [
    "import numpy as np\n",
    "import matplotlib.pyplot as plt\n",
    "%matplotlib inline"
   ]
  },
  {
   "cell_type": "markdown",
   "metadata": {
    "deletable": true,
    "editable": true
   },
   "source": [
    "## I. The QUADPACK\n",
    "\n",
    "### The Gamma Function\n",
    "\n",
    "The gamma function denoted as $\\Gamma(x)$ is an extension of the factorial $n!$ in the sense that $\\Gamma(n) = (n-1)!$. It's defined by an infinite integral:\n",
    "\n",
    "$$\n",
    "\\Gamma(x) = \\int_0^{\\infty} t^{x-1} e^{-t} dt\n",
    "$$"
   ]
  },
  {
   "cell_type": "code",
   "execution_count": null,
   "metadata": {
    "collapsed": true,
    "deletable": true,
    "editable": true
   },
   "outputs": [],
   "source": [
    "import scipy.integrate as spi"
   ]
  },
  {
   "cell_type": "code",
   "execution_count": null,
   "metadata": {
    "collapsed": false,
    "deletable": true,
    "editable": true
   },
   "outputs": [],
   "source": [
    "x = 15\n",
    "def f(t):\n",
    "    return t**(x-1) * np.exp(-t)\n",
    "\n",
    "# Gamma function for x = 5\n",
    "I, abserr = spi.quad(f,0,np.inf)   # unpacking the result of QUAD\n",
    "\n",
    "I "
   ]
  },
  {
   "cell_type": "code",
   "execution_count": null,
   "metadata": {
    "collapsed": true,
    "deletable": true,
    "editable": true
   },
   "outputs": [],
   "source": [
    "from scipy.misc import factorial"
   ]
  },
  {
   "cell_type": "code",
   "execution_count": null,
   "metadata": {
    "collapsed": false,
    "deletable": true,
    "editable": true
   },
   "outputs": [],
   "source": [
    "factorial(14)"
   ]
  },
  {
   "cell_type": "code",
   "execution_count": null,
   "metadata": {
    "collapsed": true,
    "deletable": true,
    "editable": true
   },
   "outputs": [],
   "source": [
    "from scipy.special import gamma as G"
   ]
  },
  {
   "cell_type": "code",
   "execution_count": null,
   "metadata": {
    "collapsed": false,
    "deletable": true,
    "editable": true
   },
   "outputs": [],
   "source": [
    "x = np.linspace(0.01,6,100)\n",
    "y = G(x)\n",
    "\n",
    "n = np.arange(0,7)\n",
    "factorials = factorial(n-1)\n",
    "plt.plot(x,y,n,factorials, \"r.\")"
   ]
  },
  {
   "cell_type": "markdown",
   "metadata": {
    "deletable": true,
    "editable": true
   },
   "source": [
    "### Verifying the Integral Formula"
   ]
  },
  {
   "cell_type": "code",
   "execution_count": null,
   "metadata": {
    "collapsed": true,
    "deletable": true,
    "editable": true
   },
   "outputs": [],
   "source": [
    "n=2 \n",
    "def f(x):\n",
    "    return x**(3*n)/(1-x**3)**(1/3)"
   ]
  },
  {
   "cell_type": "code",
   "execution_count": null,
   "metadata": {
    "collapsed": false,
    "deletable": true,
    "editable": true
   },
   "outputs": [],
   "source": [
    "I, abserr = spi.quad(f,0,1)\n",
    "I"
   ]
  },
  {
   "cell_type": "code",
   "execution_count": null,
   "metadata": {
    "collapsed": false,
    "deletable": true,
    "editable": true
   },
   "outputs": [],
   "source": [
    "true_I = 2*np.pi/(3*np.sqrt(3)) * G(n+1/3)/(G(1/3)*G(n+1))\n",
    "true_I"
   ]
  },
  {
   "cell_type": "code",
   "execution_count": null,
   "metadata": {
    "collapsed": false,
    "deletable": true,
    "editable": true
   },
   "outputs": [],
   "source": [
    "# Verifying the error\n",
    "\n",
    "(np.abs(I-true_I)) < abserr"
   ]
  },
  {
   "cell_type": "markdown",
   "metadata": {
    "deletable": true,
    "editable": true
   },
   "source": [
    "## II. Numberical Differentiation\n",
    "\n",
    "Given a function $f(x)$ we can approximate the value of the derivative $f'(a)$ at $x=a$ by the formula:\n",
    "\n",
    "$$\n",
    "f'(a) \\approx \\frac{f(a+h)-f(a)}{h}\n",
    "$$\n",
    "\n",
    "or \n",
    "$$\n",
    "f'(a) \\approx \\frac{f(a)-f(a-h)}{h}\n",
    "$$\n",
    "\n",
    "or we can use the central difference formaula which is the average of the two methods\n",
    "$$\n",
    "f'(a) = \\frac{1}{2} \\left( \\frac{f(a+h)-f(a)}{h} + \\frac{f(a)-f(a-h)}{h} \\right) = \\frac{f(a+h)-f(a-h)}{2h}\n",
    "$$\n",
    "\n"
   ]
  },
  {
   "cell_type": "code",
   "execution_count": null,
   "metadata": {
    "collapsed": true,
    "deletable": true,
    "editable": true
   },
   "outputs": [],
   "source": [
    "def D(f,a,h=0.01):\n",
    "    '''Compute the derivative of f(x) at x=a using the central difference formua with step h'''\n",
    "    return (f(a+h) - f(a-h))/(2*h)"
   ]
  },
  {
   "cell_type": "code",
   "execution_count": null,
   "metadata": {
    "collapsed": true,
    "deletable": true,
    "editable": true
   },
   "outputs": [],
   "source": [
    "def f(x):\n",
    "    return x**2"
   ]
  },
  {
   "cell_type": "code",
   "execution_count": null,
   "metadata": {
    "collapsed": false,
    "deletable": true,
    "editable": true
   },
   "outputs": [],
   "source": [
    "D(f,2)"
   ]
  },
  {
   "cell_type": "code",
   "execution_count": null,
   "metadata": {
    "collapsed": false,
    "deletable": true,
    "editable": true
   },
   "outputs": [],
   "source": [
    "x = np.linspace(0,2*np.pi,100)\n",
    "y = D(np.sin, x)\n",
    "\n",
    "plt.plot(x,y)"
   ]
  },
  {
   "cell_type": "markdown",
   "metadata": {
    "deletable": true,
    "editable": true
   },
   "source": [
    "There's a SciPy function that does the exact same thing as our `D` and its called `scipy.misc.derivative`"
   ]
  },
  {
   "cell_type": "code",
   "execution_count": null,
   "metadata": {
    "collapsed": true,
    "deletable": true,
    "editable": true
   },
   "outputs": [],
   "source": [
    "from scipy.misc import derivative"
   ]
  },
  {
   "cell_type": "code",
   "execution_count": null,
   "metadata": {
    "collapsed": false,
    "deletable": true,
    "editable": true
   },
   "outputs": [],
   "source": [
    "x = np.arange(0,5)\n",
    "D(np.exp,x, h=0.1)"
   ]
  },
  {
   "cell_type": "code",
   "execution_count": null,
   "metadata": {
    "collapsed": false,
    "deletable": true,
    "editable": true
   },
   "outputs": [],
   "source": [
    "derivative(np.exp,x,dx=0.1)"
   ]
  },
  {
   "cell_type": "code",
   "execution_count": null,
   "metadata": {
    "collapsed": true,
    "deletable": true,
    "editable": true
   },
   "outputs": [],
   "source": [
    "derivative?"
   ]
  },
  {
   "cell_type": "code",
   "execution_count": null,
   "metadata": {
    "collapsed": true,
    "deletable": true,
    "editable": true
   },
   "outputs": [],
   "source": []
  }
 ],
 "metadata": {
  "kernelspec": {
   "display_name": "Python 3",
   "language": "python",
   "name": "python3"
  },
  "language_info": {
   "codemirror_mode": {
    "name": "ipython",
    "version": 3
   },
   "file_extension": ".py",
   "mimetype": "text/x-python",
   "name": "python",
   "nbconvert_exporter": "python",
   "pygments_lexer": "ipython3",
   "version": "3.5.2"
  }
 },
 "nbformat": 4,
 "nbformat_minor": 2
}
