{
 "cells": [
  {
   "cell_type": "markdown",
   "metadata": {},
   "source": [
    "# MATH 210 March 1, 2017\n",
    "\n",
    "Agenda:\n",
    "* Aproximating definite integrals with `scipy.intergrate`\n",
    "    * `trapz`\n",
    "    * `simps`\n",
    "    * `quads`"
   ]
  },
  {
   "cell_type": "code",
   "execution_count": null,
   "metadata": {
    "collapsed": true
   },
   "outputs": [],
   "source": [
    "import numpy as np\n",
    "import matplotlib.pyplot as plt\n",
    "%matplotlib inline"
   ]
  },
  {
   "cell_type": "markdown",
   "metadata": {},
   "source": [
    "## Approximating Definite Integrals with `scipy.integrate`\n",
    "\n",
    "### `trapz` Example\n",
    "\n",
    "$$\n",
    "\\int_0^1 \\left( \\frac{x^{n-1}}{1-x^{1/p}} - \\frac{px^{np-1}}{1-x} \\right) dx = p\\ln{p}\n",
    "$$\n",
    "\n",
    "Notic that $p>0$ and the integrand is not defined at $x = 1$"
   ]
  },
  {
   "cell_type": "code",
   "execution_count": null,
   "metadata": {
    "collapsed": true
   },
   "outputs": [],
   "source": [
    "import scipy.integrate as spi"
   ]
  },
  {
   "cell_type": "code",
   "execution_count": null,
   "metadata": {
    "collapsed": false
   },
   "outputs": [],
   "source": [
    "n = 2\n",
    "p = 3\n",
    "N = 1000\n",
    "\n",
    "x = np.linspace(0,0.9999999, N)\n",
    "y = x**(n-1)/(1-x**(1/p))-(p*x**(n*p-1))/(1-x)\n",
    "\n",
    "plt.plot(x,y), plt.xlim([0,1])\n",
    "\n",
    "spi.trapz(y,x)\n"
   ]
  },
  {
   "cell_type": "code",
   "execution_count": null,
   "metadata": {
    "collapsed": false
   },
   "outputs": [],
   "source": [
    "p*np.log(p)"
   ]
  },
  {
   "cell_type": "markdown",
   "metadata": {},
   "source": [
    "### `simps` Example\n",
    "\n",
    "$$\n",
    "\\int_0^{\\infty} \\frac{e^{-qx}}{\\sqrt{x}} dx = \\sqrt{\\frac{\\pi}{q}}\n",
    "$$"
   ]
  },
  {
   "cell_type": "code",
   "execution_count": null,
   "metadata": {
    "collapsed": false
   },
   "outputs": [],
   "source": [
    "a = 0.001\n",
    "b = 10\n",
    "N = 1000\n",
    "q = 1\n",
    "\n",
    "x = np.linspace(a,b,N)\n",
    "y = np.exp(-q*x)/np.sqrt(x)\n",
    "\n",
    "plt.plot(x,y)\n",
    "spi.simps(y,x)"
   ]
  },
  {
   "cell_type": "code",
   "execution_count": null,
   "metadata": {
    "collapsed": false
   },
   "outputs": [],
   "source": [
    "np.sqrt(np.pi/q)"
   ]
  },
  {
   "cell_type": "markdown",
   "metadata": {},
   "source": [
    "### Using `quad`"
   ]
  },
  {
   "cell_type": "code",
   "execution_count": null,
   "metadata": {
    "collapsed": true
   },
   "outputs": [],
   "source": [
    "def f(x):\n",
    "    return np.exp(-q*x)/np.sqrt(x)"
   ]
  },
  {
   "cell_type": "code",
   "execution_count": null,
   "metadata": {
    "collapsed": false
   },
   "outputs": [],
   "source": [
    "spi.quad(f,0,np.inf)"
   ]
  },
  {
   "cell_type": "code",
   "execution_count": null,
   "metadata": {
    "collapsed": true
   },
   "outputs": [],
   "source": [
    "I , error = spi.quad(f,0,np.inf)"
   ]
  },
  {
   "cell_type": "code",
   "execution_count": null,
   "metadata": {
    "collapsed": false
   },
   "outputs": [],
   "source": [
    "I"
   ]
  },
  {
   "cell_type": "code",
   "execution_count": null,
   "metadata": {
    "collapsed": true
   },
   "outputs": [],
   "source": []
  }
 ],
 "metadata": {
  "kernelspec": {
   "display_name": "Python 3",
   "language": "python",
   "name": "python3"
  },
  "language_info": {
   "codemirror_mode": {
    "name": "ipython",
    "version": 3
   },
   "file_extension": ".py",
   "mimetype": "text/x-python",
   "name": "python",
   "nbconvert_exporter": "python",
   "pygments_lexer": "ipython3",
   "version": "3.5.2"
  }
 },
 "nbformat": 4,
 "nbformat_minor": 2
}
