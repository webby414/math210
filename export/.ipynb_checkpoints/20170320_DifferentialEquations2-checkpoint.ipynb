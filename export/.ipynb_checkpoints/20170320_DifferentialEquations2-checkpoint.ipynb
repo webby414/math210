{
 "cells": [
  {
   "cell_type": "markdown",
   "metadata": {},
   "source": [
    "# MATH 210 March 20, 2017"
   ]
  },
  {
   "cell_type": "code",
   "execution_count": null,
   "metadata": {
    "collapsed": true
   },
   "outputs": [],
   "source": [
    "import numpy as np\n",
    "import matplotlib.pyplot as plt\n",
    "%matplotlib inline\n",
    "import scipy.integrate as spi"
   ]
  },
  {
   "cell_type": "markdown",
   "metadata": {},
   "source": [
    "## I. Solving first order ODEs with SciPy\n",
    "\n",
    "The main ODE solver is `scipy.integrate.odeint` Last time, we saw that it takes at least 3 input parameters:\n",
    "\n",
    "1. a function `f` defining the right side of the first order differential equation $y'=f(y,t)$\n",
    "2. initial condition `y0`\n",
    "3. array `t` of t values where we solve $y(t)$"
   ]
  },
  {
   "cell_type": "markdown",
   "metadata": {},
   "source": [
    "### Example: $y'=y^2-t^2 \\ \\ y(0) = 1$"
   ]
  },
  {
   "cell_type": "code",
   "execution_count": null,
   "metadata": {
    "collapsed": false
   },
   "outputs": [],
   "source": [
    "def f(y,t):\n",
    "    return y**2 - t**2\n",
    "\n",
    "y0 = 1\n",
    "t = np.linspace(0,1,100)\n",
    "y = spi.odeint(f,y0,t)\n",
    "plt.plot(t,y);"
   ]
  },
  {
   "cell_type": "markdown",
   "metadata": {},
   "source": [
    "### Example: Logistic equation $y'=y(1-y) \\ \\ \\ y(0)=k_0$"
   ]
  },
  {
   "cell_type": "code",
   "execution_count": null,
   "metadata": {
    "collapsed": false
   },
   "outputs": [],
   "source": [
    "def f(y,t):\n",
    "    return y*(1-y)\n",
    "\n",
    "y0 = np.arange(0,2,0.2)\n",
    "t = np.linspace(0,5,100)\n",
    "\n",
    "for i in range(0,len(y0)):\n",
    "    y = spi.odeint(f,y0[i],t)\n",
    "    plt.plot(t,y,'b')\n",
    "    \n",
    "for y00 in [-0.005, -0.004, -0.003, -0.002, -0.001]:\n",
    "    y = spi.odeint(f,y00,t)\n",
    "    plt.plot(t,y,'b')"
   ]
  },
  {
   "cell_type": "markdown",
   "metadata": {},
   "source": [
    "## II. Solving Second Order ODEs in SciPy\n",
    "\n",
    "All numerical ODE solvers require the user to write thier equations as a system of first order differential equations. Introduce a new variable for each derivative of the unknown function(s) up to one less than the order of the equation.\n",
    "\n",
    "For example, if we have the second order equation $y'' + y = 0$ then we introduce two new variables $u_1$ and $u_2$ for $y$ and $y'$.\n",
    "\n",
    "\\begin{align}\n",
    "u_0 & = y \\\\\n",
    "u_1 & = y'\n",
    "\\end{align}\n",
    "\n",
    "\\begin{align}\n",
    "u_0' & = u_1 \\\\\n",
    "u_1' & = -u_0\n",
    "\\end{align}\n",
    "\n",
    "$$\n",
    "\\frac{d\\mathbf{u}}{dt} = \\mathbf{f}(\\mathbf{u},t)\n",
    "$$\n",
    "\n",
    "where $\\mathbf{u} = \\begin{bmatrix} u_0 \\\\ u_1 \\end{bmatrix}$\n",
    "$$\n",
    "\\mathbf{f}(\\mathbf{u},t) = \\begin{bmatrix} u_1 \\\\ -u_0\\end{bmatrix}\n",
    "$$"
   ]
  },
  {
   "cell_type": "code",
   "execution_count": null,
   "metadata": {
    "collapsed": true
   },
   "outputs": [],
   "source": [
    "def f(u,t):\n",
    "    return np.array([  u[1], -u[0]   ])\n",
    "u0 = np.array([0,1])\n",
    "t = np.linspace(0,2*np.pi,100)\n",
    "u = spi.odeint(f,u0,t)"
   ]
  },
  {
   "cell_type": "code",
   "execution_count": null,
   "metadata": {
    "collapsed": false
   },
   "outputs": [],
   "source": [
    "u.shape"
   ]
  },
  {
   "cell_type": "code",
   "execution_count": null,
   "metadata": {
    "collapsed": false
   },
   "outputs": [],
   "source": [
    "plt.plot(t,u[:,0])"
   ]
  },
  {
   "cell_type": "markdown",
   "metadata": {},
   "source": [
    "### Example: $y'' + 4y = \\sin(2t) \\ \\ y(0)=y'(0)=0$"
   ]
  },
  {
   "cell_type": "code",
   "execution_count": null,
   "metadata": {
    "collapsed": false
   },
   "outputs": [],
   "source": [
    "def f(u,t):\n",
    "    return np.array([ u[1], np.sin(2*t) - 4*u[0]])\n",
    "u0 = np.array([0,0])\n",
    "t = np.linspace(0,20,100)\n",
    "u = spi.odeint(f,u0,t)\n",
    "plt.plot(t,u[:.0])"
   ]
  },
  {
   "cell_type": "code",
   "execution_count": null,
   "metadata": {
    "collapsed": true
   },
   "outputs": [],
   "source": []
  }
 ],
 "metadata": {
  "kernelspec": {
   "display_name": "Python 3",
   "language": "python",
   "name": "python3"
  },
  "language_info": {
   "codemirror_mode": {
    "name": "ipython",
    "version": 3
   },
   "file_extension": ".py",
   "mimetype": "text/x-python",
   "name": "python",
   "nbconvert_exporter": "python",
   "pygments_lexer": "ipython3",
   "version": "3.5.2"
  }
 },
 "nbformat": 4,
 "nbformat_minor": 2
}
