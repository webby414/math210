{
 "cells": [
  {
   "cell_type": "markdown",
   "metadata": {
    "deletable": true,
    "editable": true
   },
   "source": [
    "# MATH 210 March 17 2017\n",
    "\n",
    "Agenda:\n",
    "* Solving Differential equations with scipy.integrate.odeint"
   ]
  },
  {
   "cell_type": "code",
   "execution_count": null,
   "metadata": {
    "collapsed": true,
    "deletable": true,
    "editable": true
   },
   "outputs": [],
   "source": [
    "import numpy as np\n",
    "import matplotlib.pyplot as plt\n",
    "%matplotlib inline"
   ]
  },
  {
   "cell_type": "markdown",
   "metadata": {
    "deletable": true,
    "editable": true
   },
   "source": [
    "## Solving Differential Equations with `scipy.integrate.odeint`\n",
    "A differential equation is an equation involving an unknown functin $y(t)$ and its derivatives $y'(t), y''(t)$\n",
    "\n",
    "For example $y(t)= sin(t)$ is a solution to the second order differential equation $y'' + y = 0$\n",
    "\n",
    "The order of a differential equation is the highest order derivative of the unknown function $y$ which appears in the equation. The above function $y'' + y = 0$ is a second order derivative.\n",
    "\n",
    "A differential equation is linear if it only involves $y$ and its derivatives on their own. For example, $y''' +3y'' + y = sin(t)$ is a linear equation but $y' + y^2 = 0$ and $y'' +sin(y) = 0$ are non linear.\n",
    "\n",
    "Solving nonlinear differential equations explicitly is usually impossible, but we can always approximate solutions numerically."
   ]
  },
  {
   "cell_type": "markdown",
   "metadata": {
    "deletable": true,
    "editable": true
   },
   "source": [
    "### `odeint`\n",
    "\n",
    "The main ODE (ordinary differential equation) solver in SciPy is `scipy.integrate.odeint`."
   ]
  },
  {
   "cell_type": "code",
   "execution_count": null,
   "metadata": {
    "collapsed": true,
    "deletable": true,
    "editable": true
   },
   "outputs": [],
   "source": [
    "import scipy.integrate as spi"
   ]
  },
  {
   "cell_type": "code",
   "execution_count": null,
   "metadata": {
    "collapsed": true,
    "deletable": true,
    "editable": true
   },
   "outputs": [],
   "source": [
    "spi.odeint?"
   ]
  },
  {
   "cell_type": "markdown",
   "metadata": {
    "deletable": true,
    "editable": true
   },
   "source": [
    "### Example $y'=y , y(0)=1$"
   ]
  },
  {
   "cell_type": "code",
   "execution_count": null,
   "metadata": {
    "collapsed": false,
    "deletable": true,
    "editable": true
   },
   "outputs": [],
   "source": [
    "# function representing the right side of y'=f(y,t)\n",
    "\n",
    "def f(y,t):\n",
    "    return y\n",
    "\n",
    "y0 = 1\n",
    "\n",
    "t = np.linspace(0,2,100)\n",
    "y = spi.odeint(f,y0,t)\n",
    "plt.plot(t,y, 'r.', t, np.exp(t));"
   ]
  },
  {
   "cell_type": "markdown",
   "metadata": {
    "deletable": true,
    "editable": true
   },
   "source": [
    "### Example $y'=\\sin(y) , y(0)=1$"
   ]
  },
  {
   "cell_type": "code",
   "execution_count": null,
   "metadata": {
    "collapsed": false,
    "deletable": true,
    "editable": true
   },
   "outputs": [],
   "source": [
    "from sympy import Symbol, sin"
   ]
  },
  {
   "cell_type": "code",
   "execution_count": null,
   "metadata": {
    "collapsed": true,
    "deletable": true,
    "editable": true
   },
   "outputs": [],
   "source": [
    "y = Symbol('y')\n",
    "f = 1/sin(y)"
   ]
  },
  {
   "cell_type": "code",
   "execution_count": null,
   "metadata": {
    "collapsed": true,
    "deletable": true,
    "editable": true
   },
   "outputs": [],
   "source": [
    "from sympy.integrals import integrate"
   ]
  },
  {
   "cell_type": "code",
   "execution_count": null,
   "metadata": {
    "collapsed": false,
    "deletable": true,
    "editable": true
   },
   "outputs": [],
   "source": [
    "integrate(f,y)"
   ]
  },
  {
   "cell_type": "code",
   "execution_count": null,
   "metadata": {
    "collapsed": false,
    "deletable": true,
    "editable": true
   },
   "outputs": [],
   "source": [
    "def f(y,t):\n",
    "    return sin(y)\n",
    "\n",
    "y0 = 1\n",
    "\n",
    "t = np.linspace(0,4*np.pi,100)\n",
    "y = spi.odeint(f,y0,t)\n",
    "# Y = np.log(abs(np.tan(x/2)))\n",
    "\n",
    "plt.plot(t,y,'r.', t,Y)"
   ]
  },
  {
   "cell_type": "markdown",
   "metadata": {
    "deletable": true,
    "editable": true
   },
   "source": [
    "### Example: $y'=\\sin(t) + \\cos(2t) , y(0)=1$"
   ]
  },
  {
   "cell_type": "code",
   "execution_count": null,
   "metadata": {
    "collapsed": true,
    "deletable": true,
    "editable": true
   },
   "outputs": [],
   "source": [
    "def f(y,t):\n",
    "    return np.sin(t) + np.cos(2*t)\n",
    "\n",
    "y0=1\n",
    "t= np.linspace"
   ]
  }
 ],
 "metadata": {
  "kernelspec": {
   "display_name": "Python 3",
   "language": "python",
   "name": "python3"
  },
  "language_info": {
   "codemirror_mode": {
    "name": "ipython",
    "version": 3
   },
   "file_extension": ".py",
   "mimetype": "text/x-python",
   "name": "python",
   "nbconvert_exporter": "python",
   "pygments_lexer": "ipython3",
   "version": "3.5.2"
  }
 },
 "nbformat": 4,
 "nbformat_minor": 2
}
