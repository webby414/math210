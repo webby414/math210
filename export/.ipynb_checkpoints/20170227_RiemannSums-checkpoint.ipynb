{
 "cells": [
  {
   "cell_type": "markdown",
   "metadata": {},
   "source": [
    "# MATH 210 February 27, 2017\n",
    "\n",
    "Agenda\n",
    "1. Aproximating definite integrals\n",
    "    * Riemann sums\n",
    "    * Trapezoid rule\n",
    "2. Approximating integrals with scipy.integrate\n",
    "    * `traps`\n",
    "    * `simps`\n",
    "    * `quad`\n",
    "3. Excercieses"
   ]
  },
  {
   "cell_type": "code",
   "execution_count": null,
   "metadata": {
    "collapsed": true
   },
   "outputs": [],
   "source": [
    "import numpy as np"
   ]
  },
  {
   "cell_type": "markdown",
   "metadata": {},
   "source": [
    "## I. Approximating Definite Integrals\n",
    "\n",
    "The definite integral of a ffunction $f(x)$ over the interval $[a,b]$ is defined as a limite of Riemann sums:\n",
    "\n",
    "$$\n",
    "\\int_a^b f(x) \\, dx = \\lim_{n \\to \\infty} \\sum_{i=1}^n f(x_i^*)(x_i - x_{i-1})\n",
    "$$"
   ]
  },
  {
   "cell_type": "code",
   "execution_count": null,
   "metadata": {
    "collapsed": false
   },
   "outputs": [],
   "source": [
    "def riemann_sum(f,a,b,n,method=\"midpoint\"):\n",
    "    '''Compute the riemann sum of f(x) over the interval [a,b]\n",
    "    using a patition with n subintervals of equal length \n",
    "    \n",
    "    INPUT:\n",
    "        f (function) : Vectorized function of one variable\n",
    "        a,b (numbers) : Defines the interval [a,b]\n",
    "        method (str) : Determine the kind of Riemann sum\n",
    "            right : Riemann sum using right endpoints\n",
    "            left ; Riemann sum using left endpoints\n",
    "            midpoint (default) : Riemann sum using midpoints\n",
    "    OUTPUT: \n",
    "        Value of the Riemann sum (number)\n",
    "    '''\n",
    "    ## note we can set deault variable... midpoint\n",
    "    \n",
    "    # setting the length of each sub interval\n",
    "    dx = (b-a)/n\n",
    "    \n",
    "    # array of endpoints\n",
    "    x = np.linspace(a,b,n+1)\n",
    "    \n",
    "    if method == \"left\":\n",
    "        # computes the left Riemann sums\n",
    "        \n",
    "        # adjusting x to obtain an array of left inpoints\n",
    "        x = x[0:-1]\n",
    "        \n",
    "        return np.sum(f(x)*dx)\n",
    "        \n",
    "    if method == \"right\":\n",
    "        # computes the right Riemann sums\n",
    "        \n",
    "        # adjusting x to obtain an array of right inpoints\n",
    "        x = x[1:]\n",
    "        \n",
    "        return np.sum(f(x)*dx)\n",
    "        \n",
    "    elif method == \"midpoint\":\n",
    "        # compute Riemann sum with midpoints\n",
    "        \n",
    "        # array of midpoints\n",
    "        x = (x[0:-1] + x[1:])/2    # or x = x[0:-1] + dx/2\n",
    "        return np.sum(f(x)*dx)\n",
    "    \n",
    "    else:\n",
    "        # unknown method\n",
    "        \n",
    "        print('Method ', method, ' undefined')\n",
    "        return None"
   ]
  },
  {
   "cell_type": "code",
   "execution_count": null,
   "metadata": {
    "collapsed": false
   },
   "outputs": [],
   "source": [
    "riemann_sum(np.sin,0,np.pi/2,10000000)"
   ]
  },
  {
   "cell_type": "code",
   "execution_count": null,
   "metadata": {
    "collapsed": false
   },
   "outputs": [],
   "source": [
    "riemann_sum(np.sin,0,np.pi/2,10000000, \"right\")"
   ]
  },
  {
   "cell_type": "code",
   "execution_count": null,
   "metadata": {
    "collapsed": true
   },
   "outputs": [],
   "source": [
    "def fun(x):\n",
    "    return x"
   ]
  },
  {
   "cell_type": "code",
   "execution_count": null,
   "metadata": {
    "collapsed": false
   },
   "outputs": [],
   "source": [
    "riemann_sum(fun, 0, 1, 100)"
   ]
  },
  {
   "cell_type": "code",
   "execution_count": null,
   "metadata": {
    "collapsed": false
   },
   "outputs": [],
   "source": [
    "1/2**0.5 * np.pi/2"
   ]
  },
  {
   "cell_type": "code",
   "execution_count": null,
   "metadata": {
    "collapsed": false
   },
   "outputs": [],
   "source": [
    "riemann_sum(np.cos, 0, np.pi/2, 1)"
   ]
  },
  {
   "cell_type": "markdown",
   "metadata": {},
   "source": [
    "## II. Integrate using scipy.integrate"
   ]
  },
  {
   "cell_type": "code",
   "execution_count": null,
   "metadata": {
    "collapsed": true
   },
   "outputs": [],
   "source": [
    "import scipy.integrate as spi"
   ]
  },
  {
   "cell_type": "code",
   "execution_count": null,
   "metadata": {
    "collapsed": false
   },
   "outputs": [],
   "source": [
    "spi.trapz?"
   ]
  },
  {
   "cell_type": "markdown",
   "metadata": {},
   "source": [
    "Let's approximate $\\int_o^\\pi e^{\\sin(x)} dx$"
   ]
  },
  {
   "cell_type": "code",
   "execution_count": null,
   "metadata": {
    "collapsed": true
   },
   "outputs": [],
   "source": [
    "x = np.linspace(0,np.pi,100)\n",
    "y = np.exp(np.sin(x))"
   ]
  },
  {
   "cell_type": "code",
   "execution_count": null,
   "metadata": {
    "collapsed": false
   },
   "outputs": [],
   "source": [
    "spi.trapz(y,x)"
   ]
  },
  {
   "cell_type": "markdown",
   "metadata": {},
   "source": [
    "Verifying\n",
    "$$\n",
    "\\int_{-\\infty}^{\\infty} e^{-x^2} dx = \\sqrt{x}\n",
    "$$"
   ]
  },
  {
   "cell_type": "code",
   "execution_count": null,
   "metadata": {
    "collapsed": false
   },
   "outputs": [],
   "source": [
    "x = np.linspace(-1000, 1000, 2000000)\n",
    "y = np.exp(-x**2)\n",
    "spi.trapz(y,x)"
   ]
  },
  {
   "cell_type": "code",
   "execution_count": null,
   "metadata": {
    "collapsed": true
   },
   "outputs": [],
   "source": []
  }
 ],
 "metadata": {
  "kernelspec": {
   "display_name": "Python 3",
   "language": "python",
   "name": "python3"
  },
  "language_info": {
   "codemirror_mode": {
    "name": "ipython",
    "version": 3
   },
   "file_extension": ".py",
   "mimetype": "text/x-python",
   "name": "python",
   "nbconvert_exporter": "python",
   "pygments_lexer": "ipython3",
   "version": "3.5.2"
  }
 },
 "nbformat": 4,
 "nbformat_minor": 2
}
